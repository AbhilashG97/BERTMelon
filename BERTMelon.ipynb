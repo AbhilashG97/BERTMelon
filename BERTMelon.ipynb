{
 "cells": [
  {
   "cell_type": "markdown",
   "metadata": {
    "colab_type": "text",
    "id": "k6T2wiaeElMW"
   },
   "source": [
    "# BERT Melon"
   ]
  },
  {
   "cell_type": "markdown",
   "metadata": {
    "colab_type": "text",
    "id": "REHlFBtgY7lK"
   },
   "source": [
    "## Project Imports"
   ]
  },
  {
   "cell_type": "code",
   "execution_count": 1,
   "metadata": {
    "colab": {},
    "colab_type": "code",
    "id": "kMl2MYsqXrN3"
   },
   "outputs": [],
   "source": [
    "from sklearn.model_selection import train_test_split\n",
    "import pandas as pd\n",
    "import tensorflow as tf\n",
    "import tensorflow_hub as hub\n",
    "from datetime import datetime"
   ]
  },
  {
   "cell_type": "code",
   "execution_count": 2,
   "metadata": {
    "colab": {},
    "colab_type": "code",
    "id": "RM1Q4cHUX7wW"
   },
   "outputs": [
    {
     "name": "stdout",
     "output_type": "stream",
     "text": [
      "Defaulting to user installation because normal site-packages is not writeable\n",
      "Requirement already satisfied: bert-tensorflow in /home/himmeldreng/.local/lib/python3.7/site-packages (1.0.1)\n",
      "Requirement already satisfied: six in /usr/lib/python3/dist-packages (from bert-tensorflow) (1.12.0)\n"
     ]
    }
   ],
   "source": [
    "!pip install bert-tensorflow"
   ]
  },
  {
   "cell_type": "code",
   "execution_count": 3,
   "metadata": {
    "colab": {},
    "colab_type": "code",
    "id": "-CuK-iZhX-9U"
   },
   "outputs": [
    {
     "name": "stdout",
     "output_type": "stream",
     "text": [
      "WARNING:tensorflow:From /home/himmeldreng/.local/lib/python3.7/site-packages/bert/optimization.py:87: The name tf.train.Optimizer is deprecated. Please use tf.compat.v1.train.Optimizer instead.\n",
      "\n"
     ]
    }
   ],
   "source": [
    "import bert\n",
    "from bert import run_classifier\n",
    "from bert import optimization\n",
    "from bert import tokenization"
   ]
  },
  {
   "cell_type": "code",
   "execution_count": 4,
   "metadata": {
    "colab": {},
    "colab_type": "code",
    "id": "cTLN1RDfYAuA"
   },
   "outputs": [],
   "source": [
    "import pandas as pd\n",
    "import numpy as np\n",
    "from sklearn.model_selection import train_test_split"
   ]
  },
  {
   "cell_type": "markdown",
   "metadata": {
    "colab_type": "text",
    "id": "rOWZIFYGZEwv"
   },
   "source": [
    "## Loading the dataset"
   ]
  },
  {
   "cell_type": "code",
   "execution_count": 5,
   "metadata": {
    "colab": {},
    "colab_type": "code",
    "id": "0DFEk73hYjDi"
   },
   "outputs": [
    {
     "name": "stdout",
     "output_type": "stream",
     "text": [
      "(1257, 3)\n"
     ]
    },
    {
     "data": {
      "text/html": [
       "<div>\n",
       "<style scoped>\n",
       "    .dataframe tbody tr th:only-of-type {\n",
       "        vertical-align: middle;\n",
       "    }\n",
       "\n",
       "    .dataframe tbody tr th {\n",
       "        vertical-align: top;\n",
       "    }\n",
       "\n",
       "    .dataframe thead th {\n",
       "        text-align: right;\n",
       "    }\n",
       "</style>\n",
       "<table border=\"1\" class=\"dataframe\">\n",
       "  <thead>\n",
       "    <tr style=\"text-align: right;\">\n",
       "      <th></th>\n",
       "      <th>serial_no</th>\n",
       "      <th>tweets</th>\n",
       "      <th>sentiment</th>\n",
       "    </tr>\n",
       "  </thead>\n",
       "  <tbody>\n",
       "    <tr>\n",
       "      <th>0</th>\n",
       "      <td>sme_1</td>\n",
       "      <td>6-0 hahahahahaha har ek pakistani ko yeh pic d...</td>\n",
       "      <td>NAG</td>\n",
       "    </tr>\n",
       "    <tr>\n",
       "      <th>1</th>\n",
       "      <td>sme_2</td>\n",
       "      <td>@sardanarohit :While entire nation is praying ...</td>\n",
       "      <td>OAG</td>\n",
       "    </tr>\n",
       "    <tr>\n",
       "      <th>2</th>\n",
       "      <td>sme_3</td>\n",
       "      <td>shoaib: wahab riaz looks like johnson. kapil d...</td>\n",
       "      <td>NAG</td>\n",
       "    </tr>\n",
       "    <tr>\n",
       "      <th>3</th>\n",
       "      <td>sme_4</td>\n",
       "      <td>ramraj cottons r. ashwin southindian , chennai...</td>\n",
       "      <td>NAG</td>\n",
       "    </tr>\n",
       "    <tr>\n",
       "      <th>4</th>\n",
       "      <td>sme_5</td>\n",
       "      <td>#indvsuae jeet gaye... :) :) cmon starsports n...</td>\n",
       "      <td>NAG</td>\n",
       "    </tr>\n",
       "    <tr>\n",
       "      <th>5</th>\n",
       "      <td>sme_6</td>\n",
       "      <td>tt india 08:24 1.#indvspak 2.#mustwatchmsg 3.#...</td>\n",
       "      <td>NAG</td>\n",
       "    </tr>\n",
       "    <tr>\n",
       "      <th>6</th>\n",
       "      <td>sme_7</td>\n",
       "      <td>#shutdownjnu over democratic setup feeds these...</td>\n",
       "      <td>CAG</td>\n",
       "    </tr>\n",
       "    <tr>\n",
       "      <th>7</th>\n",
       "      <td>sme_8</td>\n",
       "      <td>umesh strikes double !!! uae 102/10 #bleedblue...</td>\n",
       "      <td>NAG</td>\n",
       "    </tr>\n",
       "    <tr>\n",
       "      <th>8</th>\n",
       "      <td>sme_9</td>\n",
       "      <td>bwahahahaha my last rt!!! 😂😂😂😂😂😂😂😂😂 #indvsuae</td>\n",
       "      <td>NAG</td>\n",
       "    </tr>\n",
       "    <tr>\n",
       "      <th>9</th>\n",
       "      <td>sme_10</td>\n",
       "      <td>Is JNU - Jihadi Nurturing University! #ShutDow...</td>\n",
       "      <td>OAG</td>\n",
       "    </tr>\n",
       "    <tr>\n",
       "      <th>10</th>\n",
       "      <td>sme_11</td>\n",
       "      <td>puli ra vaaduuu..puli. 100 for kohli. king koh...</td>\n",
       "      <td>NAG</td>\n",
       "    </tr>\n",
       "    <tr>\n",
       "      <th>11</th>\n",
       "      <td>sme_12</td>\n",
       "      <td>@rahulkanwal quite natural hain jee :p...#chak...</td>\n",
       "      <td>NAG</td>\n",
       "    </tr>\n",
       "    <tr>\n",
       "      <th>12</th>\n",
       "      <td>sme_13</td>\n",
       "      <td>what a time to be alive ? #indvsuae is not eve...</td>\n",
       "      <td>CAG</td>\n",
       "    </tr>\n",
       "    <tr>\n",
       "      <th>13</th>\n",
       "      <td>sme_14</td>\n",
       "      <td>pak india pak k pehli wicket 11 runs p ger gae...</td>\n",
       "      <td>NAG</td>\n",
       "    </tr>\n",
       "    <tr>\n",
       "      <th>14</th>\n",
       "      <td>sme_15</td>\n",
       "      <td>trending india:12:10 pm ist 1. #ausvnz 2. #sup...</td>\n",
       "      <td>NAG</td>\n",
       "    </tr>\n",
       "  </tbody>\n",
       "</table>\n",
       "</div>"
      ],
      "text/plain": [
       "   serial_no                                             tweets sentiment\n",
       "0      sme_1  6-0 hahahahahaha har ek pakistani ko yeh pic d...       NAG\n",
       "1      sme_2  @sardanarohit :While entire nation is praying ...       OAG\n",
       "2      sme_3  shoaib: wahab riaz looks like johnson. kapil d...       NAG\n",
       "3      sme_4  ramraj cottons r. ashwin southindian , chennai...       NAG\n",
       "4      sme_5  #indvsuae jeet gaye... :) :) cmon starsports n...       NAG\n",
       "5      sme_6  tt india 08:24 1.#indvspak 2.#mustwatchmsg 3.#...       NAG\n",
       "6      sme_7  #shutdownjnu over democratic setup feeds these...       CAG\n",
       "7      sme_8  umesh strikes double !!! uae 102/10 #bleedblue...       NAG\n",
       "8      sme_9      bwahahahaha my last rt!!! 😂😂😂😂😂😂😂😂😂 #indvsuae       NAG\n",
       "9     sme_10  Is JNU - Jihadi Nurturing University! #ShutDow...       OAG\n",
       "10    sme_11  puli ra vaaduuu..puli. 100 for kohli. king koh...       NAG\n",
       "11    sme_12  @rahulkanwal quite natural hain jee :p...#chak...       NAG\n",
       "12    sme_13  what a time to be alive ? #indvsuae is not eve...       CAG\n",
       "13    sme_14  pak india pak k pehli wicket 11 runs p ger gae...       NAG\n",
       "14    sme_15  trending india:12:10 pm ist 1. #ausvnz 2. #sup...       NAG"
      ]
     },
     "execution_count": 5,
     "metadata": {},
     "output_type": "execute_result"
    }
   ],
   "source": [
    "df = pd.read_csv('data/agr_en_tw_gold.csv', names=['serial_no', 'tweets', 'sentiment'])\n",
    "print(df.shape)\n",
    "df.head(15)"
   ]
  },
  {
   "cell_type": "code",
   "execution_count": 6,
   "metadata": {
    "colab": {},
    "colab_type": "code",
    "id": "xM9X8fjz_T1z"
   },
   "outputs": [
    {
     "data": {
      "text/plain": [
       "array(['NAG', 'OAG', 'CAG'], dtype=object)"
      ]
     },
     "execution_count": 6,
     "metadata": {},
     "output_type": "execute_result"
    }
   ],
   "source": [
    "df['sentiment'].unique()"
   ]
  },
  {
   "cell_type": "markdown",
   "metadata": {
    "colab_type": "text",
    "id": "OZ-lZKz9JijZ"
   },
   "source": [
    "The aggression is categorized into different classes which are as follows - \n",
    "\n",
    "1. Aggression: It is a human behavior intended to harm another by verbally, physically and\n",
    "psychologically. Overtly Aggressive (OAG): This class includes the following cases.\n",
    "(a) Aggression shown openly with verbal attack directly pointed towards any group or\n",
    "individuals.\n",
    "(b) Attack commenced using abusive words or calling names or comparing in a derogatory\n",
    "manner.\n",
    "(c) By supporting false attack or supporting others comment.\n",
    "(d) Sometimes these texts also contain indirect references.\n",
    "2. Covertly Aggressive (CAG): In these attacks aggression is generally hidden and contains\n",
    "sarcastic negative emotions due to its indirect nature. It can be summarized as follows.\n",
    "(a) By using metaphorical words to attack an individual,nation,religion.\n",
    "(b) Praising someone by criticizing group irrespective of being right or wrong.\n",
    "(c) Sometimes these texts also contain direct references.\n",
    "3. Non Aggressive (NAG): These statements generally lack the intention to be aggressive\n",
    "and mostly used while referring to the correct facts, wishing or supporting individuals or\n",
    "groups on social issues."
   ]
  },
  {
   "cell_type": "code",
   "execution_count": 7,
   "metadata": {
    "colab": {},
    "colab_type": "code",
    "id": "Ts4fwSgZ-kC5"
   },
   "outputs": [],
   "source": [
    "integer_mapping = {'NAG' : 0, 'OAG' : 1, 'CAG' : 2}\n",
    "df = df.replace({'sentiment' : integer_mapping})"
   ]
  },
  {
   "cell_type": "code",
   "execution_count": 8,
   "metadata": {
    "colab": {},
    "colab_type": "code",
    "id": "su-USV8t_l95"
   },
   "outputs": [
    {
     "data": {
      "text/plain": [
       "array([0, 1, 2])"
      ]
     },
     "execution_count": 8,
     "metadata": {},
     "output_type": "execute_result"
    }
   ],
   "source": [
    "df['sentiment'].unique()"
   ]
  },
  {
   "cell_type": "code",
   "execution_count": 9,
   "metadata": {
    "colab": {},
    "colab_type": "code",
    "id": "U940y_shYzRQ"
   },
   "outputs": [],
   "source": [
    "train, test = train_test_split(df, test_size=0.2, random_state=42)"
   ]
  },
  {
   "cell_type": "markdown",
   "metadata": {
    "colab_type": "text",
    "id": "9O2rWGAIZMCR"
   },
   "source": [
    "## Data Preprocessing"
   ]
  },
  {
   "cell_type": "code",
   "execution_count": 10,
   "metadata": {
    "colab": {},
    "colab_type": "code",
    "id": "tj2YKcnSdDmk"
   },
   "outputs": [
    {
     "name": "stdout",
     "output_type": "stream",
     "text": [
      "[0 1 2]\n"
     ]
    }
   ],
   "source": [
    "DATA_COLUMN = 'tweets'\n",
    "LABEL_COLUMN = 'sentiment'\n",
    "label_list = df['sentiment'].unique() # Use the InputExample class from BERT's run_classifier code to create examples from the data\n",
    "print(label_list)"
   ]
  },
  {
   "cell_type": "code",
   "execution_count": 11,
   "metadata": {
    "colab": {},
    "colab_type": "code",
    "id": "U_xS_FUXDYiZ"
   },
   "outputs": [],
   "source": [
    "train_InputExamples = train.apply(lambda x: bert.run_classifier.InputExample(guid=None, # Globally unique ID for bookkeeping, unused in this example\n",
    "                                                                   text_a = x[DATA_COLUMN], \n",
    "                                                                   text_b = None, \n",
    "                                                                   label = x[LABEL_COLUMN]), axis = 1)\n",
    "\n",
    "test_InputExamples = test.apply(lambda x: bert.run_classifier.InputExample(guid=None, \n",
    "                                                                   text_a = x[DATA_COLUMN], \n",
    "                                                                   text_b = None, \n",
    "                                                                   label = x[LABEL_COLUMN]), axis = 1)"
   ]
  },
  {
   "cell_type": "code",
   "execution_count": 12,
   "metadata": {
    "colab": {},
    "colab_type": "code",
    "id": "OVRUJeGp0XB1"
   },
   "outputs": [
    {
     "name": "stdout",
     "output_type": "stream",
     "text": [
      "INFO:tensorflow:Saver not created because there are no variables in the graph to restore\n"
     ]
    },
    {
     "name": "stderr",
     "output_type": "stream",
     "text": [
      "INFO:tensorflow:Saver not created because there are no variables in the graph to restore\n"
     ]
    },
    {
     "name": "stdout",
     "output_type": "stream",
     "text": [
      "WARNING:tensorflow:From /home/himmeldreng/.local/lib/python3.7/site-packages/bert/tokenization.py:125: The name tf.gfile.GFile is deprecated. Please use tf.io.gfile.GFile instead.\n",
      "\n"
     ]
    },
    {
     "name": "stderr",
     "output_type": "stream",
     "text": [
      "WARNING:tensorflow:From /home/himmeldreng/.local/lib/python3.7/site-packages/bert/tokenization.py:125: The name tf.gfile.GFile is deprecated. Please use tf.io.gfile.GFile instead.\n",
      "\n"
     ]
    }
   ],
   "source": [
    "# This is a path to an uncased (all lowercase) version of BERT\n",
    "BERT_MODEL_HUB = \"https://tfhub.dev/google/bert_uncased_L-12_H-768_A-12/1\"\n",
    "\n",
    "\n",
    "def create_tokenizer_from_hub_module():\n",
    "    \"\"\"Get the vocab file and casing info from the Hub module.\"\"\"\n",
    "    with tf.Graph().as_default():\n",
    "        bert_module = hub.Module(BERT_MODEL_HUB)\n",
    "        tokenization_info = bert_module(\n",
    "            signature=\"tokenization_info\", as_dict=True)\n",
    "        with tf.Session() as sess:\n",
    "            vocab_file, do_lower_case = sess.run([tokenization_info[\"vocab_file\"],\n",
    "                                                  tokenization_info[\"do_lower_case\"]])\n",
    "\n",
    "    return bert.tokenization.FullTokenizer(\n",
    "        vocab_file=vocab_file, do_lower_case=do_lower_case)\n",
    "\n",
    "\n",
    "tokenizer = create_tokenizer_from_hub_module()"
   ]
  },
  {
   "cell_type": "code",
   "execution_count": 13,
   "metadata": {
    "colab": {},
    "colab_type": "code",
    "id": "OaXnfPzv0gg5"
   },
   "outputs": [
    {
     "data": {
      "text/plain": [
       "['mis',\n",
       " '##bah',\n",
       " 'ka',\n",
       " '##pr',\n",
       " '##aan',\n",
       " 'hai',\n",
       " 'jo',\n",
       " 'ab',\n",
       " '##hi',\n",
       " 'tak',\n",
       " 'century',\n",
       " 'nah',\n",
       " '##i',\n",
       " 'l',\n",
       " '##ga',\n",
       " 'pay',\n",
       " '##a',\n",
       " 'ha',\n",
       " '##ha',\n",
       " '#',\n",
       " 'ind',\n",
       " '##win',\n",
       " '##s',\n",
       " '#',\n",
       " 'ind',\n",
       " '##vs',\n",
       " '##pa',\n",
       " '##k']"
      ]
     },
     "execution_count": 13,
     "metadata": {},
     "output_type": "execute_result"
    }
   ],
   "source": [
    "tokenizer.tokenize(train['tweets'].iloc[0])"
   ]
  },
  {
   "cell_type": "code",
   "execution_count": 14,
   "metadata": {
    "colab": {},
    "colab_type": "code",
    "id": "GkowaJrV0iq6"
   },
   "outputs": [
    {
     "name": "stdout",
     "output_type": "stream",
     "text": [
      "WARNING:tensorflow:From /home/himmeldreng/.local/lib/python3.7/site-packages/bert/run_classifier.py:774: The name tf.logging.info is deprecated. Please use tf.compat.v1.logging.info instead.\n",
      "\n"
     ]
    },
    {
     "name": "stderr",
     "output_type": "stream",
     "text": [
      "WARNING:tensorflow:From /home/himmeldreng/.local/lib/python3.7/site-packages/bert/run_classifier.py:774: The name tf.logging.info is deprecated. Please use tf.compat.v1.logging.info instead.\n",
      "\n"
     ]
    },
    {
     "name": "stdout",
     "output_type": "stream",
     "text": [
      "INFO:tensorflow:Writing example 0 of 1005\n"
     ]
    },
    {
     "name": "stderr",
     "output_type": "stream",
     "text": [
      "INFO:tensorflow:Writing example 0 of 1005\n"
     ]
    },
    {
     "name": "stdout",
     "output_type": "stream",
     "text": [
      "INFO:tensorflow:*** Example ***\n"
     ]
    },
    {
     "name": "stderr",
     "output_type": "stream",
     "text": [
      "INFO:tensorflow:*** Example ***\n"
     ]
    },
    {
     "name": "stdout",
     "output_type": "stream",
     "text": [
      "INFO:tensorflow:guid: None\n"
     ]
    },
    {
     "name": "stderr",
     "output_type": "stream",
     "text": [
      "INFO:tensorflow:guid: None\n"
     ]
    },
    {
     "name": "stdout",
     "output_type": "stream",
     "text": [
      "INFO:tensorflow:tokens: [CLS] mis ##bah ka ##pr ##aan hai jo ab ##hi tak century nah ##i l ##ga pay ##a ha ##ha # ind ##win ##s # ind ##vs ##pa ##k [SEP]\n"
     ]
    },
    {
     "name": "stderr",
     "output_type": "stream",
     "text": [
      "INFO:tensorflow:tokens: [CLS] mis ##bah ka ##pr ##aan hai jo ab ##hi tak century nah ##i l ##ga pay ##a ha ##ha # ind ##win ##s # ind ##vs ##pa ##k [SEP]\n"
     ]
    },
    {
     "name": "stdout",
     "output_type": "stream",
     "text": [
      "INFO:tensorflow:input_ids: 101 28616 24206 10556 18098 14634 15030 8183 11113 4048 27006 2301 20976 2072 1048 3654 3477 2050 5292 3270 1001 27427 10105 2015 1001 27427 15088 4502 2243 102 0 0 0 0 0 0 0 0 0 0 0 0 0 0 0 0 0 0 0 0 0 0 0 0 0 0 0 0 0 0\n"
     ]
    },
    {
     "name": "stderr",
     "output_type": "stream",
     "text": [
      "INFO:tensorflow:input_ids: 101 28616 24206 10556 18098 14634 15030 8183 11113 4048 27006 2301 20976 2072 1048 3654 3477 2050 5292 3270 1001 27427 10105 2015 1001 27427 15088 4502 2243 102 0 0 0 0 0 0 0 0 0 0 0 0 0 0 0 0 0 0 0 0 0 0 0 0 0 0 0 0 0 0\n"
     ]
    },
    {
     "name": "stdout",
     "output_type": "stream",
     "text": [
      "INFO:tensorflow:input_mask: 1 1 1 1 1 1 1 1 1 1 1 1 1 1 1 1 1 1 1 1 1 1 1 1 1 1 1 1 1 1 0 0 0 0 0 0 0 0 0 0 0 0 0 0 0 0 0 0 0 0 0 0 0 0 0 0 0 0 0 0\n"
     ]
    },
    {
     "name": "stderr",
     "output_type": "stream",
     "text": [
      "INFO:tensorflow:input_mask: 1 1 1 1 1 1 1 1 1 1 1 1 1 1 1 1 1 1 1 1 1 1 1 1 1 1 1 1 1 1 0 0 0 0 0 0 0 0 0 0 0 0 0 0 0 0 0 0 0 0 0 0 0 0 0 0 0 0 0 0\n"
     ]
    },
    {
     "name": "stdout",
     "output_type": "stream",
     "text": [
      "INFO:tensorflow:segment_ids: 0 0 0 0 0 0 0 0 0 0 0 0 0 0 0 0 0 0 0 0 0 0 0 0 0 0 0 0 0 0 0 0 0 0 0 0 0 0 0 0 0 0 0 0 0 0 0 0 0 0 0 0 0 0 0 0 0 0 0 0\n"
     ]
    },
    {
     "name": "stderr",
     "output_type": "stream",
     "text": [
      "INFO:tensorflow:segment_ids: 0 0 0 0 0 0 0 0 0 0 0 0 0 0 0 0 0 0 0 0 0 0 0 0 0 0 0 0 0 0 0 0 0 0 0 0 0 0 0 0 0 0 0 0 0 0 0 0 0 0 0 0 0 0 0 0 0 0 0 0\n"
     ]
    },
    {
     "name": "stdout",
     "output_type": "stream",
     "text": [
      "INFO:tensorflow:label: 0 (id = 0)\n"
     ]
    },
    {
     "name": "stderr",
     "output_type": "stream",
     "text": [
      "INFO:tensorflow:label: 0 (id = 0)\n"
     ]
    },
    {
     "name": "stdout",
     "output_type": "stream",
     "text": [
      "INFO:tensorflow:*** Example ***\n"
     ]
    },
    {
     "name": "stderr",
     "output_type": "stream",
     "text": [
      "INFO:tensorflow:*** Example ***\n"
     ]
    },
    {
     "name": "stdout",
     "output_type": "stream",
     "text": [
      "INFO:tensorflow:guid: None\n"
     ]
    },
    {
     "name": "stderr",
     "output_type": "stream",
     "text": [
      "INFO:tensorflow:guid: None\n"
     ]
    },
    {
     "name": "stdout",
     "output_type": "stream",
     "text": [
      "INFO:tensorflow:tokens: [CLS] @ b ##du ##tt @ n ##dt ##v pak ##is never claimed arresting mas ##ood . diversion ##ary tactics aka ta ##qui ##yya , to def ##le ##ct attention away from j ##nu . # shut ##down ##jn ##u [SEP]\n"
     ]
    },
    {
     "name": "stderr",
     "output_type": "stream",
     "text": [
      "INFO:tensorflow:tokens: [CLS] @ b ##du ##tt @ n ##dt ##v pak ##is never claimed arresting mas ##ood . diversion ##ary tactics aka ta ##qui ##yya , to def ##le ##ct attention away from j ##nu . # shut ##down ##jn ##u [SEP]\n"
     ]
    },
    {
     "name": "stdout",
     "output_type": "stream",
     "text": [
      "INFO:tensorflow:input_ids: 101 1030 1038 8566 4779 1030 1050 11927 2615 22190 2483 2196 3555 28427 16137 17139 1012 20150 5649 9887 9875 11937 15549 19903 1010 2000 13366 2571 6593 3086 2185 2013 1046 11231 1012 1001 3844 7698 22895 2226 102 0 0 0 0 0 0 0 0 0 0 0 0 0 0 0 0 0 0 0\n"
     ]
    },
    {
     "name": "stderr",
     "output_type": "stream",
     "text": [
      "INFO:tensorflow:input_ids: 101 1030 1038 8566 4779 1030 1050 11927 2615 22190 2483 2196 3555 28427 16137 17139 1012 20150 5649 9887 9875 11937 15549 19903 1010 2000 13366 2571 6593 3086 2185 2013 1046 11231 1012 1001 3844 7698 22895 2226 102 0 0 0 0 0 0 0 0 0 0 0 0 0 0 0 0 0 0 0\n"
     ]
    },
    {
     "name": "stdout",
     "output_type": "stream",
     "text": [
      "INFO:tensorflow:input_mask: 1 1 1 1 1 1 1 1 1 1 1 1 1 1 1 1 1 1 1 1 1 1 1 1 1 1 1 1 1 1 1 1 1 1 1 1 1 1 1 1 1 0 0 0 0 0 0 0 0 0 0 0 0 0 0 0 0 0 0 0\n"
     ]
    },
    {
     "name": "stderr",
     "output_type": "stream",
     "text": [
      "INFO:tensorflow:input_mask: 1 1 1 1 1 1 1 1 1 1 1 1 1 1 1 1 1 1 1 1 1 1 1 1 1 1 1 1 1 1 1 1 1 1 1 1 1 1 1 1 1 0 0 0 0 0 0 0 0 0 0 0 0 0 0 0 0 0 0 0\n"
     ]
    },
    {
     "name": "stdout",
     "output_type": "stream",
     "text": [
      "INFO:tensorflow:segment_ids: 0 0 0 0 0 0 0 0 0 0 0 0 0 0 0 0 0 0 0 0 0 0 0 0 0 0 0 0 0 0 0 0 0 0 0 0 0 0 0 0 0 0 0 0 0 0 0 0 0 0 0 0 0 0 0 0 0 0 0 0\n"
     ]
    },
    {
     "name": "stderr",
     "output_type": "stream",
     "text": [
      "INFO:tensorflow:segment_ids: 0 0 0 0 0 0 0 0 0 0 0 0 0 0 0 0 0 0 0 0 0 0 0 0 0 0 0 0 0 0 0 0 0 0 0 0 0 0 0 0 0 0 0 0 0 0 0 0 0 0 0 0 0 0 0 0 0 0 0 0\n"
     ]
    },
    {
     "name": "stdout",
     "output_type": "stream",
     "text": [
      "INFO:tensorflow:label: 1 (id = 1)\n"
     ]
    },
    {
     "name": "stderr",
     "output_type": "stream",
     "text": [
      "INFO:tensorflow:label: 1 (id = 1)\n"
     ]
    },
    {
     "name": "stdout",
     "output_type": "stream",
     "text": [
      "INFO:tensorflow:*** Example ***\n"
     ]
    },
    {
     "name": "stderr",
     "output_type": "stream",
     "text": [
      "INFO:tensorflow:*** Example ***\n"
     ]
    },
    {
     "name": "stdout",
     "output_type": "stream",
     "text": [
      "INFO:tensorflow:guid: None\n"
     ]
    },
    {
     "name": "stderr",
     "output_type": "stream",
     "text": [
      "INFO:tensorflow:guid: None\n"
     ]
    },
    {
     "name": "stdout",
     "output_type": "stream",
     "text": [
      "INFO:tensorflow:tokens: [CLS] @ _ yo ##gen ##dra ##yad ##av @ prakash ##kara ##t ##4 ##pm why are you quite on de ##ga ##dation of your university image # shut ##down ##jn ##u pic . twitter . com / i ##ux ##ug ##d ##wg ##d ##k [SEP]\n"
     ]
    },
    {
     "name": "stderr",
     "output_type": "stream",
     "text": [
      "INFO:tensorflow:tokens: [CLS] @ _ yo ##gen ##dra ##yad ##av @ prakash ##kara ##t ##4 ##pm why are you quite on de ##ga ##dation of your university image # shut ##down ##jn ##u pic . twitter . com / i ##ux ##ug ##d ##wg ##d ##k [SEP]\n"
     ]
    },
    {
     "name": "stdout",
     "output_type": "stream",
     "text": [
      "INFO:tensorflow:input_ids: 101 1030 1035 10930 6914 7265 25152 11431 1030 22233 16566 2102 2549 9737 2339 2024 2017 3243 2006 2139 3654 20207 1997 2115 2118 3746 1001 3844 7698 22895 2226 27263 1012 10474 1012 4012 1013 1045 5602 15916 2094 27767 2094 2243 102 0 0 0 0 0 0 0 0 0 0 0 0 0 0 0\n"
     ]
    },
    {
     "name": "stderr",
     "output_type": "stream",
     "text": [
      "INFO:tensorflow:input_ids: 101 1030 1035 10930 6914 7265 25152 11431 1030 22233 16566 2102 2549 9737 2339 2024 2017 3243 2006 2139 3654 20207 1997 2115 2118 3746 1001 3844 7698 22895 2226 27263 1012 10474 1012 4012 1013 1045 5602 15916 2094 27767 2094 2243 102 0 0 0 0 0 0 0 0 0 0 0 0 0 0 0\n"
     ]
    },
    {
     "name": "stdout",
     "output_type": "stream",
     "text": [
      "INFO:tensorflow:input_mask: 1 1 1 1 1 1 1 1 1 1 1 1 1 1 1 1 1 1 1 1 1 1 1 1 1 1 1 1 1 1 1 1 1 1 1 1 1 1 1 1 1 1 1 1 1 0 0 0 0 0 0 0 0 0 0 0 0 0 0 0\n"
     ]
    },
    {
     "name": "stderr",
     "output_type": "stream",
     "text": [
      "INFO:tensorflow:input_mask: 1 1 1 1 1 1 1 1 1 1 1 1 1 1 1 1 1 1 1 1 1 1 1 1 1 1 1 1 1 1 1 1 1 1 1 1 1 1 1 1 1 1 1 1 1 0 0 0 0 0 0 0 0 0 0 0 0 0 0 0\n"
     ]
    },
    {
     "name": "stdout",
     "output_type": "stream",
     "text": [
      "INFO:tensorflow:segment_ids: 0 0 0 0 0 0 0 0 0 0 0 0 0 0 0 0 0 0 0 0 0 0 0 0 0 0 0 0 0 0 0 0 0 0 0 0 0 0 0 0 0 0 0 0 0 0 0 0 0 0 0 0 0 0 0 0 0 0 0 0\n"
     ]
    },
    {
     "name": "stderr",
     "output_type": "stream",
     "text": [
      "INFO:tensorflow:segment_ids: 0 0 0 0 0 0 0 0 0 0 0 0 0 0 0 0 0 0 0 0 0 0 0 0 0 0 0 0 0 0 0 0 0 0 0 0 0 0 0 0 0 0 0 0 0 0 0 0 0 0 0 0 0 0 0 0 0 0 0 0\n"
     ]
    },
    {
     "name": "stdout",
     "output_type": "stream",
     "text": [
      "INFO:tensorflow:label: 2 (id = 2)\n"
     ]
    },
    {
     "name": "stderr",
     "output_type": "stream",
     "text": [
      "INFO:tensorflow:label: 2 (id = 2)\n"
     ]
    },
    {
     "name": "stdout",
     "output_type": "stream",
     "text": [
      "INFO:tensorflow:*** Example ***\n"
     ]
    },
    {
     "name": "stderr",
     "output_type": "stream",
     "text": [
      "INFO:tensorflow:*** Example ***\n"
     ]
    },
    {
     "name": "stdout",
     "output_type": "stream",
     "text": [
      "INFO:tensorflow:guid: None\n"
     ]
    },
    {
     "name": "stderr",
     "output_type": "stream",
     "text": [
      "INFO:tensorflow:guid: None\n"
     ]
    },
    {
     "name": "stdout",
     "output_type": "stream",
     "text": [
      "INFO:tensorflow:tokens: [CLS] # shut ##down ##jn ##u so called left professor s in j ##nu , pl ##s leave this nation n form a camp in po ##k . . ur services r not required . [SEP]\n"
     ]
    },
    {
     "name": "stderr",
     "output_type": "stream",
     "text": [
      "INFO:tensorflow:tokens: [CLS] # shut ##down ##jn ##u so called left professor s in j ##nu , pl ##s leave this nation n form a camp in po ##k . . ur services r not required . [SEP]\n"
     ]
    },
    {
     "name": "stdout",
     "output_type": "stream",
     "text": [
      "INFO:tensorflow:input_ids: 101 1001 3844 7698 22895 2226 2061 2170 2187 2934 1055 1999 1046 11231 1010 20228 2015 2681 2023 3842 1050 2433 1037 3409 1999 13433 2243 1012 1012 24471 2578 1054 2025 3223 1012 102 0 0 0 0 0 0 0 0 0 0 0 0 0 0 0 0 0 0 0 0 0 0 0 0\n"
     ]
    },
    {
     "name": "stderr",
     "output_type": "stream",
     "text": [
      "INFO:tensorflow:input_ids: 101 1001 3844 7698 22895 2226 2061 2170 2187 2934 1055 1999 1046 11231 1010 20228 2015 2681 2023 3842 1050 2433 1037 3409 1999 13433 2243 1012 1012 24471 2578 1054 2025 3223 1012 102 0 0 0 0 0 0 0 0 0 0 0 0 0 0 0 0 0 0 0 0 0 0 0 0\n"
     ]
    },
    {
     "name": "stdout",
     "output_type": "stream",
     "text": [
      "INFO:tensorflow:input_mask: 1 1 1 1 1 1 1 1 1 1 1 1 1 1 1 1 1 1 1 1 1 1 1 1 1 1 1 1 1 1 1 1 1 1 1 1 0 0 0 0 0 0 0 0 0 0 0 0 0 0 0 0 0 0 0 0 0 0 0 0\n"
     ]
    },
    {
     "name": "stderr",
     "output_type": "stream",
     "text": [
      "INFO:tensorflow:input_mask: 1 1 1 1 1 1 1 1 1 1 1 1 1 1 1 1 1 1 1 1 1 1 1 1 1 1 1 1 1 1 1 1 1 1 1 1 0 0 0 0 0 0 0 0 0 0 0 0 0 0 0 0 0 0 0 0 0 0 0 0\n"
     ]
    },
    {
     "name": "stdout",
     "output_type": "stream",
     "text": [
      "INFO:tensorflow:segment_ids: 0 0 0 0 0 0 0 0 0 0 0 0 0 0 0 0 0 0 0 0 0 0 0 0 0 0 0 0 0 0 0 0 0 0 0 0 0 0 0 0 0 0 0 0 0 0 0 0 0 0 0 0 0 0 0 0 0 0 0 0\n"
     ]
    },
    {
     "name": "stderr",
     "output_type": "stream",
     "text": [
      "INFO:tensorflow:segment_ids: 0 0 0 0 0 0 0 0 0 0 0 0 0 0 0 0 0 0 0 0 0 0 0 0 0 0 0 0 0 0 0 0 0 0 0 0 0 0 0 0 0 0 0 0 0 0 0 0 0 0 0 0 0 0 0 0 0 0 0 0\n"
     ]
    },
    {
     "name": "stdout",
     "output_type": "stream",
     "text": [
      "INFO:tensorflow:label: 1 (id = 1)\n"
     ]
    },
    {
     "name": "stderr",
     "output_type": "stream",
     "text": [
      "INFO:tensorflow:label: 1 (id = 1)\n"
     ]
    },
    {
     "name": "stdout",
     "output_type": "stream",
     "text": [
      "INFO:tensorflow:*** Example ***\n"
     ]
    },
    {
     "name": "stderr",
     "output_type": "stream",
     "text": [
      "INFO:tensorflow:*** Example ***\n"
     ]
    },
    {
     "name": "stdout",
     "output_type": "stream",
     "text": [
      "INFO:tensorflow:guid: None\n"
     ]
    },
    {
     "name": "stderr",
     "output_type": "stream",
     "text": [
      "INFO:tensorflow:guid: None\n"
     ]
    },
    {
     "name": "stdout",
     "output_type": "stream",
     "text": [
      "INFO:tensorflow:tokens: [CLS] no b ##ha ##j ##ji , yu ##vi , se ##hwa ##g , ga ##mb ##hir , gu ##l , aj ##mal , ha ##fe ##ez , za ##hee ##r . well it be the same # ind ##vs ##pa ##k encounter @ cricket ##aa ##kas ##h [SEP]\n"
     ]
    },
    {
     "name": "stderr",
     "output_type": "stream",
     "text": [
      "INFO:tensorflow:tokens: [CLS] no b ##ha ##j ##ji , yu ##vi , se ##hwa ##g , ga ##mb ##hir , gu ##l , aj ##mal , ha ##fe ##ez , za ##hee ##r . well it be the same # ind ##vs ##pa ##k encounter @ cricket ##aa ##kas ##h [SEP]\n"
     ]
    },
    {
     "name": "stdout",
     "output_type": "stream",
     "text": [
      "INFO:tensorflow:input_ids: 101 2053 1038 3270 3501 4478 1010 9805 5737 1010 7367 18663 2290 1010 11721 14905 11961 1010 19739 2140 1010 19128 9067 1010 5292 7959 9351 1010 23564 21030 2099 1012 2092 2009 2022 1996 2168 1001 27427 15088 4502 2243 8087 1030 4533 11057 13716 2232 102 0 0 0 0 0 0 0 0 0 0 0\n"
     ]
    },
    {
     "name": "stderr",
     "output_type": "stream",
     "text": [
      "INFO:tensorflow:input_ids: 101 2053 1038 3270 3501 4478 1010 9805 5737 1010 7367 18663 2290 1010 11721 14905 11961 1010 19739 2140 1010 19128 9067 1010 5292 7959 9351 1010 23564 21030 2099 1012 2092 2009 2022 1996 2168 1001 27427 15088 4502 2243 8087 1030 4533 11057 13716 2232 102 0 0 0 0 0 0 0 0 0 0 0\n"
     ]
    },
    {
     "name": "stdout",
     "output_type": "stream",
     "text": [
      "INFO:tensorflow:input_mask: 1 1 1 1 1 1 1 1 1 1 1 1 1 1 1 1 1 1 1 1 1 1 1 1 1 1 1 1 1 1 1 1 1 1 1 1 1 1 1 1 1 1 1 1 1 1 1 1 1 0 0 0 0 0 0 0 0 0 0 0\n"
     ]
    },
    {
     "name": "stderr",
     "output_type": "stream",
     "text": [
      "INFO:tensorflow:input_mask: 1 1 1 1 1 1 1 1 1 1 1 1 1 1 1 1 1 1 1 1 1 1 1 1 1 1 1 1 1 1 1 1 1 1 1 1 1 1 1 1 1 1 1 1 1 1 1 1 1 0 0 0 0 0 0 0 0 0 0 0\n"
     ]
    },
    {
     "name": "stdout",
     "output_type": "stream",
     "text": [
      "INFO:tensorflow:segment_ids: 0 0 0 0 0 0 0 0 0 0 0 0 0 0 0 0 0 0 0 0 0 0 0 0 0 0 0 0 0 0 0 0 0 0 0 0 0 0 0 0 0 0 0 0 0 0 0 0 0 0 0 0 0 0 0 0 0 0 0 0\n"
     ]
    },
    {
     "name": "stderr",
     "output_type": "stream",
     "text": [
      "INFO:tensorflow:segment_ids: 0 0 0 0 0 0 0 0 0 0 0 0 0 0 0 0 0 0 0 0 0 0 0 0 0 0 0 0 0 0 0 0 0 0 0 0 0 0 0 0 0 0 0 0 0 0 0 0 0 0 0 0 0 0 0 0 0 0 0 0\n"
     ]
    },
    {
     "name": "stdout",
     "output_type": "stream",
     "text": [
      "INFO:tensorflow:label: 0 (id = 0)\n"
     ]
    },
    {
     "name": "stderr",
     "output_type": "stream",
     "text": [
      "INFO:tensorflow:label: 0 (id = 0)\n"
     ]
    },
    {
     "name": "stdout",
     "output_type": "stream",
     "text": [
      "INFO:tensorflow:Writing example 0 of 252\n"
     ]
    },
    {
     "name": "stderr",
     "output_type": "stream",
     "text": [
      "INFO:tensorflow:Writing example 0 of 252\n"
     ]
    },
    {
     "name": "stdout",
     "output_type": "stream",
     "text": [
      "INFO:tensorflow:*** Example ***\n"
     ]
    },
    {
     "name": "stderr",
     "output_type": "stream",
     "text": [
      "INFO:tensorflow:*** Example ***\n"
     ]
    },
    {
     "name": "stdout",
     "output_type": "stream",
     "text": [
      "INFO:tensorflow:guid: None\n"
     ]
    },
    {
     "name": "stderr",
     "output_type": "stream",
     "text": [
      "INFO:tensorflow:guid: None\n"
     ]
    },
    {
     "name": "stdout",
     "output_type": "stream",
     "text": [
      "INFO:tensorflow:tokens: [CLS] ja ##b sunday ko team india se pakistan tak ##ray ##ega tab stadium me sir ##f tri ##nga la ##her ##ay ##ega # cw ##c ##15 # ind ##vs ##pa ##k # world ##cup http : / / t . co / d ##f ##h ##wo ##m ##13 ##7 ##b [SEP]\n"
     ]
    },
    {
     "name": "stderr",
     "output_type": "stream",
     "text": [
      "INFO:tensorflow:tokens: [CLS] ja ##b sunday ko team india se pakistan tak ##ray ##ega tab stadium me sir ##f tri ##nga la ##her ##ay ##ega # cw ##c ##15 # ind ##vs ##pa ##k # world ##cup http : / / t . co / d ##f ##h ##wo ##m ##13 ##7 ##b [SEP]\n"
     ]
    },
    {
     "name": "stdout",
     "output_type": "stream",
     "text": [
      "INFO:tensorflow:input_ids: 101 14855 2497 4465 12849 2136 2634 7367 4501 27006 9447 29107 21628 3346 2033 2909 2546 13012 13807 2474 5886 4710 29107 1001 19296 2278 16068 1001 27427 15088 4502 2243 1001 2088 15569 8299 1024 1013 1013 1056 1012 2522 1013 1040 2546 2232 12155 2213 17134 2581 2497 102 0 0 0 0 0 0 0 0\n"
     ]
    },
    {
     "name": "stderr",
     "output_type": "stream",
     "text": [
      "INFO:tensorflow:input_ids: 101 14855 2497 4465 12849 2136 2634 7367 4501 27006 9447 29107 21628 3346 2033 2909 2546 13012 13807 2474 5886 4710 29107 1001 19296 2278 16068 1001 27427 15088 4502 2243 1001 2088 15569 8299 1024 1013 1013 1056 1012 2522 1013 1040 2546 2232 12155 2213 17134 2581 2497 102 0 0 0 0 0 0 0 0\n"
     ]
    },
    {
     "name": "stdout",
     "output_type": "stream",
     "text": [
      "INFO:tensorflow:input_mask: 1 1 1 1 1 1 1 1 1 1 1 1 1 1 1 1 1 1 1 1 1 1 1 1 1 1 1 1 1 1 1 1 1 1 1 1 1 1 1 1 1 1 1 1 1 1 1 1 1 1 1 1 0 0 0 0 0 0 0 0\n"
     ]
    },
    {
     "name": "stderr",
     "output_type": "stream",
     "text": [
      "INFO:tensorflow:input_mask: 1 1 1 1 1 1 1 1 1 1 1 1 1 1 1 1 1 1 1 1 1 1 1 1 1 1 1 1 1 1 1 1 1 1 1 1 1 1 1 1 1 1 1 1 1 1 1 1 1 1 1 1 0 0 0 0 0 0 0 0\n"
     ]
    },
    {
     "name": "stdout",
     "output_type": "stream",
     "text": [
      "INFO:tensorflow:segment_ids: 0 0 0 0 0 0 0 0 0 0 0 0 0 0 0 0 0 0 0 0 0 0 0 0 0 0 0 0 0 0 0 0 0 0 0 0 0 0 0 0 0 0 0 0 0 0 0 0 0 0 0 0 0 0 0 0 0 0 0 0\n"
     ]
    },
    {
     "name": "stderr",
     "output_type": "stream",
     "text": [
      "INFO:tensorflow:segment_ids: 0 0 0 0 0 0 0 0 0 0 0 0 0 0 0 0 0 0 0 0 0 0 0 0 0 0 0 0 0 0 0 0 0 0 0 0 0 0 0 0 0 0 0 0 0 0 0 0 0 0 0 0 0 0 0 0 0 0 0 0\n"
     ]
    },
    {
     "name": "stdout",
     "output_type": "stream",
     "text": [
      "INFO:tensorflow:label: 0 (id = 0)\n"
     ]
    },
    {
     "name": "stderr",
     "output_type": "stream",
     "text": [
      "INFO:tensorflow:label: 0 (id = 0)\n"
     ]
    },
    {
     "name": "stdout",
     "output_type": "stream",
     "text": [
      "INFO:tensorflow:*** Example ***\n"
     ]
    },
    {
     "name": "stderr",
     "output_type": "stream",
     "text": [
      "INFO:tensorflow:*** Example ***\n"
     ]
    },
    {
     "name": "stdout",
     "output_type": "stream",
     "text": [
      "INFO:tensorflow:guid: None\n"
     ]
    },
    {
     "name": "stderr",
     "output_type": "stream",
     "text": [
      "INFO:tensorflow:guid: None\n"
     ]
    },
    {
     "name": "stdout",
     "output_type": "stream",
     "text": [
      "INFO:tensorflow:tokens: [CLS] @ na ##ren ##dra ##mo ##di # shut ##down ##jn ##u we need education but not against nation [SEP]\n"
     ]
    },
    {
     "name": "stderr",
     "output_type": "stream",
     "text": [
      "INFO:tensorflow:tokens: [CLS] @ na ##ren ##dra ##mo ##di # shut ##down ##jn ##u we need education but not against nation [SEP]\n"
     ]
    },
    {
     "name": "stdout",
     "output_type": "stream",
     "text": [
      "INFO:tensorflow:input_ids: 101 1030 6583 7389 7265 5302 4305 1001 3844 7698 22895 2226 2057 2342 2495 2021 2025 2114 3842 102 0 0 0 0 0 0 0 0 0 0 0 0 0 0 0 0 0 0 0 0 0 0 0 0 0 0 0 0 0 0 0 0 0 0 0 0 0 0 0 0\n"
     ]
    },
    {
     "name": "stderr",
     "output_type": "stream",
     "text": [
      "INFO:tensorflow:input_ids: 101 1030 6583 7389 7265 5302 4305 1001 3844 7698 22895 2226 2057 2342 2495 2021 2025 2114 3842 102 0 0 0 0 0 0 0 0 0 0 0 0 0 0 0 0 0 0 0 0 0 0 0 0 0 0 0 0 0 0 0 0 0 0 0 0 0 0 0 0\n"
     ]
    },
    {
     "name": "stdout",
     "output_type": "stream",
     "text": [
      "INFO:tensorflow:input_mask: 1 1 1 1 1 1 1 1 1 1 1 1 1 1 1 1 1 1 1 1 0 0 0 0 0 0 0 0 0 0 0 0 0 0 0 0 0 0 0 0 0 0 0 0 0 0 0 0 0 0 0 0 0 0 0 0 0 0 0 0\n"
     ]
    },
    {
     "name": "stderr",
     "output_type": "stream",
     "text": [
      "INFO:tensorflow:input_mask: 1 1 1 1 1 1 1 1 1 1 1 1 1 1 1 1 1 1 1 1 0 0 0 0 0 0 0 0 0 0 0 0 0 0 0 0 0 0 0 0 0 0 0 0 0 0 0 0 0 0 0 0 0 0 0 0 0 0 0 0\n"
     ]
    },
    {
     "name": "stdout",
     "output_type": "stream",
     "text": [
      "INFO:tensorflow:segment_ids: 0 0 0 0 0 0 0 0 0 0 0 0 0 0 0 0 0 0 0 0 0 0 0 0 0 0 0 0 0 0 0 0 0 0 0 0 0 0 0 0 0 0 0 0 0 0 0 0 0 0 0 0 0 0 0 0 0 0 0 0\n"
     ]
    },
    {
     "name": "stderr",
     "output_type": "stream",
     "text": [
      "INFO:tensorflow:segment_ids: 0 0 0 0 0 0 0 0 0 0 0 0 0 0 0 0 0 0 0 0 0 0 0 0 0 0 0 0 0 0 0 0 0 0 0 0 0 0 0 0 0 0 0 0 0 0 0 0 0 0 0 0 0 0 0 0 0 0 0 0\n"
     ]
    },
    {
     "name": "stdout",
     "output_type": "stream",
     "text": [
      "INFO:tensorflow:label: 1 (id = 1)\n"
     ]
    },
    {
     "name": "stderr",
     "output_type": "stream",
     "text": [
      "INFO:tensorflow:label: 1 (id = 1)\n"
     ]
    },
    {
     "name": "stdout",
     "output_type": "stream",
     "text": [
      "INFO:tensorflow:*** Example ***\n"
     ]
    },
    {
     "name": "stderr",
     "output_type": "stream",
     "text": [
      "INFO:tensorflow:*** Example ***\n"
     ]
    },
    {
     "name": "stdout",
     "output_type": "stream",
     "text": [
      "INFO:tensorflow:guid: None\n"
     ]
    },
    {
     "name": "stderr",
     "output_type": "stream",
     "text": [
      "INFO:tensorflow:guid: None\n"
     ]
    },
    {
     "name": "stdout",
     "output_type": "stream",
     "text": [
      "INFO:tensorflow:tokens: [CLS] # ma ##uke ##pe ##cha ##uka ! india vs uae - india wins now turn for uae ma ##uka ma ##uka stars ##port ads . # ind ##vs ##sa , # ind ##vs ##ua ##e , # cw ##c ##15 http : / / t . co / kai ##m ##va ##zi ##2 ##z [SEP]\n"
     ]
    },
    {
     "name": "stderr",
     "output_type": "stream",
     "text": [
      "INFO:tensorflow:tokens: [CLS] # ma ##uke ##pe ##cha ##uka ! india vs uae - india wins now turn for uae ma ##uka ma ##uka stars ##port ads . # ind ##vs ##sa , # ind ##vs ##ua ##e , # cw ##c ##15 http : / / t . co / kai ##m ##va ##zi ##2 ##z [SEP]\n"
     ]
    },
    {
     "name": "stdout",
     "output_type": "stream",
     "text": [
      "INFO:tensorflow:input_ids: 101 1001 5003 15851 5051 7507 15750 999 2634 5443 17641 1011 2634 5222 2085 2735 2005 17641 5003 15750 5003 15750 3340 6442 14997 1012 1001 27427 15088 3736 1010 1001 27427 15088 6692 2063 1010 1001 19296 2278 16068 8299 1024 1013 1013 1056 1012 2522 1013 11928 2213 3567 5831 2475 2480 102 0 0 0 0\n"
     ]
    },
    {
     "name": "stderr",
     "output_type": "stream",
     "text": [
      "INFO:tensorflow:input_ids: 101 1001 5003 15851 5051 7507 15750 999 2634 5443 17641 1011 2634 5222 2085 2735 2005 17641 5003 15750 5003 15750 3340 6442 14997 1012 1001 27427 15088 3736 1010 1001 27427 15088 6692 2063 1010 1001 19296 2278 16068 8299 1024 1013 1013 1056 1012 2522 1013 11928 2213 3567 5831 2475 2480 102 0 0 0 0\n"
     ]
    },
    {
     "name": "stdout",
     "output_type": "stream",
     "text": [
      "INFO:tensorflow:input_mask: 1 1 1 1 1 1 1 1 1 1 1 1 1 1 1 1 1 1 1 1 1 1 1 1 1 1 1 1 1 1 1 1 1 1 1 1 1 1 1 1 1 1 1 1 1 1 1 1 1 1 1 1 1 1 1 1 0 0 0 0\n"
     ]
    },
    {
     "name": "stderr",
     "output_type": "stream",
     "text": [
      "INFO:tensorflow:input_mask: 1 1 1 1 1 1 1 1 1 1 1 1 1 1 1 1 1 1 1 1 1 1 1 1 1 1 1 1 1 1 1 1 1 1 1 1 1 1 1 1 1 1 1 1 1 1 1 1 1 1 1 1 1 1 1 1 0 0 0 0\n"
     ]
    },
    {
     "name": "stdout",
     "output_type": "stream",
     "text": [
      "INFO:tensorflow:segment_ids: 0 0 0 0 0 0 0 0 0 0 0 0 0 0 0 0 0 0 0 0 0 0 0 0 0 0 0 0 0 0 0 0 0 0 0 0 0 0 0 0 0 0 0 0 0 0 0 0 0 0 0 0 0 0 0 0 0 0 0 0\n"
     ]
    },
    {
     "name": "stderr",
     "output_type": "stream",
     "text": [
      "INFO:tensorflow:segment_ids: 0 0 0 0 0 0 0 0 0 0 0 0 0 0 0 0 0 0 0 0 0 0 0 0 0 0 0 0 0 0 0 0 0 0 0 0 0 0 0 0 0 0 0 0 0 0 0 0 0 0 0 0 0 0 0 0 0 0 0 0\n"
     ]
    },
    {
     "name": "stdout",
     "output_type": "stream",
     "text": [
      "INFO:tensorflow:label: 0 (id = 0)\n"
     ]
    },
    {
     "name": "stderr",
     "output_type": "stream",
     "text": [
      "INFO:tensorflow:label: 0 (id = 0)\n"
     ]
    },
    {
     "name": "stdout",
     "output_type": "stream",
     "text": [
      "INFO:tensorflow:*** Example ***\n"
     ]
    },
    {
     "name": "stderr",
     "output_type": "stream",
     "text": [
      "INFO:tensorflow:*** Example ***\n"
     ]
    },
    {
     "name": "stdout",
     "output_type": "stream",
     "text": [
      "INFO:tensorflow:guid: None\n"
     ]
    },
    {
     "name": "stderr",
     "output_type": "stream",
     "text": [
      "INFO:tensorflow:guid: None\n"
     ]
    },
    {
     "name": "stdout",
     "output_type": "stream",
     "text": [
      "INFO:tensorflow:tokens: [CLS] # ind ##vs ##ua ##e b ##hu ##bane ##sw ##ar kumar is back and [SEP]\n"
     ]
    },
    {
     "name": "stderr",
     "output_type": "stream",
     "text": [
      "INFO:tensorflow:tokens: [CLS] # ind ##vs ##ua ##e b ##hu ##bane ##sw ##ar kumar is back and [SEP]\n"
     ]
    },
    {
     "name": "stdout",
     "output_type": "stream",
     "text": [
      "INFO:tensorflow:input_ids: 101 1001 27427 15088 6692 2063 1038 6979 27543 26760 2906 9600 2003 2067 1998 102 0 0 0 0 0 0 0 0 0 0 0 0 0 0 0 0 0 0 0 0 0 0 0 0 0 0 0 0 0 0 0 0 0 0 0 0 0 0 0 0 0 0 0 0\n"
     ]
    },
    {
     "name": "stderr",
     "output_type": "stream",
     "text": [
      "INFO:tensorflow:input_ids: 101 1001 27427 15088 6692 2063 1038 6979 27543 26760 2906 9600 2003 2067 1998 102 0 0 0 0 0 0 0 0 0 0 0 0 0 0 0 0 0 0 0 0 0 0 0 0 0 0 0 0 0 0 0 0 0 0 0 0 0 0 0 0 0 0 0 0\n"
     ]
    },
    {
     "name": "stdout",
     "output_type": "stream",
     "text": [
      "INFO:tensorflow:input_mask: 1 1 1 1 1 1 1 1 1 1 1 1 1 1 1 1 0 0 0 0 0 0 0 0 0 0 0 0 0 0 0 0 0 0 0 0 0 0 0 0 0 0 0 0 0 0 0 0 0 0 0 0 0 0 0 0 0 0 0 0\n"
     ]
    },
    {
     "name": "stderr",
     "output_type": "stream",
     "text": [
      "INFO:tensorflow:input_mask: 1 1 1 1 1 1 1 1 1 1 1 1 1 1 1 1 0 0 0 0 0 0 0 0 0 0 0 0 0 0 0 0 0 0 0 0 0 0 0 0 0 0 0 0 0 0 0 0 0 0 0 0 0 0 0 0 0 0 0 0\n"
     ]
    },
    {
     "name": "stdout",
     "output_type": "stream",
     "text": [
      "INFO:tensorflow:segment_ids: 0 0 0 0 0 0 0 0 0 0 0 0 0 0 0 0 0 0 0 0 0 0 0 0 0 0 0 0 0 0 0 0 0 0 0 0 0 0 0 0 0 0 0 0 0 0 0 0 0 0 0 0 0 0 0 0 0 0 0 0\n"
     ]
    },
    {
     "name": "stderr",
     "output_type": "stream",
     "text": [
      "INFO:tensorflow:segment_ids: 0 0 0 0 0 0 0 0 0 0 0 0 0 0 0 0 0 0 0 0 0 0 0 0 0 0 0 0 0 0 0 0 0 0 0 0 0 0 0 0 0 0 0 0 0 0 0 0 0 0 0 0 0 0 0 0 0 0 0 0\n"
     ]
    },
    {
     "name": "stdout",
     "output_type": "stream",
     "text": [
      "INFO:tensorflow:label: 0 (id = 0)\n"
     ]
    },
    {
     "name": "stderr",
     "output_type": "stream",
     "text": [
      "INFO:tensorflow:label: 0 (id = 0)\n"
     ]
    },
    {
     "name": "stdout",
     "output_type": "stream",
     "text": [
      "INFO:tensorflow:*** Example ***\n"
     ]
    },
    {
     "name": "stderr",
     "output_type": "stream",
     "text": [
      "INFO:tensorflow:*** Example ***\n"
     ]
    },
    {
     "name": "stdout",
     "output_type": "stream",
     "text": [
      "INFO:tensorflow:guid: None\n"
     ]
    },
    {
     "name": "stderr",
     "output_type": "stream",
     "text": [
      "INFO:tensorflow:guid: None\n"
     ]
    },
    {
     "name": "stdout",
     "output_type": "stream",
     "text": [
      "INFO:tensorflow:tokens: [CLS] # shut ##down ##jn ##u j ##nu is the nursery of anti - nationals and terrorist - lovers . keep it trend ##ing ! let these traitor ##s know , their game is over . [SEP]\n"
     ]
    },
    {
     "name": "stderr",
     "output_type": "stream",
     "text": [
      "INFO:tensorflow:tokens: [CLS] # shut ##down ##jn ##u j ##nu is the nursery of anti - nationals and terrorist - lovers . keep it trend ##ing ! let these traitor ##s know , their game is over . [SEP]\n"
     ]
    },
    {
     "name": "stdout",
     "output_type": "stream",
     "text": [
      "INFO:tensorflow:input_ids: 101 1001 3844 7698 22895 2226 1046 11231 2003 1996 13640 1997 3424 1011 10342 1998 9452 1011 10205 1012 2562 2009 9874 2075 999 2292 2122 17328 2015 2113 1010 2037 2208 2003 2058 1012 102 0 0 0 0 0 0 0 0 0 0 0 0 0 0 0 0 0 0 0 0 0 0 0\n"
     ]
    },
    {
     "name": "stderr",
     "output_type": "stream",
     "text": [
      "INFO:tensorflow:input_ids: 101 1001 3844 7698 22895 2226 1046 11231 2003 1996 13640 1997 3424 1011 10342 1998 9452 1011 10205 1012 2562 2009 9874 2075 999 2292 2122 17328 2015 2113 1010 2037 2208 2003 2058 1012 102 0 0 0 0 0 0 0 0 0 0 0 0 0 0 0 0 0 0 0 0 0 0 0\n"
     ]
    },
    {
     "name": "stdout",
     "output_type": "stream",
     "text": [
      "INFO:tensorflow:input_mask: 1 1 1 1 1 1 1 1 1 1 1 1 1 1 1 1 1 1 1 1 1 1 1 1 1 1 1 1 1 1 1 1 1 1 1 1 1 0 0 0 0 0 0 0 0 0 0 0 0 0 0 0 0 0 0 0 0 0 0 0\n"
     ]
    },
    {
     "name": "stderr",
     "output_type": "stream",
     "text": [
      "INFO:tensorflow:input_mask: 1 1 1 1 1 1 1 1 1 1 1 1 1 1 1 1 1 1 1 1 1 1 1 1 1 1 1 1 1 1 1 1 1 1 1 1 1 0 0 0 0 0 0 0 0 0 0 0 0 0 0 0 0 0 0 0 0 0 0 0\n"
     ]
    },
    {
     "name": "stdout",
     "output_type": "stream",
     "text": [
      "INFO:tensorflow:segment_ids: 0 0 0 0 0 0 0 0 0 0 0 0 0 0 0 0 0 0 0 0 0 0 0 0 0 0 0 0 0 0 0 0 0 0 0 0 0 0 0 0 0 0 0 0 0 0 0 0 0 0 0 0 0 0 0 0 0 0 0 0\n"
     ]
    },
    {
     "name": "stderr",
     "output_type": "stream",
     "text": [
      "INFO:tensorflow:segment_ids: 0 0 0 0 0 0 0 0 0 0 0 0 0 0 0 0 0 0 0 0 0 0 0 0 0 0 0 0 0 0 0 0 0 0 0 0 0 0 0 0 0 0 0 0 0 0 0 0 0 0 0 0 0 0 0 0 0 0 0 0\n"
     ]
    },
    {
     "name": "stdout",
     "output_type": "stream",
     "text": [
      "INFO:tensorflow:label: 1 (id = 1)\n"
     ]
    },
    {
     "name": "stderr",
     "output_type": "stream",
     "text": [
      "INFO:tensorflow:label: 1 (id = 1)\n"
     ]
    }
   ],
   "source": [
    "# We'll set sequences to be at most 128 tokens long.\n",
    "MAX_SEQ_LENGTH = 60\n",
    "# Convert our train and test features to InputFeatures that BERT understands.\n",
    "train_features = bert.run_classifier.convert_examples_to_features(train_InputExamples, label_list, MAX_SEQ_LENGTH, tokenizer)\n",
    "test_features = bert.run_classifier.convert_examples_to_features(test_InputExamples, label_list, MAX_SEQ_LENGTH, tokenizer)"
   ]
  },
  {
   "cell_type": "markdown",
   "metadata": {
    "colab_type": "text",
    "id": "Nu9gTuxY4xZt"
   },
   "source": [
    "## BERT Model"
   ]
  },
  {
   "cell_type": "code",
   "execution_count": 16,
   "metadata": {
    "colab": {},
    "colab_type": "code",
    "id": "rSxDpUpP0mZr"
   },
   "outputs": [],
   "source": [
    "def create_model(is_predicting, input_ids, input_mask, segment_ids, labels,\n",
    "                 num_labels):\n",
    "    \"\"\"Creates a classification model.\"\"\"\n",
    "\n",
    "    bert_module = hub.Module(\n",
    "        BERT_MODEL_HUB,\n",
    "        trainable=True)\n",
    "    bert_inputs = dict(\n",
    "        input_ids=input_ids,\n",
    "        input_mask=input_mask,\n",
    "        segment_ids=segment_ids)\n",
    "    bert_outputs = bert_module(\n",
    "        inputs=bert_inputs,\n",
    "        signature=\"tokens\",\n",
    "        as_dict=True)\n",
    "\n",
    "    # Use \"pooled_output\" for classification tasks on an entire sentence.\n",
    "    # Use \"sequence_outputs\" for token-level output.\n",
    "    output_layer = bert_outputs[\"pooled_output\"]\n",
    "\n",
    "    hidden_size = output_layer.shape[-1].value\n",
    "\n",
    "    # Create our own layer to tune for politeness data.\n",
    "    output_weights = tf.get_variable(\n",
    "        \"output_weights\", [num_labels, hidden_size],\n",
    "        initializer=tf.truncated_normal_initializer(stddev=0.02))\n",
    "\n",
    "    output_bias = tf.get_variable(\n",
    "        \"output_bias\", [num_labels], initializer=tf.zeros_initializer())\n",
    "\n",
    "    with tf.variable_scope(\"loss\"):\n",
    "\n",
    "        # Dropout helps prevent overfitting\n",
    "        output_layer = tf.nn.dropout(output_layer, keep_prob=0.9)\n",
    "\n",
    "        logits = tf.matmul(output_layer, output_weights, transpose_b=True)\n",
    "        logits = tf.nn.bias_add(logits, output_bias)\n",
    "        log_probs = tf.nn.log_softmax(logits, axis=-1)\n",
    "\n",
    "        # Convert labels into one-hot encoding\n",
    "        one_hot_labels = tf.one_hot(labels, depth=num_labels, dtype=tf.float32)\n",
    "\n",
    "        predicted_labels = tf.squeeze(\n",
    "            tf.argmax(log_probs, axis=-1, output_type=tf.int32))\n",
    "        # If we're predicting, we want predicted labels and the probabiltiies.\n",
    "        if is_predicting:\n",
    "            return (predicted_labels, log_probs)\n",
    "\n",
    "        # If we're train/eval, compute loss between predicted and actual label\n",
    "        per_example_loss = -tf.reduce_sum(one_hot_labels * log_probs, axis=-1)\n",
    "        loss = tf.reduce_mean(per_example_loss)\n",
    "        return (loss, predicted_labels, log_probs)\n"
   ]
  },
  {
   "cell_type": "code",
   "execution_count": 17,
   "metadata": {
    "colab": {},
    "colab_type": "code",
    "id": "6M23OPL342QS"
   },
   "outputs": [],
   "source": [
    "# model_fn_builder actually creates our model function\n",
    "# using the passed parameters for num_labels, learning_rate, etc.\n",
    "\n",
    "\n",
    "def model_fn_builder(num_labels, learning_rate, num_train_steps,\n",
    "                     num_warmup_steps):\n",
    "    \"\"\"Returns `model_fn` closure for TPUEstimator.\"\"\"\n",
    "    def model_fn(features, labels, mode, params):  # pylint: disable=unused-argument\n",
    "        \"\"\"The `model_fn` for TPUEstimator.\"\"\"\n",
    "\n",
    "        input_ids = features[\"input_ids\"]\n",
    "        input_mask = features[\"input_mask\"]\n",
    "        segment_ids = features[\"segment_ids\"]\n",
    "        label_ids = features[\"label_ids\"]\n",
    "\n",
    "        is_predicting = (mode == tf.estimator.ModeKeys.PREDICT)\n",
    "\n",
    "        # TRAIN and EVAL\n",
    "        if not is_predicting:\n",
    "\n",
    "            (loss, predicted_labels, log_probs) = create_model(\n",
    "                is_predicting, input_ids, input_mask, segment_ids, label_ids, num_labels)\n",
    "\n",
    "            train_op = bert.optimization.create_optimizer(\n",
    "                loss, learning_rate, num_train_steps, num_warmup_steps, use_tpu=False)\n",
    "\n",
    "            # Calculate evaluation metrics.\n",
    "            def metric_fn(label_ids, predicted_labels):\n",
    "                accuracy = tf.metrics.accuracy(label_ids, predicted_labels)\n",
    "                true_pos = tf.metrics.true_positives(\n",
    "                    label_ids,\n",
    "                    predicted_labels)\n",
    "                true_neg = tf.metrics.true_negatives(\n",
    "                    label_ids,\n",
    "                    predicted_labels)\n",
    "                false_pos = tf.metrics.false_positives(\n",
    "                    label_ids,\n",
    "                    predicted_labels)\n",
    "                false_neg = tf.metrics.false_negatives(\n",
    "                    label_ids,\n",
    "                    predicted_labels)\n",
    "                return {\n",
    "                    \"eval_accuracy\": accuracy,\n",
    "                    \"true_positives\": true_pos,\n",
    "                    \"true_negatives\": true_neg,\n",
    "                    \"false_positives\": false_pos,\n",
    "                    \"false_negatives\": false_neg\n",
    "                }\n",
    "\n",
    "            eval_metrics = metric_fn(label_ids, predicted_labels)\n",
    "\n",
    "            if mode == tf.estimator.ModeKeys.TRAIN:\n",
    "                return tf.estimator.EstimatorSpec(mode=mode,\n",
    "                                                  loss=loss,\n",
    "                                                  train_op=train_op)\n",
    "            else:\n",
    "                return tf.estimator.EstimatorSpec(mode=mode,\n",
    "                                                  loss=loss,\n",
    "                                                  eval_metric_ops=eval_metrics)\n",
    "        else:\n",
    "            (predicted_labels, log_probs) = create_model(\n",
    "                is_predicting, input_ids, input_mask, segment_ids, label_ids, num_labels)\n",
    "\n",
    "            predictions = {\n",
    "                'probabilities': log_probs,\n",
    "                'labels': predicted_labels\n",
    "            }\n",
    "            return tf.estimator.EstimatorSpec(mode, predictions=predictions)\n",
    "\n",
    "    # Return the actual model function in the closure\n",
    "    return model_fn"
   ]
  },
  {
   "cell_type": "code",
   "execution_count": 18,
   "metadata": {
    "colab": {},
    "colab_type": "code",
    "id": "6Ut4XXsH44Ii"
   },
   "outputs": [],
   "source": [
    "# Compute train and warmup steps from batch size\n",
    "# These hyperparameters are copied from this colab notebook (https://colab.sandbox.google.com/github/tensorflow/tpu/blob/master/tools/colab/bert_finetuning_with_cloud_tpus.ipynb)\n",
    "BATCH_SIZE = 32\n",
    "LEARNING_RATE = 1e-5\n",
    "NUM_TRAIN_EPOCHS = 3.0\n",
    "# Warmup is a period of time where hte learning rate \n",
    "# is small and gradually increases--usually helps training.\n",
    "WARMUP_PROPORTION = 0.1\n",
    "# Model configs\n",
    "SAVE_CHECKPOINTS_STEPS = 500\n",
    "SAVE_SUMMARY_STEPS = 100"
   ]
  },
  {
   "cell_type": "code",
   "execution_count": 19,
   "metadata": {
    "colab": {},
    "colab_type": "code",
    "id": "IyYjzRcd46nG"
   },
   "outputs": [],
   "source": [
    "# Compute # train and warmup steps from batch size\n",
    "num_train_steps = int(len(train_features) / BATCH_SIZE * NUM_TRAIN_EPOCHS)\n",
    "num_warmup_steps = int(num_train_steps * WARMUP_PROPORTION)"
   ]
  },
  {
   "cell_type": "code",
   "execution_count": 20,
   "metadata": {
    "colab": {},
    "colab_type": "code",
    "id": "pYpNf65P5C9m"
   },
   "outputs": [],
   "source": [
    "OUTPUT_DIR = 'model/'"
   ]
  },
  {
   "cell_type": "code",
   "execution_count": 21,
   "metadata": {
    "colab": {},
    "colab_type": "code",
    "id": "zMzAsI1j48DJ"
   },
   "outputs": [],
   "source": [
    "# Specify outpit directory and number of checkpoint steps to save\n",
    "run_config = tf.estimator.RunConfig(\n",
    "    model_dir=OUTPUT_DIR,\n",
    "    save_summary_steps=SAVE_SUMMARY_STEPS,\n",
    "    save_checkpoints_steps=SAVE_CHECKPOINTS_STEPS)"
   ]
  },
  {
   "cell_type": "code",
   "execution_count": 22,
   "metadata": {
    "colab": {},
    "colab_type": "code",
    "id": "0gzHdoMx49ZG"
   },
   "outputs": [
    {
     "name": "stdout",
     "output_type": "stream",
     "text": [
      "INFO:tensorflow:Using config: {'_model_dir': 'model/', '_tf_random_seed': None, '_save_summary_steps': 100, '_save_checkpoints_steps': 500, '_save_checkpoints_secs': None, '_session_config': allow_soft_placement: true\n",
      "graph_options {\n",
      "  rewrite_options {\n",
      "    meta_optimizer_iterations: ONE\n",
      "  }\n",
      "}\n",
      ", '_keep_checkpoint_max': 5, '_keep_checkpoint_every_n_hours': 10000, '_log_step_count_steps': 100, '_train_distribute': None, '_device_fn': None, '_protocol': None, '_eval_distribute': None, '_experimental_distribute': None, '_experimental_max_worker_delay_secs': None, '_session_creation_timeout_secs': 7200, '_service': None, '_cluster_spec': <tensorflow.python.training.server_lib.ClusterSpec object at 0x7f71fb1815c0>, '_task_type': 'worker', '_task_id': 0, '_global_id_in_cluster': 0, '_master': '', '_evaluation_master': '', '_is_chief': True, '_num_ps_replicas': 0, '_num_worker_replicas': 1}\n"
     ]
    },
    {
     "name": "stderr",
     "output_type": "stream",
     "text": [
      "INFO:tensorflow:Using config: {'_model_dir': 'model/', '_tf_random_seed': None, '_save_summary_steps': 100, '_save_checkpoints_steps': 500, '_save_checkpoints_secs': None, '_session_config': allow_soft_placement: true\n",
      "graph_options {\n",
      "  rewrite_options {\n",
      "    meta_optimizer_iterations: ONE\n",
      "  }\n",
      "}\n",
      ", '_keep_checkpoint_max': 5, '_keep_checkpoint_every_n_hours': 10000, '_log_step_count_steps': 100, '_train_distribute': None, '_device_fn': None, '_protocol': None, '_eval_distribute': None, '_experimental_distribute': None, '_experimental_max_worker_delay_secs': None, '_session_creation_timeout_secs': 7200, '_service': None, '_cluster_spec': <tensorflow.python.training.server_lib.ClusterSpec object at 0x7f71fb1815c0>, '_task_type': 'worker', '_task_id': 0, '_global_id_in_cluster': 0, '_master': '', '_evaluation_master': '', '_is_chief': True, '_num_ps_replicas': 0, '_num_worker_replicas': 1}\n"
     ]
    }
   ],
   "source": [
    "model_fn = model_fn_builder(\n",
    "  num_labels=len(label_list),\n",
    "  learning_rate=LEARNING_RATE,\n",
    "  num_train_steps=num_train_steps,\n",
    "  num_warmup_steps=num_warmup_steps)\n",
    "\n",
    "estimator = tf.estimator.Estimator(\n",
    "  model_fn=model_fn,\n",
    "  config=run_config,\n",
    "  params={\"batch_size\": BATCH_SIZE})"
   ]
  },
  {
   "cell_type": "code",
   "execution_count": 23,
   "metadata": {
    "colab": {},
    "colab_type": "code",
    "id": "J_lHsJmt5hVw"
   },
   "outputs": [],
   "source": [
    "# Create an input function for training. drop_remainder = True for using TPUs.\n",
    "train_input_fn = bert.run_classifier.input_fn_builder(\n",
    "    features=train_features,\n",
    "    seq_length=MAX_SEQ_LENGTH,\n",
    "    is_training=True,\n",
    "    drop_remainder=False)"
   ]
  },
  {
   "cell_type": "code",
   "execution_count": 24,
   "metadata": {
    "colab": {},
    "colab_type": "code",
    "id": "JGfmQ6E75hws"
   },
   "outputs": [
    {
     "name": "stdout",
     "output_type": "stream",
     "text": [
      "Beginning Training!\n",
      "WARNING:tensorflow:From /home/himmeldreng/.local/lib/python3.7/site-packages/tensorflow_core/python/training/training_util.py:236: Variable.initialized_value (from tensorflow.python.ops.variables) is deprecated and will be removed in a future version.\n",
      "Instructions for updating:\n",
      "Use Variable.read_value. Variables in 2.X are initialized automatically both in eager and graph (inside tf.defun) contexts.\n"
     ]
    },
    {
     "name": "stderr",
     "output_type": "stream",
     "text": [
      "WARNING:tensorflow:From /home/himmeldreng/.local/lib/python3.7/site-packages/tensorflow_core/python/training/training_util.py:236: Variable.initialized_value (from tensorflow.python.ops.variables) is deprecated and will be removed in a future version.\n",
      "Instructions for updating:\n",
      "Use Variable.read_value. Variables in 2.X are initialized automatically both in eager and graph (inside tf.defun) contexts.\n"
     ]
    },
    {
     "name": "stdout",
     "output_type": "stream",
     "text": [
      "INFO:tensorflow:Calling model_fn.\n"
     ]
    },
    {
     "name": "stderr",
     "output_type": "stream",
     "text": [
      "INFO:tensorflow:Calling model_fn.\n"
     ]
    },
    {
     "name": "stdout",
     "output_type": "stream",
     "text": [
      "INFO:tensorflow:Saver not created because there are no variables in the graph to restore\n"
     ]
    },
    {
     "name": "stderr",
     "output_type": "stream",
     "text": [
      "INFO:tensorflow:Saver not created because there are no variables in the graph to restore\n"
     ]
    },
    {
     "name": "stdout",
     "output_type": "stream",
     "text": [
      "WARNING:tensorflow:From <ipython-input-16-dbe990afa764>:34: calling dropout (from tensorflow.python.ops.nn_ops) with keep_prob is deprecated and will be removed in a future version.\n",
      "Instructions for updating:\n",
      "Please use `rate` instead of `keep_prob`. Rate should be set to `rate = 1 - keep_prob`.\n"
     ]
    },
    {
     "name": "stderr",
     "output_type": "stream",
     "text": [
      "WARNING:tensorflow:From <ipython-input-16-dbe990afa764>:34: calling dropout (from tensorflow.python.ops.nn_ops) with keep_prob is deprecated and will be removed in a future version.\n",
      "Instructions for updating:\n",
      "Please use `rate` instead of `keep_prob`. Rate should be set to `rate = 1 - keep_prob`.\n"
     ]
    },
    {
     "name": "stdout",
     "output_type": "stream",
     "text": [
      "WARNING:tensorflow:From /home/himmeldreng/.local/lib/python3.7/site-packages/bert/optimization.py:27: The name tf.train.get_or_create_global_step is deprecated. Please use tf.compat.v1.train.get_or_create_global_step instead.\n",
      "\n"
     ]
    },
    {
     "name": "stderr",
     "output_type": "stream",
     "text": [
      "WARNING:tensorflow:From /home/himmeldreng/.local/lib/python3.7/site-packages/bert/optimization.py:27: The name tf.train.get_or_create_global_step is deprecated. Please use tf.compat.v1.train.get_or_create_global_step instead.\n",
      "\n"
     ]
    },
    {
     "name": "stdout",
     "output_type": "stream",
     "text": [
      "WARNING:tensorflow:From /home/himmeldreng/.local/lib/python3.7/site-packages/bert/optimization.py:32: The name tf.train.polynomial_decay is deprecated. Please use tf.compat.v1.train.polynomial_decay instead.\n",
      "\n"
     ]
    },
    {
     "name": "stderr",
     "output_type": "stream",
     "text": [
      "WARNING:tensorflow:From /home/himmeldreng/.local/lib/python3.7/site-packages/bert/optimization.py:32: The name tf.train.polynomial_decay is deprecated. Please use tf.compat.v1.train.polynomial_decay instead.\n",
      "\n"
     ]
    },
    {
     "name": "stdout",
     "output_type": "stream",
     "text": [
      "WARNING:tensorflow:From /home/himmeldreng/.local/lib/python3.7/site-packages/bert/optimization.py:70: The name tf.trainable_variables is deprecated. Please use tf.compat.v1.trainable_variables instead.\n",
      "\n"
     ]
    },
    {
     "name": "stderr",
     "output_type": "stream",
     "text": [
      "WARNING:tensorflow:From /home/himmeldreng/.local/lib/python3.7/site-packages/bert/optimization.py:70: The name tf.trainable_variables is deprecated. Please use tf.compat.v1.trainable_variables instead.\n",
      "\n"
     ]
    },
    {
     "name": "stdout",
     "output_type": "stream",
     "text": [
      "WARNING:tensorflow:From /home/himmeldreng/.local/lib/python3.7/site-packages/tensorflow_core/python/ops/math_grad.py:1375: where (from tensorflow.python.ops.array_ops) is deprecated and will be removed in a future version.\n",
      "Instructions for updating:\n",
      "Use tf.where in 2.0, which has the same broadcast rule as np.where\n"
     ]
    },
    {
     "name": "stderr",
     "output_type": "stream",
     "text": [
      "WARNING:tensorflow:From /home/himmeldreng/.local/lib/python3.7/site-packages/tensorflow_core/python/ops/math_grad.py:1375: where (from tensorflow.python.ops.array_ops) is deprecated and will be removed in a future version.\n",
      "Instructions for updating:\n",
      "Use tf.where in 2.0, which has the same broadcast rule as np.where\n",
      "/home/himmeldreng/.local/lib/python3.7/site-packages/tensorflow_core/python/framework/indexed_slices.py:424: UserWarning: Converting sparse IndexedSlices to a dense Tensor of unknown shape. This may consume a large amount of memory.\n",
      "  \"Converting sparse IndexedSlices to a dense Tensor of unknown shape. \"\n"
     ]
    },
    {
     "name": "stdout",
     "output_type": "stream",
     "text": [
      "INFO:tensorflow:Done calling model_fn.\n"
     ]
    },
    {
     "name": "stderr",
     "output_type": "stream",
     "text": [
      "INFO:tensorflow:Done calling model_fn.\n"
     ]
    },
    {
     "name": "stdout",
     "output_type": "stream",
     "text": [
      "INFO:tensorflow:Create CheckpointSaverHook.\n"
     ]
    },
    {
     "name": "stderr",
     "output_type": "stream",
     "text": [
      "INFO:tensorflow:Create CheckpointSaverHook.\n"
     ]
    },
    {
     "name": "stdout",
     "output_type": "stream",
     "text": [
      "INFO:tensorflow:Graph was finalized.\n"
     ]
    },
    {
     "name": "stderr",
     "output_type": "stream",
     "text": [
      "INFO:tensorflow:Graph was finalized.\n"
     ]
    },
    {
     "name": "stdout",
     "output_type": "stream",
     "text": [
      "INFO:tensorflow:Running local_init_op.\n"
     ]
    },
    {
     "name": "stderr",
     "output_type": "stream",
     "text": [
      "INFO:tensorflow:Running local_init_op.\n"
     ]
    },
    {
     "name": "stdout",
     "output_type": "stream",
     "text": [
      "INFO:tensorflow:Done running local_init_op.\n"
     ]
    },
    {
     "name": "stderr",
     "output_type": "stream",
     "text": [
      "INFO:tensorflow:Done running local_init_op.\n"
     ]
    },
    {
     "name": "stdout",
     "output_type": "stream",
     "text": [
      "INFO:tensorflow:Saving checkpoints for 0 into model/model.ckpt.\n"
     ]
    },
    {
     "name": "stderr",
     "output_type": "stream",
     "text": [
      "INFO:tensorflow:Saving checkpoints for 0 into model/model.ckpt.\n"
     ]
    },
    {
     "name": "stdout",
     "output_type": "stream",
     "text": [
      "INFO:tensorflow:loss = 1.1214805, step = 1\n"
     ]
    },
    {
     "name": "stderr",
     "output_type": "stream",
     "text": [
      "INFO:tensorflow:loss = 1.1214805, step = 1\n"
     ]
    },
    {
     "name": "stdout",
     "output_type": "stream",
     "text": [
      "WARNING:tensorflow:It seems that global step (tf.train.get_global_step) has not been increased. Current value (could be stable): 1 vs previous value: 1. You could increase the global step by passing tf.train.get_global_step() to Optimizer.apply_gradients or Optimizer.minimize.\n"
     ]
    },
    {
     "name": "stderr",
     "output_type": "stream",
     "text": [
      "WARNING:tensorflow:It seems that global step (tf.train.get_global_step) has not been increased. Current value (could be stable): 1 vs previous value: 1. You could increase the global step by passing tf.train.get_global_step() to Optimizer.apply_gradients or Optimizer.minimize.\n"
     ]
    },
    {
     "name": "stdout",
     "output_type": "stream",
     "text": [
      "WARNING:tensorflow:It seems that global step (tf.train.get_global_step) has not been increased. Current value (could be stable): 5 vs previous value: 5. You could increase the global step by passing tf.train.get_global_step() to Optimizer.apply_gradients or Optimizer.minimize.\n"
     ]
    },
    {
     "name": "stderr",
     "output_type": "stream",
     "text": [
      "WARNING:tensorflow:It seems that global step (tf.train.get_global_step) has not been increased. Current value (could be stable): 5 vs previous value: 5. You could increase the global step by passing tf.train.get_global_step() to Optimizer.apply_gradients or Optimizer.minimize.\n"
     ]
    },
    {
     "name": "stdout",
     "output_type": "stream",
     "text": [
      "WARNING:tensorflow:It seems that global step (tf.train.get_global_step) has not been increased. Current value (could be stable): 11 vs previous value: 11. You could increase the global step by passing tf.train.get_global_step() to Optimizer.apply_gradients or Optimizer.minimize.\n"
     ]
    },
    {
     "name": "stderr",
     "output_type": "stream",
     "text": [
      "WARNING:tensorflow:It seems that global step (tf.train.get_global_step) has not been increased. Current value (could be stable): 11 vs previous value: 11. You could increase the global step by passing tf.train.get_global_step() to Optimizer.apply_gradients or Optimizer.minimize.\n"
     ]
    },
    {
     "name": "stdout",
     "output_type": "stream",
     "text": [
      "WARNING:tensorflow:It seems that global step (tf.train.get_global_step) has not been increased. Current value (could be stable): 23 vs previous value: 23. You could increase the global step by passing tf.train.get_global_step() to Optimizer.apply_gradients or Optimizer.minimize.\n"
     ]
    },
    {
     "name": "stderr",
     "output_type": "stream",
     "text": [
      "WARNING:tensorflow:It seems that global step (tf.train.get_global_step) has not been increased. Current value (could be stable): 23 vs previous value: 23. You could increase the global step by passing tf.train.get_global_step() to Optimizer.apply_gradients or Optimizer.minimize.\n"
     ]
    },
    {
     "name": "stdout",
     "output_type": "stream",
     "text": [
      "WARNING:tensorflow:It seems that global step (tf.train.get_global_step) has not been increased. Current value (could be stable): 25 vs previous value: 25. You could increase the global step by passing tf.train.get_global_step() to Optimizer.apply_gradients or Optimizer.minimize.\n"
     ]
    },
    {
     "name": "stderr",
     "output_type": "stream",
     "text": [
      "WARNING:tensorflow:It seems that global step (tf.train.get_global_step) has not been increased. Current value (could be stable): 25 vs previous value: 25. You could increase the global step by passing tf.train.get_global_step() to Optimizer.apply_gradients or Optimizer.minimize.\n"
     ]
    },
    {
     "name": "stdout",
     "output_type": "stream",
     "text": [
      "INFO:tensorflow:Saving checkpoints for 94 into model/model.ckpt.\n"
     ]
    },
    {
     "name": "stderr",
     "output_type": "stream",
     "text": [
      "INFO:tensorflow:Saving checkpoints for 94 into model/model.ckpt.\n"
     ]
    },
    {
     "name": "stdout",
     "output_type": "stream",
     "text": [
      "INFO:tensorflow:Loss for final step: 0.48558074.\n"
     ]
    },
    {
     "name": "stderr",
     "output_type": "stream",
     "text": [
      "INFO:tensorflow:Loss for final step: 0.48558074.\n"
     ]
    },
    {
     "name": "stdout",
     "output_type": "stream",
     "text": [
      "Training took time  0:06:52.361101\n"
     ]
    }
   ],
   "source": [
    "print(f'Beginning Training!')\n",
    "current_time = datetime.now()\n",
    "estimator.train(input_fn=train_input_fn, max_steps=num_train_steps)\n",
    "print(\"Training took time \", datetime.now() - current_time)"
   ]
  },
  {
   "cell_type": "code",
   "execution_count": 25,
   "metadata": {
    "colab": {},
    "colab_type": "code",
    "id": "HK0EoC1H5j4p"
   },
   "outputs": [],
   "source": [
    "test_input_fn = run_classifier.input_fn_builder(\n",
    "    features=test_features,\n",
    "    seq_length=MAX_SEQ_LENGTH,\n",
    "    is_training=False,\n",
    "    drop_remainder=False)"
   ]
  },
  {
   "cell_type": "code",
   "execution_count": 26,
   "metadata": {
    "colab": {},
    "colab_type": "code",
    "id": "ucZw7OBa9ox0"
   },
   "outputs": [
    {
     "name": "stdout",
     "output_type": "stream",
     "text": [
      "INFO:tensorflow:Calling model_fn.\n"
     ]
    },
    {
     "name": "stderr",
     "output_type": "stream",
     "text": [
      "INFO:tensorflow:Calling model_fn.\n"
     ]
    },
    {
     "name": "stdout",
     "output_type": "stream",
     "text": [
      "INFO:tensorflow:Saver not created because there are no variables in the graph to restore\n"
     ]
    },
    {
     "name": "stderr",
     "output_type": "stream",
     "text": [
      "INFO:tensorflow:Saver not created because there are no variables in the graph to restore\n",
      "/home/himmeldreng/.local/lib/python3.7/site-packages/tensorflow_core/python/framework/indexed_slices.py:424: UserWarning: Converting sparse IndexedSlices to a dense Tensor of unknown shape. This may consume a large amount of memory.\n",
      "  \"Converting sparse IndexedSlices to a dense Tensor of unknown shape. \"\n"
     ]
    },
    {
     "name": "stdout",
     "output_type": "stream",
     "text": [
      "INFO:tensorflow:Done calling model_fn.\n"
     ]
    },
    {
     "name": "stderr",
     "output_type": "stream",
     "text": [
      "INFO:tensorflow:Done calling model_fn.\n"
     ]
    },
    {
     "name": "stdout",
     "output_type": "stream",
     "text": [
      "INFO:tensorflow:Starting evaluation at 2020-03-07T20:05:28Z\n"
     ]
    },
    {
     "name": "stderr",
     "output_type": "stream",
     "text": [
      "INFO:tensorflow:Starting evaluation at 2020-03-07T20:05:28Z\n"
     ]
    },
    {
     "name": "stdout",
     "output_type": "stream",
     "text": [
      "INFO:tensorflow:Graph was finalized.\n"
     ]
    },
    {
     "name": "stderr",
     "output_type": "stream",
     "text": [
      "INFO:tensorflow:Graph was finalized.\n"
     ]
    },
    {
     "name": "stdout",
     "output_type": "stream",
     "text": [
      "INFO:tensorflow:Restoring parameters from model/model.ckpt-94\n"
     ]
    },
    {
     "name": "stderr",
     "output_type": "stream",
     "text": [
      "INFO:tensorflow:Restoring parameters from model/model.ckpt-94\n"
     ]
    },
    {
     "name": "stdout",
     "output_type": "stream",
     "text": [
      "INFO:tensorflow:Running local_init_op.\n"
     ]
    },
    {
     "name": "stderr",
     "output_type": "stream",
     "text": [
      "INFO:tensorflow:Running local_init_op.\n"
     ]
    },
    {
     "name": "stdout",
     "output_type": "stream",
     "text": [
      "INFO:tensorflow:Done running local_init_op.\n"
     ]
    },
    {
     "name": "stderr",
     "output_type": "stream",
     "text": [
      "INFO:tensorflow:Done running local_init_op.\n"
     ]
    },
    {
     "name": "stdout",
     "output_type": "stream",
     "text": [
      "INFO:tensorflow:Finished evaluation at 2020-03-07-20:05:41\n"
     ]
    },
    {
     "name": "stderr",
     "output_type": "stream",
     "text": [
      "INFO:tensorflow:Finished evaluation at 2020-03-07-20:05:41\n"
     ]
    },
    {
     "name": "stdout",
     "output_type": "stream",
     "text": [
      "INFO:tensorflow:Saving dict for global step 94: eval_accuracy = 0.6944444, false_negatives = 11.0, false_positives = 11.0, global_step = 94, loss = 0.5937655, true_negatives = 90.0, true_positives = 140.0\n"
     ]
    },
    {
     "name": "stderr",
     "output_type": "stream",
     "text": [
      "INFO:tensorflow:Saving dict for global step 94: eval_accuracy = 0.6944444, false_negatives = 11.0, false_positives = 11.0, global_step = 94, loss = 0.5937655, true_negatives = 90.0, true_positives = 140.0\n"
     ]
    },
    {
     "name": "stdout",
     "output_type": "stream",
     "text": [
      "INFO:tensorflow:Saving 'checkpoint_path' summary for global step 94: model/model.ckpt-94\n"
     ]
    },
    {
     "name": "stderr",
     "output_type": "stream",
     "text": [
      "INFO:tensorflow:Saving 'checkpoint_path' summary for global step 94: model/model.ckpt-94\n"
     ]
    },
    {
     "data": {
      "text/plain": [
       "{'eval_accuracy': 0.6944444,\n",
       " 'false_negatives': 11.0,\n",
       " 'false_positives': 11.0,\n",
       " 'loss': 0.5937655,\n",
       " 'true_negatives': 90.0,\n",
       " 'true_positives': 140.0,\n",
       " 'global_step': 94}"
      ]
     },
     "execution_count": 26,
     "metadata": {},
     "output_type": "execute_result"
    }
   ],
   "source": [
    "estimator.evaluate(input_fn=test_input_fn, steps=None)"
   ]
  },
  {
   "cell_type": "code",
   "execution_count": 27,
   "metadata": {
    "colab": {},
    "colab_type": "code",
    "id": "VONX4MwX5t4j"
   },
   "outputs": [],
   "source": [
    "def getPrediction(in_sentences):\n",
    "    labels = ['NAG', 'OAG', 'CAG']\n",
    "    input_examples = [run_classifier.InputExample(\n",
    "        guid=\"\", text_a=x, text_b=None, label=0) for x in in_sentences]  # here, \"\" is just a dummy label\n",
    "    input_features = run_classifier.convert_examples_to_features(\n",
    "        input_examples, label_list, MAX_SEQ_LENGTH, tokenizer)\n",
    "    predict_input_fn = run_classifier.input_fn_builder(\n",
    "        features=input_features, seq_length=MAX_SEQ_LENGTH, is_training=False, drop_remainder=False)\n",
    "    predictions = estimator.predict(predict_input_fn)\n",
    "    return [(sentence, prediction['probabilities'], labels[prediction['labels']]) for sentence, prediction in zip(in_sentences, predictions)]\n"
   ]
  },
  {
   "cell_type": "code",
   "execution_count": 28,
   "metadata": {
    "colab": {},
    "colab_type": "code",
    "id": "dUCGxcd-5wA_"
   },
   "outputs": [
    {
     "data": {
      "text/plain": [
       "list"
      ]
     },
     "execution_count": 28,
     "metadata": {},
     "output_type": "execute_result"
    }
   ],
   "source": [
    "pred_sentences = list(test['tweets'])\n",
    "type(pred_sentences)"
   ]
  },
  {
   "cell_type": "code",
   "execution_count": 29,
   "metadata": {
    "colab": {},
    "colab_type": "code",
    "id": "ag3vqDp35xus"
   },
   "outputs": [
    {
     "name": "stdout",
     "output_type": "stream",
     "text": [
      "INFO:tensorflow:Writing example 0 of 252\n"
     ]
    },
    {
     "name": "stderr",
     "output_type": "stream",
     "text": [
      "INFO:tensorflow:Writing example 0 of 252\n"
     ]
    },
    {
     "name": "stdout",
     "output_type": "stream",
     "text": [
      "INFO:tensorflow:*** Example ***\n"
     ]
    },
    {
     "name": "stderr",
     "output_type": "stream",
     "text": [
      "INFO:tensorflow:*** Example ***\n"
     ]
    },
    {
     "name": "stdout",
     "output_type": "stream",
     "text": [
      "INFO:tensorflow:guid: \n"
     ]
    },
    {
     "name": "stderr",
     "output_type": "stream",
     "text": [
      "INFO:tensorflow:guid: \n"
     ]
    },
    {
     "name": "stdout",
     "output_type": "stream",
     "text": [
      "INFO:tensorflow:tokens: [CLS] ja ##b sunday ko team india se pakistan tak ##ray ##ega tab stadium me sir ##f tri ##nga la ##her ##ay ##ega # cw ##c ##15 # ind ##vs ##pa ##k # world ##cup http : / / t . co / d ##f ##h ##wo ##m ##13 ##7 ##b [SEP]\n"
     ]
    },
    {
     "name": "stderr",
     "output_type": "stream",
     "text": [
      "INFO:tensorflow:tokens: [CLS] ja ##b sunday ko team india se pakistan tak ##ray ##ega tab stadium me sir ##f tri ##nga la ##her ##ay ##ega # cw ##c ##15 # ind ##vs ##pa ##k # world ##cup http : / / t . co / d ##f ##h ##wo ##m ##13 ##7 ##b [SEP]\n"
     ]
    },
    {
     "name": "stdout",
     "output_type": "stream",
     "text": [
      "INFO:tensorflow:input_ids: 101 14855 2497 4465 12849 2136 2634 7367 4501 27006 9447 29107 21628 3346 2033 2909 2546 13012 13807 2474 5886 4710 29107 1001 19296 2278 16068 1001 27427 15088 4502 2243 1001 2088 15569 8299 1024 1013 1013 1056 1012 2522 1013 1040 2546 2232 12155 2213 17134 2581 2497 102 0 0 0 0 0 0 0 0\n"
     ]
    },
    {
     "name": "stderr",
     "output_type": "stream",
     "text": [
      "INFO:tensorflow:input_ids: 101 14855 2497 4465 12849 2136 2634 7367 4501 27006 9447 29107 21628 3346 2033 2909 2546 13012 13807 2474 5886 4710 29107 1001 19296 2278 16068 1001 27427 15088 4502 2243 1001 2088 15569 8299 1024 1013 1013 1056 1012 2522 1013 1040 2546 2232 12155 2213 17134 2581 2497 102 0 0 0 0 0 0 0 0\n"
     ]
    },
    {
     "name": "stdout",
     "output_type": "stream",
     "text": [
      "INFO:tensorflow:input_mask: 1 1 1 1 1 1 1 1 1 1 1 1 1 1 1 1 1 1 1 1 1 1 1 1 1 1 1 1 1 1 1 1 1 1 1 1 1 1 1 1 1 1 1 1 1 1 1 1 1 1 1 1 0 0 0 0 0 0 0 0\n"
     ]
    },
    {
     "name": "stderr",
     "output_type": "stream",
     "text": [
      "INFO:tensorflow:input_mask: 1 1 1 1 1 1 1 1 1 1 1 1 1 1 1 1 1 1 1 1 1 1 1 1 1 1 1 1 1 1 1 1 1 1 1 1 1 1 1 1 1 1 1 1 1 1 1 1 1 1 1 1 0 0 0 0 0 0 0 0\n"
     ]
    },
    {
     "name": "stdout",
     "output_type": "stream",
     "text": [
      "INFO:tensorflow:segment_ids: 0 0 0 0 0 0 0 0 0 0 0 0 0 0 0 0 0 0 0 0 0 0 0 0 0 0 0 0 0 0 0 0 0 0 0 0 0 0 0 0 0 0 0 0 0 0 0 0 0 0 0 0 0 0 0 0 0 0 0 0\n"
     ]
    },
    {
     "name": "stderr",
     "output_type": "stream",
     "text": [
      "INFO:tensorflow:segment_ids: 0 0 0 0 0 0 0 0 0 0 0 0 0 0 0 0 0 0 0 0 0 0 0 0 0 0 0 0 0 0 0 0 0 0 0 0 0 0 0 0 0 0 0 0 0 0 0 0 0 0 0 0 0 0 0 0 0 0 0 0\n"
     ]
    },
    {
     "name": "stdout",
     "output_type": "stream",
     "text": [
      "INFO:tensorflow:label: 0 (id = 0)\n"
     ]
    },
    {
     "name": "stderr",
     "output_type": "stream",
     "text": [
      "INFO:tensorflow:label: 0 (id = 0)\n"
     ]
    },
    {
     "name": "stdout",
     "output_type": "stream",
     "text": [
      "INFO:tensorflow:*** Example ***\n"
     ]
    },
    {
     "name": "stderr",
     "output_type": "stream",
     "text": [
      "INFO:tensorflow:*** Example ***\n"
     ]
    },
    {
     "name": "stdout",
     "output_type": "stream",
     "text": [
      "INFO:tensorflow:guid: \n"
     ]
    },
    {
     "name": "stderr",
     "output_type": "stream",
     "text": [
      "INFO:tensorflow:guid: \n"
     ]
    },
    {
     "name": "stdout",
     "output_type": "stream",
     "text": [
      "INFO:tensorflow:tokens: [CLS] @ na ##ren ##dra ##mo ##di # shut ##down ##jn ##u we need education but not against nation [SEP]\n"
     ]
    },
    {
     "name": "stderr",
     "output_type": "stream",
     "text": [
      "INFO:tensorflow:tokens: [CLS] @ na ##ren ##dra ##mo ##di # shut ##down ##jn ##u we need education but not against nation [SEP]\n"
     ]
    },
    {
     "name": "stdout",
     "output_type": "stream",
     "text": [
      "INFO:tensorflow:input_ids: 101 1030 6583 7389 7265 5302 4305 1001 3844 7698 22895 2226 2057 2342 2495 2021 2025 2114 3842 102 0 0 0 0 0 0 0 0 0 0 0 0 0 0 0 0 0 0 0 0 0 0 0 0 0 0 0 0 0 0 0 0 0 0 0 0 0 0 0 0\n"
     ]
    },
    {
     "name": "stderr",
     "output_type": "stream",
     "text": [
      "INFO:tensorflow:input_ids: 101 1030 6583 7389 7265 5302 4305 1001 3844 7698 22895 2226 2057 2342 2495 2021 2025 2114 3842 102 0 0 0 0 0 0 0 0 0 0 0 0 0 0 0 0 0 0 0 0 0 0 0 0 0 0 0 0 0 0 0 0 0 0 0 0 0 0 0 0\n"
     ]
    },
    {
     "name": "stdout",
     "output_type": "stream",
     "text": [
      "INFO:tensorflow:input_mask: 1 1 1 1 1 1 1 1 1 1 1 1 1 1 1 1 1 1 1 1 0 0 0 0 0 0 0 0 0 0 0 0 0 0 0 0 0 0 0 0 0 0 0 0 0 0 0 0 0 0 0 0 0 0 0 0 0 0 0 0\n"
     ]
    },
    {
     "name": "stderr",
     "output_type": "stream",
     "text": [
      "INFO:tensorflow:input_mask: 1 1 1 1 1 1 1 1 1 1 1 1 1 1 1 1 1 1 1 1 0 0 0 0 0 0 0 0 0 0 0 0 0 0 0 0 0 0 0 0 0 0 0 0 0 0 0 0 0 0 0 0 0 0 0 0 0 0 0 0\n"
     ]
    },
    {
     "name": "stdout",
     "output_type": "stream",
     "text": [
      "INFO:tensorflow:segment_ids: 0 0 0 0 0 0 0 0 0 0 0 0 0 0 0 0 0 0 0 0 0 0 0 0 0 0 0 0 0 0 0 0 0 0 0 0 0 0 0 0 0 0 0 0 0 0 0 0 0 0 0 0 0 0 0 0 0 0 0 0\n"
     ]
    },
    {
     "name": "stderr",
     "output_type": "stream",
     "text": [
      "INFO:tensorflow:segment_ids: 0 0 0 0 0 0 0 0 0 0 0 0 0 0 0 0 0 0 0 0 0 0 0 0 0 0 0 0 0 0 0 0 0 0 0 0 0 0 0 0 0 0 0 0 0 0 0 0 0 0 0 0 0 0 0 0 0 0 0 0\n"
     ]
    },
    {
     "name": "stdout",
     "output_type": "stream",
     "text": [
      "INFO:tensorflow:label: 0 (id = 0)\n"
     ]
    },
    {
     "name": "stderr",
     "output_type": "stream",
     "text": [
      "INFO:tensorflow:label: 0 (id = 0)\n"
     ]
    },
    {
     "name": "stdout",
     "output_type": "stream",
     "text": [
      "INFO:tensorflow:*** Example ***\n"
     ]
    },
    {
     "name": "stderr",
     "output_type": "stream",
     "text": [
      "INFO:tensorflow:*** Example ***\n"
     ]
    },
    {
     "name": "stdout",
     "output_type": "stream",
     "text": [
      "INFO:tensorflow:guid: \n"
     ]
    },
    {
     "name": "stderr",
     "output_type": "stream",
     "text": [
      "INFO:tensorflow:guid: \n"
     ]
    },
    {
     "name": "stdout",
     "output_type": "stream",
     "text": [
      "INFO:tensorflow:tokens: [CLS] # ma ##uke ##pe ##cha ##uka ! india vs uae - india wins now turn for uae ma ##uka ma ##uka stars ##port ads . # ind ##vs ##sa , # ind ##vs ##ua ##e , # cw ##c ##15 http : / / t . co / kai ##m ##va ##zi ##2 ##z [SEP]\n"
     ]
    },
    {
     "name": "stderr",
     "output_type": "stream",
     "text": [
      "INFO:tensorflow:tokens: [CLS] # ma ##uke ##pe ##cha ##uka ! india vs uae - india wins now turn for uae ma ##uka ma ##uka stars ##port ads . # ind ##vs ##sa , # ind ##vs ##ua ##e , # cw ##c ##15 http : / / t . co / kai ##m ##va ##zi ##2 ##z [SEP]\n"
     ]
    },
    {
     "name": "stdout",
     "output_type": "stream",
     "text": [
      "INFO:tensorflow:input_ids: 101 1001 5003 15851 5051 7507 15750 999 2634 5443 17641 1011 2634 5222 2085 2735 2005 17641 5003 15750 5003 15750 3340 6442 14997 1012 1001 27427 15088 3736 1010 1001 27427 15088 6692 2063 1010 1001 19296 2278 16068 8299 1024 1013 1013 1056 1012 2522 1013 11928 2213 3567 5831 2475 2480 102 0 0 0 0\n"
     ]
    },
    {
     "name": "stderr",
     "output_type": "stream",
     "text": [
      "INFO:tensorflow:input_ids: 101 1001 5003 15851 5051 7507 15750 999 2634 5443 17641 1011 2634 5222 2085 2735 2005 17641 5003 15750 5003 15750 3340 6442 14997 1012 1001 27427 15088 3736 1010 1001 27427 15088 6692 2063 1010 1001 19296 2278 16068 8299 1024 1013 1013 1056 1012 2522 1013 11928 2213 3567 5831 2475 2480 102 0 0 0 0\n"
     ]
    },
    {
     "name": "stdout",
     "output_type": "stream",
     "text": [
      "INFO:tensorflow:input_mask: 1 1 1 1 1 1 1 1 1 1 1 1 1 1 1 1 1 1 1 1 1 1 1 1 1 1 1 1 1 1 1 1 1 1 1 1 1 1 1 1 1 1 1 1 1 1 1 1 1 1 1 1 1 1 1 1 0 0 0 0\n"
     ]
    },
    {
     "name": "stderr",
     "output_type": "stream",
     "text": [
      "INFO:tensorflow:input_mask: 1 1 1 1 1 1 1 1 1 1 1 1 1 1 1 1 1 1 1 1 1 1 1 1 1 1 1 1 1 1 1 1 1 1 1 1 1 1 1 1 1 1 1 1 1 1 1 1 1 1 1 1 1 1 1 1 0 0 0 0\n"
     ]
    },
    {
     "name": "stdout",
     "output_type": "stream",
     "text": [
      "INFO:tensorflow:segment_ids: 0 0 0 0 0 0 0 0 0 0 0 0 0 0 0 0 0 0 0 0 0 0 0 0 0 0 0 0 0 0 0 0 0 0 0 0 0 0 0 0 0 0 0 0 0 0 0 0 0 0 0 0 0 0 0 0 0 0 0 0\n"
     ]
    },
    {
     "name": "stderr",
     "output_type": "stream",
     "text": [
      "INFO:tensorflow:segment_ids: 0 0 0 0 0 0 0 0 0 0 0 0 0 0 0 0 0 0 0 0 0 0 0 0 0 0 0 0 0 0 0 0 0 0 0 0 0 0 0 0 0 0 0 0 0 0 0 0 0 0 0 0 0 0 0 0 0 0 0 0\n"
     ]
    },
    {
     "name": "stdout",
     "output_type": "stream",
     "text": [
      "INFO:tensorflow:label: 0 (id = 0)\n"
     ]
    },
    {
     "name": "stderr",
     "output_type": "stream",
     "text": [
      "INFO:tensorflow:label: 0 (id = 0)\n"
     ]
    },
    {
     "name": "stdout",
     "output_type": "stream",
     "text": [
      "INFO:tensorflow:*** Example ***\n"
     ]
    },
    {
     "name": "stderr",
     "output_type": "stream",
     "text": [
      "INFO:tensorflow:*** Example ***\n"
     ]
    },
    {
     "name": "stdout",
     "output_type": "stream",
     "text": [
      "INFO:tensorflow:guid: \n"
     ]
    },
    {
     "name": "stderr",
     "output_type": "stream",
     "text": [
      "INFO:tensorflow:guid: \n"
     ]
    },
    {
     "name": "stdout",
     "output_type": "stream",
     "text": [
      "INFO:tensorflow:tokens: [CLS] # ind ##vs ##ua ##e b ##hu ##bane ##sw ##ar kumar is back and [SEP]\n"
     ]
    },
    {
     "name": "stderr",
     "output_type": "stream",
     "text": [
      "INFO:tensorflow:tokens: [CLS] # ind ##vs ##ua ##e b ##hu ##bane ##sw ##ar kumar is back and [SEP]\n"
     ]
    },
    {
     "name": "stdout",
     "output_type": "stream",
     "text": [
      "INFO:tensorflow:input_ids: 101 1001 27427 15088 6692 2063 1038 6979 27543 26760 2906 9600 2003 2067 1998 102 0 0 0 0 0 0 0 0 0 0 0 0 0 0 0 0 0 0 0 0 0 0 0 0 0 0 0 0 0 0 0 0 0 0 0 0 0 0 0 0 0 0 0 0\n"
     ]
    },
    {
     "name": "stderr",
     "output_type": "stream",
     "text": [
      "INFO:tensorflow:input_ids: 101 1001 27427 15088 6692 2063 1038 6979 27543 26760 2906 9600 2003 2067 1998 102 0 0 0 0 0 0 0 0 0 0 0 0 0 0 0 0 0 0 0 0 0 0 0 0 0 0 0 0 0 0 0 0 0 0 0 0 0 0 0 0 0 0 0 0\n"
     ]
    },
    {
     "name": "stdout",
     "output_type": "stream",
     "text": [
      "INFO:tensorflow:input_mask: 1 1 1 1 1 1 1 1 1 1 1 1 1 1 1 1 0 0 0 0 0 0 0 0 0 0 0 0 0 0 0 0 0 0 0 0 0 0 0 0 0 0 0 0 0 0 0 0 0 0 0 0 0 0 0 0 0 0 0 0\n"
     ]
    },
    {
     "name": "stderr",
     "output_type": "stream",
     "text": [
      "INFO:tensorflow:input_mask: 1 1 1 1 1 1 1 1 1 1 1 1 1 1 1 1 0 0 0 0 0 0 0 0 0 0 0 0 0 0 0 0 0 0 0 0 0 0 0 0 0 0 0 0 0 0 0 0 0 0 0 0 0 0 0 0 0 0 0 0\n"
     ]
    },
    {
     "name": "stdout",
     "output_type": "stream",
     "text": [
      "INFO:tensorflow:segment_ids: 0 0 0 0 0 0 0 0 0 0 0 0 0 0 0 0 0 0 0 0 0 0 0 0 0 0 0 0 0 0 0 0 0 0 0 0 0 0 0 0 0 0 0 0 0 0 0 0 0 0 0 0 0 0 0 0 0 0 0 0\n"
     ]
    },
    {
     "name": "stderr",
     "output_type": "stream",
     "text": [
      "INFO:tensorflow:segment_ids: 0 0 0 0 0 0 0 0 0 0 0 0 0 0 0 0 0 0 0 0 0 0 0 0 0 0 0 0 0 0 0 0 0 0 0 0 0 0 0 0 0 0 0 0 0 0 0 0 0 0 0 0 0 0 0 0 0 0 0 0\n"
     ]
    },
    {
     "name": "stdout",
     "output_type": "stream",
     "text": [
      "INFO:tensorflow:label: 0 (id = 0)\n"
     ]
    },
    {
     "name": "stderr",
     "output_type": "stream",
     "text": [
      "INFO:tensorflow:label: 0 (id = 0)\n"
     ]
    },
    {
     "name": "stdout",
     "output_type": "stream",
     "text": [
      "INFO:tensorflow:*** Example ***\n"
     ]
    },
    {
     "name": "stderr",
     "output_type": "stream",
     "text": [
      "INFO:tensorflow:*** Example ***\n"
     ]
    },
    {
     "name": "stdout",
     "output_type": "stream",
     "text": [
      "INFO:tensorflow:guid: \n"
     ]
    },
    {
     "name": "stderr",
     "output_type": "stream",
     "text": [
      "INFO:tensorflow:guid: \n"
     ]
    },
    {
     "name": "stdout",
     "output_type": "stream",
     "text": [
      "INFO:tensorflow:tokens: [CLS] # shut ##down ##jn ##u j ##nu is the nursery of anti - nationals and terrorist - lovers . keep it trend ##ing ! let these traitor ##s know , their game is over . [SEP]\n"
     ]
    },
    {
     "name": "stderr",
     "output_type": "stream",
     "text": [
      "INFO:tensorflow:tokens: [CLS] # shut ##down ##jn ##u j ##nu is the nursery of anti - nationals and terrorist - lovers . keep it trend ##ing ! let these traitor ##s know , their game is over . [SEP]\n"
     ]
    },
    {
     "name": "stdout",
     "output_type": "stream",
     "text": [
      "INFO:tensorflow:input_ids: 101 1001 3844 7698 22895 2226 1046 11231 2003 1996 13640 1997 3424 1011 10342 1998 9452 1011 10205 1012 2562 2009 9874 2075 999 2292 2122 17328 2015 2113 1010 2037 2208 2003 2058 1012 102 0 0 0 0 0 0 0 0 0 0 0 0 0 0 0 0 0 0 0 0 0 0 0\n"
     ]
    },
    {
     "name": "stderr",
     "output_type": "stream",
     "text": [
      "INFO:tensorflow:input_ids: 101 1001 3844 7698 22895 2226 1046 11231 2003 1996 13640 1997 3424 1011 10342 1998 9452 1011 10205 1012 2562 2009 9874 2075 999 2292 2122 17328 2015 2113 1010 2037 2208 2003 2058 1012 102 0 0 0 0 0 0 0 0 0 0 0 0 0 0 0 0 0 0 0 0 0 0 0\n"
     ]
    },
    {
     "name": "stdout",
     "output_type": "stream",
     "text": [
      "INFO:tensorflow:input_mask: 1 1 1 1 1 1 1 1 1 1 1 1 1 1 1 1 1 1 1 1 1 1 1 1 1 1 1 1 1 1 1 1 1 1 1 1 1 0 0 0 0 0 0 0 0 0 0 0 0 0 0 0 0 0 0 0 0 0 0 0\n"
     ]
    },
    {
     "name": "stderr",
     "output_type": "stream",
     "text": [
      "INFO:tensorflow:input_mask: 1 1 1 1 1 1 1 1 1 1 1 1 1 1 1 1 1 1 1 1 1 1 1 1 1 1 1 1 1 1 1 1 1 1 1 1 1 0 0 0 0 0 0 0 0 0 0 0 0 0 0 0 0 0 0 0 0 0 0 0\n"
     ]
    },
    {
     "name": "stdout",
     "output_type": "stream",
     "text": [
      "INFO:tensorflow:segment_ids: 0 0 0 0 0 0 0 0 0 0 0 0 0 0 0 0 0 0 0 0 0 0 0 0 0 0 0 0 0 0 0 0 0 0 0 0 0 0 0 0 0 0 0 0 0 0 0 0 0 0 0 0 0 0 0 0 0 0 0 0\n"
     ]
    },
    {
     "name": "stderr",
     "output_type": "stream",
     "text": [
      "INFO:tensorflow:segment_ids: 0 0 0 0 0 0 0 0 0 0 0 0 0 0 0 0 0 0 0 0 0 0 0 0 0 0 0 0 0 0 0 0 0 0 0 0 0 0 0 0 0 0 0 0 0 0 0 0 0 0 0 0 0 0 0 0 0 0 0 0\n"
     ]
    },
    {
     "name": "stdout",
     "output_type": "stream",
     "text": [
      "INFO:tensorflow:label: 0 (id = 0)\n"
     ]
    },
    {
     "name": "stderr",
     "output_type": "stream",
     "text": [
      "INFO:tensorflow:label: 0 (id = 0)\n"
     ]
    },
    {
     "name": "stdout",
     "output_type": "stream",
     "text": [
      "INFO:tensorflow:Calling model_fn.\n"
     ]
    },
    {
     "name": "stderr",
     "output_type": "stream",
     "text": [
      "INFO:tensorflow:Calling model_fn.\n"
     ]
    },
    {
     "name": "stdout",
     "output_type": "stream",
     "text": [
      "INFO:tensorflow:Saver not created because there are no variables in the graph to restore\n"
     ]
    },
    {
     "name": "stderr",
     "output_type": "stream",
     "text": [
      "INFO:tensorflow:Saver not created because there are no variables in the graph to restore\n"
     ]
    },
    {
     "name": "stdout",
     "output_type": "stream",
     "text": [
      "INFO:tensorflow:Done calling model_fn.\n"
     ]
    },
    {
     "name": "stderr",
     "output_type": "stream",
     "text": [
      "INFO:tensorflow:Done calling model_fn.\n"
     ]
    },
    {
     "name": "stdout",
     "output_type": "stream",
     "text": [
      "INFO:tensorflow:Graph was finalized.\n"
     ]
    },
    {
     "name": "stderr",
     "output_type": "stream",
     "text": [
      "INFO:tensorflow:Graph was finalized.\n"
     ]
    },
    {
     "name": "stdout",
     "output_type": "stream",
     "text": [
      "INFO:tensorflow:Restoring parameters from model/model.ckpt-94\n"
     ]
    },
    {
     "name": "stderr",
     "output_type": "stream",
     "text": [
      "INFO:tensorflow:Restoring parameters from model/model.ckpt-94\n"
     ]
    },
    {
     "name": "stdout",
     "output_type": "stream",
     "text": [
      "INFO:tensorflow:Running local_init_op.\n"
     ]
    },
    {
     "name": "stderr",
     "output_type": "stream",
     "text": [
      "INFO:tensorflow:Running local_init_op.\n"
     ]
    },
    {
     "name": "stdout",
     "output_type": "stream",
     "text": [
      "INFO:tensorflow:Done running local_init_op.\n"
     ]
    },
    {
     "name": "stderr",
     "output_type": "stream",
     "text": [
      "INFO:tensorflow:Done running local_init_op.\n"
     ]
    }
   ],
   "source": [
    "predictions = getPrediction(pred_sentences)"
   ]
  },
  {
   "cell_type": "code",
   "execution_count": 30,
   "metadata": {
    "colab": {},
    "colab_type": "code",
    "id": "ksVd0uQI5zgI"
   },
   "outputs": [
    {
     "data": {
      "text/plain": [
       "[('jab sunday ko team india se pakistan takrayega tab stadium me sirf tringa laherayega #cwc15 #indvspak #worldcup http://t.co/dfhwom137b',\n",
       "  array([-0.07745104, -4.3284955 , -2.7913182 ], dtype=float32),\n",
       "  'NAG'),\n",
       " ('@narendramodi #ShutDownJNU we need education but not against nation',\n",
       "  array([-4.5315466 , -0.57805234, -0.8480573 ], dtype=float32),\n",
       "  'OAG'),\n",
       " ('#maukepechauka! india vs uae - india wins now turn for uae mauka mauka starsport ads. #indvssa, #indvsuae, #cwc15 http://t.co/kaimvazi2z',\n",
       "  array([-0.12864865, -4.393031  , -2.2223516 ], dtype=float32),\n",
       "  'NAG'),\n",
       " ('#indvsuae bhubaneswar kumar is back and',\n",
       "  array([-0.6535944, -2.6725497, -0.8897672], dtype=float32),\n",
       "  'NAG'),\n",
       " ('#ShutDownJNU JNU IS THE NURSERY OF ANTI-NATIONALS AND TERRORIST-LOVERS. KEEP IT TRENDING! LET THESE TRAITORS KNOW, THEIR GAME IS OVER.',\n",
       "  array([-4.587813 , -0.3960981, -1.149219 ], dtype=float32),\n",
       "  'OAG'),\n",
       " ('They are fasting unto death! #StandwithJNU #StandforJNU #WithyouJNU http:// fb.me/7Qx6LZfP2',\n",
       "  array([-0.21673554, -3.261534  , -1.854523  ], dtype=float32),\n",
       "  'NAG'),\n",
       " ('#shutdownJNU Police act shd hve been earlier &not let ghero\"go on?Our law &order/Govt indecisive unable2 handle precipitating situations\"',\n",
       "  array([-4.599832  , -0.64874953, -0.76089627], dtype=float32),\n",
       "  'OAG'),\n",
       " ('@compareraja wow i won with india... india india india india #cricketcompare #indvspak',\n",
       "  array([-0.10682451, -4.300229  , -2.4332495 ], dtype=float32),\n",
       "  'NAG'),\n",
       " ('@Ramesh70739140 #ShutDownJNU they are dalit, surviving on quota and has problems with India.. They think they are owner of India.',\n",
       "  array([-4.463918  , -0.58578426, -0.83976096], dtype=float32),\n",
       "  'OAG'),\n",
       " ('#ShutDownJNU #JNURow #JNU morons but have whole lot of free time for #antinationalacts #sexscandals #drugrackets and all...7/n',\n",
       "  array([-4.377916  , -0.38735732, -1.1757092 ], dtype=float32),\n",
       "  'OAG'),\n",
       " ('tamil guy dismissing malyalam guy #indvsuae #ashwin #karate',\n",
       "  array([-0.61281455, -2.7680979 , -0.92787015], dtype=float32),\n",
       "  'NAG'),\n",
       " ('dear @AamAadmiParty throw ur senseless trends #AAPVictoryDay ...support nationalist trends #ShutDownJNU .... @ArvindKejriwal @DrKumarVishwas',\n",
       "  array([-4.1977987 , -0.49740204, -0.9758737 ], dtype=float32),\n",
       "  'OAG'),\n",
       " (\"@kanhaiyajnusu @smritiirani kanhaiya you are not alone don't botherd about these SANGHI'S we are with you #StandWithJNU #JNU\",\n",
       "  array([-1.6296815 , -1.7212633 , -0.46973503], dtype=float32),\n",
       "  'CAG'),\n",
       " ('We want tweet from @narendramodi @BJPRajnathSingh @manoharparrikar @KirenRijiju @arunjaitley @Ajit_Dobhal @smritiirani #ShutDownJNU',\n",
       "  array([-3.495243  , -0.5443958 , -0.94297785], dtype=float32),\n",
       "  'OAG'),\n",
       " (\"13 days of hunger strike and he couldn't handle twenty mins of heat. #StandWithJNU https:// kafila.org/2016/05/10/run -jaggu-run-the-jnu-vc-runs-away-from-the-academic-council-meeting/ …\",\n",
       "  array([-1.7180353 , -2.1669383 , -0.34806362], dtype=float32),\n",
       "  'CAG'),\n",
       " ('shikhar dawan at half century. scorecard-110/1 #indvspak chak de indiawaale',\n",
       "  array([-0.11814813, -4.116465  , -2.3524747 ], dtype=float32),\n",
       "  'NAG'),\n",
       " ('@waglenikhil pls use #ShutDownJNU and show ur patriotism',\n",
       "  array([-4.379554 , -0.5253614, -0.9260193], dtype=float32),\n",
       "  'OAG'),\n",
       " ('University is supposed to be a place to study but communists has made JNU n many like universities a political field #ShutDownJNU',\n",
       "  array([-4.713529  , -0.38931665, -1.1599331 ], dtype=float32),\n",
       "  'OAG'),\n",
       " ('More power to you JNU . #StandWithJNU #RejectHLEC #BJPKillsDemocracy pic.twitter.com/ATbPL4Qa4t',\n",
       "  array([-0.26327446, -3.3381822 , -1.6298056 ], dtype=float32),\n",
       "  'NAG'),\n",
       " ('abhi bhi 1 hundred k liye wait krna pdega misbah gone #indvspak',\n",
       "  array([-0.0616535, -4.20824  , -3.1028972], dtype=float32),\n",
       "  'NAG'),\n",
       " ('@DelhiPolice - What is stopping u from arresting the ppl chanting Anti India slogans at JNU? Pls act swiftly and arrest them. #ShutDownJNU',\n",
       "  array([-4.42298   , -0.4801597 , -0.99609977], dtype=float32),\n",
       "  'OAG'),\n",
       " ('we need a 10 wicket win #indvsuae',\n",
       "  array([-2.0879874, -2.0868301, -0.2850405], dtype=float32),\n",
       "  'CAG'),\n",
       " ('3rd consecutive victory...yayyaayyy...:d #wontgiveitback #indvsuae',\n",
       "  array([-0.30478826, -3.5480564 , -1.4526908 ], dtype=float32),\n",
       "  'NAG'),\n",
       " ('kohli termed as :\"barack\" kohli from pak team :) #indvspak',\n",
       "  array([-0.0585548, -4.35174  , -3.1238153], dtype=float32),\n",
       "  'NAG'),\n",
       " (\"#ShutDownJNU @smritiirani if they can't learn anything then it's up to us to teach them morals and respect . They are cancer shud be remvd\",\n",
       "  array([-4.4842734, -0.547287 , -0.8911159], dtype=float32),\n",
       "  'OAG'),\n",
       " ('#ShutDownJNU As v cn c dat #JNU z continusly in prblm,v urge Govt. to shut it down bcoz diseased body part shud b removed by surgery.',\n",
       "  array([-4.2401347 , -0.4845543 , -0.99527264], dtype=float32),\n",
       "  'OAG'),\n",
       " (\"#ShutDownJNU Don't turn your eyes.. 4 the sake of vote bank politics see reality of emerging current divide. pic.twitter.com/hb6wx3nIa8\",\n",
       "  array([-4.5579567 , -0.6436955 , -0.76750636], dtype=float32),\n",
       "  'OAG'),\n",
       " (\"#ShutDownJNU don't waste taxpayers money for people like these #shutdownjnu\",\n",
       "  array([-4.7241964 , -0.57004833, -0.8541988 ], dtype=float32),\n",
       "  'OAG'),\n",
       " (\"#ShutDownJNU don't be surprised if umar Khalid leaves India joins isis dies in a blast & candle March is held in jnu as shaheed umarkhalid\",\n",
       "  array([-4.4433084 , -0.5095378 , -0.94811726], dtype=float32),\n",
       "  'OAG'),\n",
       " (\"pakistaniyo so jao, we're going to set u on fire tomorrow. kal india diwali manayegi. #indvspak\",\n",
       "  array([-0.2669621, -3.5754116, -1.5784528], dtype=float32),\n",
       "  'NAG'),\n",
       " (\"The continued media radio silence over the JNU students' hunger strike is tragic. #FightBackJNU #StandwithJNU https:// twitter.com/kafila/status/ 729601373000454148 …\",\n",
       "  array([-1.7486193, -2.080141 , -0.3551427], dtype=float32),\n",
       "  'CAG'),\n",
       " ('@NupurSharmaBJP @TimesNow @thenewshour Many time when the anit national were speaking. #ShutDownJNU',\n",
       "  array([-4.1204295 , -0.68297917, -0.73678046], dtype=float32),\n",
       "  'OAG'),\n",
       " ('#NSUIAgainstIndia #ShutDownJNU Freedom of speech is crossing line, spreading hatred against ppl ! @sambitswaraj @Swamy39',\n",
       "  array([-4.5837526 , -0.40991116, -1.12063   ], dtype=float32),\n",
       "  'OAG'),\n",
       " (\"#indvspak dhoni steps in. c'mon india.\",\n",
       "  array([-0.06066883, -4.544312  , -3.0316153 ], dtype=float32),\n",
       "  'NAG'),\n",
       " ('ind vs wi mauka mauka latest add....lolz: http://t.co/ycigjylxuf @cricketworldcup @icclive #indvsuae #pakvszim #srlveng #slvseng #kp',\n",
       "  array([-0.13355501, -4.259327  , -2.1992276 ], dtype=float32),\n",
       "  'NAG'),\n",
       " ('#ShutDownJNU For @TimesNow students chanting afzal guru is dissident\"?? Os this an option? Shame! https:// twitter.com/TimesNow/statu s/697403553107697665 …\"',\n",
       "  array([-4.2705317, -0.7309942, -0.6839981], dtype=float32),\n",
       "  'CAG'),\n",
       " ('@sethuactor what is the need of speed boat,,when i can piss and drown them :D #ShutDownJNU Salo ko Moot ke baha doonga... #MutraProtestJNU',\n",
       "  array([-4.29507  , -0.7387994, -0.6759414], dtype=float32),\n",
       "  'CAG'),\n",
       " ('indiaaaaa india :d :* wewon again :3 #kohli #dhawan #raina #captioncool &lt;3 #cwc15 #indvspak #wewontgiveitback http://t.co/eziixkkumf',\n",
       "  array([-0.06626744, -4.51943   , -2.9332435 ], dtype=float32),\n",
       "  'NAG'),\n",
       " ('@IAMSUNNYDEOL take a bow paaji.... millions #respect to you, you nail it.. 100/100 for #GhayalOnceAgain #AAPVictoryDay #shutdownJNU',\n",
       "  array([-3.6607757 , -0.84798247, -0.60511935], dtype=float32),\n",
       "  'CAG'),\n",
       " ('rt @rajat_skfan: hahaha new add by @starsportsindia for #indvsuae !! https://t.co/iqhs34ggox mindblowingggg',\n",
       "  array([-0.06451812, -4.620775  , -2.9443595 ], dtype=float32),\n",
       "  'NAG'),\n",
       " (\"#JNU runs by my money and your money .. And I don't want my money to get spent on few toxic fucking anti-nationalists #ShutDownJNU\",\n",
       "  array([-4.660683  , -0.43244168, -1.0740643 ], dtype=float32),\n",
       "  'OAG'),\n",
       " (\"when you're up at 3 in the morning to watch india play cricket #indvsuae\",\n",
       "  array([-1.417401 , -2.0889664, -0.4559558], dtype=float32),\n",
       "  'CAG'),\n",
       " ('#indvsuae sala colg se anne tak to india jeet bhi gaya.. shame on u uae..',\n",
       "  array([-3.616558 , -1.2711003, -0.3672995], dtype=float32),\n",
       "  'CAG'),\n",
       " ('sir jadeja strikes again. shehzad out #indvspak',\n",
       "  array([-0.05433904, -4.536329  , -3.1658945 ], dtype=float32),\n",
       "  'NAG'),\n",
       " ('rt @vksisodiya: waah bhai! gajab gajab! @fakingnews ok, india needs 1712 runs to win - uae #indvsuae http://t.co/yd4w5nffyj',\n",
       "  array([-0.36198208, -3.582753  , -1.2876947 ], dtype=float32),\n",
       "  'NAG'),\n",
       " ('#ShutDownJNU THOSE LEFTIST PIGS JUST CHUCKLED AND SMIRKED, ON THE THOUGHT OF BREAKING INDIA.',\n",
       "  array([-4.500801  , -0.54809356, -0.8895291 ], dtype=float32),\n",
       "  'OAG'),\n",
       " (\"#JNU to teach Nehru's ideology to students (Ref. JNU constitution) Today they (students) want #India 's Barbaadi. Kuch samjhe? #ShutDownJNU\",\n",
       "  array([-4.5918527 , -0.5059315 , -0.94953144], dtype=float32),\n",
       "  'OAG'),\n",
       " ('wickets are falling faster than updates, lol #indvsuae',\n",
       "  array([-1.2394781, -2.2989454, -0.4941324], dtype=float32),\n",
       "  'CAG'),\n",
       " ('both delhi batsmen making 100. aap bhakts: kejriwal revolution. #indvspak #copy.',\n",
       "  array([-0.10144988, -4.3046517 , -2.4893017 ], dtype=float32),\n",
       "  'NAG'),\n",
       " (\"Now it's time to wait & see whether our supreme court can take this as Suo-Moto Cognizance CASE OF SEDITION (SEC 124-A) #ShutDownJNU\",\n",
       "  array([-4.5068717, -0.6552894, -0.7557136], dtype=float32),\n",
       "  'OAG'),\n",
       " (\"yes I #StandwithJNU & for JNU to survive, student shud call off thr protest becoz i don't think in #HLC rec will b revoked\",\n",
       "  array([-4.3666887, -0.6363652, -0.7806803], dtype=float32),\n",
       "  'OAG'),\n",
       " ('Time has cone for #ShutDownJNU',\n",
       "  array([-4.162934 , -0.7774449, -0.6446249], dtype=float32),\n",
       "  'CAG'),\n",
       " ('Racist* In Delhi, both professors and students are persecuted for speaking against BJP govt. #StandWithJNU https:// twitter.com/Real_Devil_Guy /status/730609409810944001 …',\n",
       "  array([-3.3223844 , -0.9806224 , -0.52957416], dtype=float32),\n",
       "  'CAG'),\n",
       " ('#indvsuae s jus for a formality :) kudos to #india in advance :) better do watch #ausvnz',\n",
       "  array([-0.2530958, -3.7922094, -1.6041479], dtype=float32),\n",
       "  'NAG'),\n",
       " ('abe worldcup match hai ya 3 ghante ki movie. #indvsuae',\n",
       "  array([-0.7410169 , -2.7087939 , -0.78361046], dtype=float32),\n",
       "  'NAG'),\n",
       " ('Time and time again it has been proven that award wapsi was completely bogus. #ShutDownJNU',\n",
       "  array([-4.2623463, -0.6879991, -0.7270553], dtype=float32),\n",
       "  'OAG'),\n",
       " ('JNU allow event 2 celebrate terrorist,slogans of destroying India & India is intolerant wish I had an award for #AwardWapsi #ShutDownJNU',\n",
       "  array([-4.6706886, -0.5027504, -0.9525155], dtype=float32),\n",
       "  'OAG'),\n",
       " ('Hauz khas vilage where alcohol is common #rapeculture #shutdownjnu http://www. deccanherald.com/content/592546 /jnu-student-raped-2-afghan.html …',\n",
       "  array([-4.032006 , -0.7144228, -0.7076788], dtype=float32),\n",
       "  'CAG'),\n",
       " ('#ShutDownJNU SHUTDOWN JNU & STOP MISUSING OF TAXPAYERS MONEY>',\n",
       "  array([-4.4978943 , -0.4843272 , -0.98683107], dtype=float32),\n",
       "  'OAG'),\n",
       " ('@joydas @jhunjhunwala @ranvirshorey that mild buranamaanoholihai type feeling #indvspak',\n",
       "  array([-0.05909443, -4.3713455 , -3.1067066 ], dtype=float32),\n",
       "  'NAG'),\n",
       " ('waiting for new #maukamauka advt @starsportsindia #cwc2015 #indvsuae',\n",
       "  array([-0.0832718, -4.3119354, -2.7106836], dtype=float32),\n",
       "  'NAG'),\n",
       " ('shahid ho gaya shaeed....! go india xd #bleedblue #indvspak',\n",
       "  array([-0.05340353, -4.5728235 , -3.177883  ], dtype=float32),\n",
       "  'NAG'),\n",
       " ('#ShutDownJNU #shameonjnu these ppl called themselves Indian students. Thy nt deserve to be called as Indian.. @SirJadejaaaa @TroluKejri https:// twitter.com/IndianExpress/ status/786185671631175680 …',\n",
       "  array([-4.167393  , -0.7512441 , -0.66800946], dtype=float32),\n",
       "  'CAG'),\n",
       " ('suna hai uae ko follow on milega... #indvsuae',\n",
       "  array([-1.876883  , -2.48201   , -0.27002764], dtype=float32),\n",
       "  'CAG'),\n",
       " ('akmal is trolling pakistanis lol #indvspak',\n",
       "  array([-0.10886949, -4.165011  , -2.4347124 ], dtype=float32),\n",
       "  'NAG'),\n",
       " (\"@AnupamPkher @chetan_bhagat Need support for Jnu incident. Raise your voice. Don't sleep #ShutDownJNU\",\n",
       "  array([-4.630933  , -0.47722727, -0.99492043], dtype=float32),\n",
       "  'OAG'),\n",
       " ('#shutdownJNU IS ONLY THE OPTION https:// twitter.com/DrGarekar/stat us/794476286844358656 …',\n",
       "  array([-3.4914057 , -1.1832435 , -0.41059083], dtype=float32),\n",
       "  'CAG'),\n",
       " ('#aus all-round performance in #worldcup2015 1-win 1-draw 1-lost cooling heals at 4th place #ouch #egohurts #indvsuae #ausvsnz',\n",
       "  array([-0.12044564, -4.3589168 , -2.2957838 ], dtype=float32),\n",
       "  'NAG'),\n",
       " ('umya is besht..best is umya!!! he he :d #umeshyadav #indvspak 2 wickets yayaya',\n",
       "  array([-0.09449415, -4.4736915 , -2.5413272 ], dtype=float32),\n",
       "  'NAG'),\n",
       " ('bach gaya sala. by an inch. #indvspak',\n",
       "  array([-0.08231742, -4.144109  , -2.7620378 ], dtype=float32),\n",
       "  'NAG'),\n",
       " (\"JUN Communists wants to practice every constitution right but don't want to practice social responsibility & duties. #Libtards #ShutDownJNU\",\n",
       "  array([-4.899337 , -0.4455434, -1.0439186], dtype=float32),\n",
       "  'OAG'),\n",
       " (\"#StandwithJNU , so that #India 's brightest of #students like Umar & Anirban remain alive to stand with you: https:// youtu.be/-f1dwnJr7mA #mustwatch\",\n",
       "  array([-0.22877939, -3.2749953 , -1.7916859 ], dtype=float32),\n",
       "  'NAG'),\n",
       " ('It is sadng 2 see d mst peacfull religion of d wrld getting maligned by its own ppl plz stop protest hangng of #flashpointafzal #ShutDownJNU',\n",
       "  array([-4.4182453, -0.5342075, -0.9117734], dtype=float32),\n",
       "  'OAG'),\n",
       " ('ek aour out . lololol ... #indvsuae',\n",
       "  array([-0.41290194, -3.0646124 , -1.232369  ], dtype=float32),\n",
       "  'NAG'),\n",
       " ('Jawaharlal Nehru was successor of #Mugal planned Barbadi of India -todays JNU traitors want to continue same Barbadi of India. #ShutDownJNU\"',\n",
       "  array([-4.5812535, -0.4509948, -1.0419567], dtype=float32),\n",
       "  'OAG'),\n",
       " ('#indvsuae will last shorter than #badlapur movie, but surely is more interesting',\n",
       "  array([-2.7404723 , -1.51745   , -0.33381006], dtype=float32),\n",
       "  'CAG'),\n",
       " (\"rt @miss_woww: dear uae! don't worry. india has been kind to pakistan &amp; sa too. sabko batting karne ka mauka milega. #indvsuae\",\n",
       "  array([-2.0533476 , -1.8948051 , -0.32663408], dtype=float32),\n",
       "  'CAG'),\n",
       " ('no. they may end up playing well. ahankaar nahi aana chahiye #kejristyle #indvsuae',\n",
       "  array([-1.1785202 , -2.561413  , -0.48601818], dtype=float32),\n",
       "  'CAG'),\n",
       " ('haahahahahaha wait hahahahahaha rofl hahahahaha rt @cerebralriot: found this gem. #indvspak #wc2015 http://t.co/vyl57gan2v',\n",
       "  array([-0.05942811, -4.464548  , -3.0750613 ], dtype=float32),\n",
       "  'NAG'),\n",
       " ('Im sure somewere in JNU Pakistan ISI pimps are hiding and we have to check JNU funding also #ShutDownJNU',\n",
       "  array([-4.8243227, -0.3856389, -1.1649063], dtype=float32),\n",
       "  'OAG'),\n",
       " ('hahahaha.... yes!! it is toi-let #indvsuae #cwc15 http://t.co/mcyt0mjb7a',\n",
       "  array([-0.20349315, -3.156453  , -1.9551189 ], dtype=float32),\n",
       "  'NAG'),\n",
       " ('mumbai ranji player swapnil patil will play against india #cricketworldcup #indvsuae',\n",
       "  array([-0.6541325, -2.600937 , -0.9016409], dtype=float32),\n",
       "  'NAG'),\n",
       " ('in all 6 matches of wc, pak nvr made team india all-out! india made pak all-out 4 tyms in wc(1992,99,2011 &amp; 15)..! #indvspak #cantbeatindia',\n",
       "  array([-0.12872183, -3.9823503 , -2.281414  ], dtype=float32),\n",
       "  'NAG'),\n",
       " ('uae ka oneday mei lowest score 102 hai aur india ka 54 :) #amazing #indvsuae',\n",
       "  array([-1.3908924, -2.6158965, -0.3885422], dtype=float32),\n",
       "  'CAG'),\n",
       " ('finally, time to move on to the other game. #indvsuae #cwc15',\n",
       "  array([-0.35206094, -3.4070995 , -1.3332255 ], dtype=float32),\n",
       "  'NAG'),\n",
       " (\"#indvspak #cwc15 cuts short's adadam lo #raina ki #raina ay poti 👌\",\n",
       "  array([-0.07096612, -4.107567  , -2.955381  ], dtype=float32),\n",
       "  'NAG'),\n",
       " (\"rt @abreshmina: ooooo... lbw appeal but wasn't given an out .. #indvsuae 3 overs done .. uae 12-1\",\n",
       "  array([-1.2943312 , -2.4721658 , -0.44391948], dtype=float32),\n",
       "  'CAG'),\n",
       " ('#indvspak #cwc15 come on india roklo #pakistan ko or apni lead ko 6-0 banado #india come on india, india.... india.... india...',\n",
       "  array([-0.08168066, -4.4022346 , -2.7153187 ], dtype=float32),\n",
       "  'NAG'),\n",
       " ('These anti nationalists just want to destabilize india.so destabilize these anti nationals,act strongly and harshly.. #ShutDownJNU',\n",
       "  array([-4.6022563 , -0.42711833, -1.0859395 ], dtype=float32),\n",
       "  'OAG'),\n",
       " ('1st drop of the world cup for india..!! #indvsuae',\n",
       "  array([-0.34138867, -3.582798  , -1.3416286 ], dtype=float32),\n",
       "  'NAG'),\n",
       " (\"People who don't trust Indian Constitution and law n order should either leave India or should be thrown out of India #ShutDownJNU\",\n",
       "  array([-4.690947  , -0.43650693, -1.0655684 ], dtype=float32),\n",
       "  'OAG'),\n",
       " ('JNU student from Manipur found dead in his hostel room, body taken for post mortem, details awaited #ShutDownJNU',\n",
       "  array([-4.4454374 , -0.563771  , -0.86938584], dtype=float32),\n",
       "  'OAG'),\n",
       " ('@bhak_sala well NDA=/=JNU: JNU is being opposed 4 antinational activities, #ShutDownJNU NDA pass out will get degree from better place',\n",
       "  array([-4.4048104 , -0.4797627 , -0.99736154], dtype=float32),\n",
       "  'OAG'),\n",
       " ('why #ShutDownJNU not showing in suggestions? is Twitter run by some liberal?',\n",
       "  array([-4.2559943 , -0.59117466, -0.8389954 ], dtype=float32),\n",
       "  'OAG'),\n",
       " ('@madam_robena abhi to start hi kiya kohli ny.... abhi dekhna.... dhammaaaaalllllllll #indvspak #pakvsind',\n",
       "  array([-0.07284387, -4.3314924 , -2.862844  ], dtype=float32),\n",
       "  'NAG'),\n",
       " ('BJP, Nationalist are trending #ShutDownJNU and Gan*** of @AamAadmiParty are busy in #AAPVictoryDay #ShutDownJNU',\n",
       "  array([-4.0293036 , -0.54324216, -0.91291815], dtype=float32),\n",
       "  'OAG'),\n",
       " ('India so tolerant dat is tolerating bleeding intolerants. Can u expect dis in any nation? Evn country like Bhutan would nevr b. #ShutDownJNU',\n",
       "  array([-4.6030736, -0.5875677, -0.8340156], dtype=float32),\n",
       "  'OAG'),\n",
       " ('Tragedy with anti national elements is that take the people of Indian for granted #ShutDownJNU #BoycottAAP https:// twitter.com/ranjanagra11/s tatus/697483873366585344 …',\n",
       "  array([-4.524412  , -0.792832  , -0.62250686], dtype=float32),\n",
       "  'CAG'),\n",
       " ('Nothing new this has been going on for several years in JNU. this is for the first time such things are coming out in public. #ShutDownJNU',\n",
       "  array([-4.7324777 , -0.5308444 , -0.90860254], dtype=float32),\n",
       "  'OAG'),\n",
       " ('@freeforfrndz @kriti87mishra ghamandi kon ha... uae ya ind #indvsuae',\n",
       "  array([-1.3285166 , -2.3738017 , -0.44316056], dtype=float32),\n",
       "  'CAG'),\n",
       " ('rt @advancedmaushi: as per virat kohli that was a \"bhak teri maa ka bhos**\" catch #indvspak',\n",
       "  array([-0.05921634, -4.2356653 , -3.1459296 ], dtype=float32),\n",
       "  'NAG'),\n",
       " ('#captains who won #indvspak wc clash: 1992: azharudin 1996: azharudin 1999: azharudin 2003: gnguly 2011: dhoni 2015: dhoni #wc15',\n",
       "  array([-0.05537057, -4.4694347 , -3.1603281 ], dtype=float32),\n",
       "  'NAG'),\n",
       " ('JNU to be renamed as RBNU (Raah Bhatkey Naujawan University) #ShutDownJNU',\n",
       "  array([-4.271133 , -0.5526599, -0.8900948], dtype=float32),\n",
       "  'OAG'),\n",
       " (\"Why isn't there anymore news on. The jnu hunger strike isn't imp to da media anymore i #StandWithJNU\",\n",
       "  array([-3.872092  , -0.67590874, -0.75397784], dtype=float32),\n",
       "  'OAG'),\n",
       " ('kal to india ka practice match hai.. #indvsuae #iccworldcup2015 let see kal kon kon century marega..!! 😂😂😜😉😁😀😀',\n",
       "  array([-0.48112231, -3.065606  , -1.092774  ], dtype=float32),\n",
       "  'NAG'),\n",
       " ('missing shewag &amp; ghambhir #indvspak',\n",
       "  array([-0.06212559, -4.152131  , -3.1121693 ], dtype=float32),\n",
       "  'NAG'),\n",
       " ('keep calm and support team india india..india..india..india..india.. #bleedblue #wontgiveitback #indvsuae #cwc15',\n",
       "  array([-0.5140617, -3.0558207, -1.0360477], dtype=float32),\n",
       "  'NAG'),\n",
       " ('@amritabhinder: protest outside delhi cm arvind kejriwal’s house over jhuggi demolition http://t.co/jfflud8jkx #kejriuturns #indvspak',\n",
       "  array([-0.1406385, -3.4577692, -2.305622 ], dtype=float32),\n",
       "  'NAG'),\n",
       " ('I do not want my money to be used for JNU Naxalites and Jihadis #ShutDownJNU @smritiirani @narendramodi @arunjaitley',\n",
       "  array([-4.5375185 , -0.35549733, -1.2431461 ], dtype=float32),\n",
       "  'OAG'),\n",
       " ('Speaking against Anti-national JNU\" is proof of fascism, speaking against India is Freedom of Expression? #ShutDownJNU\"',\n",
       "  array([-4.867565  , -0.36222252, -1.2167863 ], dtype=float32),\n",
       "  'OAG'),\n",
       " ('@russelarnold69 namma match ku commentary pannaleiya #indvspak',\n",
       "  array([-0.05610061, -4.4693108 , -3.144214  ], dtype=float32),\n",
       "  'NAG'),\n",
       " ('@mumbai_chokari do ✌ delhi walo ko 😎 out krne me inke loudey lag gaye 😝 or madarchodo 😴 ko kashmir chahiye 😂 #pakistan #india #indvspak',\n",
       "  array([-0.10637017, -3.930532  , -2.5099173 ], dtype=float32),\n",
       "  'NAG'),\n",
       " ('@deepak_says hahahaha bt jeetegi to ind hi ❤❤ #indvsuae',\n",
       "  array([-0.21462683, -3.3468304 , -1.8454018 ], dtype=float32),\n",
       "  'NAG'),\n",
       " ('This is d jnu campus in Delhi. People soughting slogan against India #ShutDownJnu https:// twitter.com/malviyamit/sta tus/697487731081883648 …',\n",
       "  array([-4.353201  , -0.7659546 , -0.64961934], dtype=float32),\n",
       "  'CAG'),\n",
       " ('live: openers give solid start to indian run chase live scorecard: http://t.co/ab9juihhhw #indvsuae #cwc15',\n",
       "  array([-0.11221016, -4.200429  , -2.3952003 ], dtype=float32),\n",
       "  'NAG'),\n",
       " ('Stand with jnu #standwithjnu #queer #supporter #spread the #word https:// twitter.com/akhilkatyal/st atus/729599936338268160 …',\n",
       "  array([-0.26810798, -3.344191  , -1.6100076 ], dtype=float32),\n",
       "  'NAG'),\n",
       " (\"chandu532: rt missiondelhi45: chandu532: ddnewslive: #uhf #indvspak: ravindra jadeja takes umar akmal's (0) wicket. pakistan 105/5 in 25 ov…\",\n",
       "  array([-0.12078609, -4.0326304 , -2.3428981 ], dtype=float32),\n",
       "  'NAG'),\n",
       " ('_ #ShutdownJNU movement necessary...enough is enough',\n",
       "  array([-4.456351 , -0.6804604, -0.7297872], dtype=float32),\n",
       "  'OAG'),\n",
       " ('wicket! a raffaelo (0) is out, c ms dhoni b umesh yadav, 7/1 #indvsuae #cwc15',\n",
       "  array([-0.25354192, -3.5756955 , -1.629861  ], dtype=float32),\n",
       "  'NAG'),\n",
       " ('ra-ha-ne crease pe raha-nahi #indvspak #bleedblue',\n",
       "  array([-0.07233734, -4.4717083 , -2.841207  ], dtype=float32),\n",
       "  'NAG'),\n",
       " ('hahahahah \"@im_atchu: #indvsuae #waca http://t.co/foll2m06bd oh my god',\n",
       "  array([-0.15643461, -3.6623888 , -2.1274438 ], dtype=float32),\n",
       "  'NAG'),\n",
       " ('Before JNU Becomes Jihadi Nurturing University #ShutDownJNU .',\n",
       "  array([-4.6521125 , -0.43375313, -1.0718155 ], dtype=float32),\n",
       "  'OAG'),\n",
       " ('a few months back we had called on to #shutdownjnu , whether it is done ?',\n",
       "  array([-4.575803  , -0.7071756 , -0.69983506], dtype=float32),\n",
       "  'CAG'),\n",
       " ('#ShutDownJNU send all student who supporting afzal guru before they became terrorist',\n",
       "  array([-4.2997108 , -0.5455122 , -0.89923036], dtype=float32),\n",
       "  'OAG'),\n",
       " ('Why #ShutdownJNU .... ?? Why not #ShutdownRssNagpurOffice ..... !!!!???? साँपो का अडडा',\n",
       "  array([-3.9878917 , -0.63903326, -0.79041   ], dtype=float32),\n",
       "  'OAG'),\n",
       " (\"@narendramodi @BJPRajnathSingh @Swamy39 : Please put behind these traitors before its too late. We shouldn't tolerate AntiIndia #ShutDownJNU\",\n",
       "  array([-4.5965047, -0.4856435, -0.9818649], dtype=float32),\n",
       "  'OAG'),\n",
       " ('today reliance will give 4×score of india mb 3g data. so i want india to bat first...#indvsuae',\n",
       "  array([-2.6979394 , -1.5549845 , -0.32647395], dtype=float32),\n",
       "  'CAG'),\n",
       " ('The concubine factory #JNU supplies the retards who become naxals/CPI leaders/Presstitutes. #ShutDownJNU https:// twitter.com/KanchanGupta/s tatus/819597065365790720 …',\n",
       "  array([-4.1755967, -0.644888 , -0.7767187], dtype=float32),\n",
       "  'OAG'),\n",
       " ('#ShutDownJNU fuck antinational bastards',\n",
       "  array([-4.8124657 , -0.46382946, -1.0133486 ], dtype=float32),\n",
       "  'OAG'),\n",
       " ('#indvspak har gaye na hum ,,,yh sab @impkstani tumhari wja sy howa ha !',\n",
       "  array([-0.15439636, -3.6443598 , -2.1461837 ], dtype=float32),\n",
       "  'NAG'),\n",
       " ('JawaharlalNehruUniversity became Sex/Naxalite Adda @HRDMinistry Arms , Rape, AntiNational Courses / Trainings #ShutDownJNU @HMOIndia pic.twitter.com/jV4wPVEfxY',\n",
       "  array([-3.9015667 , -0.65561795, -0.7750764 ], dtype=float32),\n",
       "  'OAG'),\n",
       " ('Hope the nationalist JNU alumini return their degrees, and refuse to accept the same till this anti-nationals are jailed #ShutDownJNU',\n",
       "  array([-4.7171307 , -0.39985627, -1.1374273 ], dtype=float32),\n",
       "  'OAG'),\n",
       " ('afridi..feeling sorry for u :( .....chal koi na next time :) #indvspak',\n",
       "  array([-0.06426249, -4.614086  , -2.9501867 ], dtype=float32),\n",
       "  'NAG'),\n",
       " ('Who has indoctrinated & brainwashed these obdurate & cantankerous dimwits? Expel & expunge anything that promotes Sedition. #ShutDownJNU',\n",
       "  array([-4.4742756 , -0.5075707 , -0.95024735], dtype=float32),\n",
       "  'OAG'),\n",
       " ('#ShutDownJNU #JNURow This time if anti-nationals like #Congress #Rahul #Kejriwal #AAP #CPI come to support send them also to Pakistan... 5/n',\n",
       "  array([-4.2915273 , -0.53350806, -0.9168601 ], dtype=float32),\n",
       "  'OAG'),\n",
       " ('SHAME on people Like them! #ShutDownJNU',\n",
       "  array([-4.687222  , -0.6311668 , -0.77910376], dtype=float32),\n",
       "  'OAG'),\n",
       " ('@policybazaar_in kapil dev made us proud #comparekar #indvspak',\n",
       "  array([-0.09146884, -4.2030306 , -2.6247206 ], dtype=float32),\n",
       "  'NAG'),\n",
       " ('#spectrum4 #cwc15 with ashu, ahti and shah. :d #indvspak http://t.co/niztfhyspy',\n",
       "  array([-0.06030414, -4.13176   , -3.159021  ], dtype=float32),\n",
       "  'NAG'),\n",
       " ('Episode at #ShutDownJNU confirms wht @Swamy39 has been saying fr a long tym! JNU has bcm a bunch of naxalites& antinationals. Boot them out!',\n",
       "  array([-4.988514  , -0.35021383, -1.2425516 ], dtype=float32),\n",
       "  'OAG'),\n",
       " ('Hizbul supporters of JNU and their sleeper cells across central universities hell bent on creating chaos. #JNU #ShutDownJNU pic.twitter.com/lNNgw1td76',\n",
       "  array([-4.6961126, -0.4231701, -1.0909357], dtype=float32),\n",
       "  'OAG'),\n",
       " ('not much excited about #indvsuae. . . only excitement is to watch the new @starsportsindia ad. @icc #cwc15',\n",
       "  array([-0.65958965, -3.0784922 , -0.8280329 ], dtype=float32),\n",
       "  'NAG'),\n",
       " ('#ShutdownJNU Delhi police should provide police protection to VC.',\n",
       "  array([-4.776395  , -0.49443924, -0.963223  ], dtype=float32),\n",
       "  'OAG'),\n",
       " ('#ShutDownJNU #ShutDownJNU #ShutDownJNU And arrest those faces shown on media',\n",
       "  array([-4.687718  , -0.4967032 , -0.96165746], dtype=float32),\n",
       "  'OAG'),\n",
       " ('Who are these #traitors to associate dalits with #terrorist like afzal guru n yakub menon Its an insult to #dalits n INDIA #ShutDownJNU',\n",
       "  array([-4.487177  , -0.5139643 , -0.93999994], dtype=float32),\n",
       "  'OAG'),\n",
       " ('keep calm and believe #kohli ! ! inneram payan veri yethittu iruppan! ! #indvspak',\n",
       "  array([-0.07303238, -4.163506  , -2.9026725 ], dtype=float32),\n",
       "  'NAG'),\n",
       " ('#ShutDownJNU What is VC of JNU doing ? he should first restricate them and Police must lodge FIR against all... http:// fb.me/4I393mgHR',\n",
       "  array([-4.714266  , -0.49379623, -0.9656689 ], dtype=float32),\n",
       "  'OAG'),\n",
       " ('A simple solution: stop all the govt aids. Stop every single tax penny awarded to #JNU Let the motherfuckers pay it themselves. #shutdownjnu',\n",
       "  array([-4.795698 , -0.4473609, -1.0429269], dtype=float32),\n",
       "  'OAG'),\n",
       " (\"JNU should now start conducting an extra test 'patrotism test' at the time of admsns. spcly for 'peaceful' religion people. #ShutDownJNU\",\n",
       "  array([-4.426311  , -0.48486668, -0.98815686], dtype=float32),\n",
       "  'OAG'),\n",
       " ('#ShutDownJNU : we will prove ourselves to be eunuchs if we simply let go these perpetrators of sedition.',\n",
       "  array([-4.6657453 , -0.60043585, -0.8164108 ], dtype=float32),\n",
       "  'OAG'),\n",
       " (\"How can these students roam freely ? Why aren't they behind bars ? #ShutDownJNU\",\n",
       "  array([-4.489266 , -0.6248478, -0.7909183], dtype=float32),\n",
       "  'OAG'),\n",
       " ('shoaib akhtar all praises for dhoni view here: http://t.co/p7vhnhbjvl #cwc15 #indvspak #pakvsind #wewillbringitback http://t.co/ybvnca69jw',\n",
       "  array([-0.07352328, -4.1282525 , -2.9045312 ], dtype=float32),\n",
       "  'NAG'),\n",
       " ('Please do that... Asap #ShutDownJNU',\n",
       "  array([-4.5839415 , -0.81943214, -0.5994681 ], dtype=float32),\n",
       "  'CAG'),\n",
       " (\"didn't get to live tweet during #indvsuae due to college. but luckily i have a holiday on #ind vs #wi , which means i can live tweet! #cwc15\",\n",
       "  array([-1.2926505 , -2.3567457 , -0.46087766], dtype=float32),\n",
       "  'CAG'),\n",
       " ('#ShutDownJNU trending worldwide at no.5 bhakt power',\n",
       "  array([-3.8788834, -0.8154644, -0.6219578], dtype=float32),\n",
       "  'CAG'),\n",
       " ('This happens when freedom of speech is taken for granted. #ShutDownJNU',\n",
       "  array([-4.3457146, -0.7431783, -0.6705292], dtype=float32),\n",
       "  'CAG'),\n",
       " ('tmrw its mauka mauka in waca waca !!! #indvsuae',\n",
       "  array([-0.21189111, -3.4273243 , -1.8421681 ], dtype=float32),\n",
       "  'NAG'),\n",
       " ('dhoni - meri to batting hi nahi ayegi 😭😭😭😭😭😭😭😭😭😭 #indvsuae',\n",
       "  array([-0.93790996, -1.9244982 , -0.77087975], dtype=float32),\n",
       "  'CAG'),\n",
       " ('I agree... #ShutDownJNU https:// twitter.com/abhijeetsinger /status/697494818625159168 …',\n",
       "  array([-3.1510093, -1.0658362, -0.489796 ], dtype=float32),\n",
       "  'CAG'),\n",
       " ('“@djnoreenkhan: this will be an absolute breeze for india #indvsuae”gud job u hav india team in bbc asian network',\n",
       "  array([-0.15608568, -3.6692297 , -2.1284802 ], dtype=float32),\n",
       "  'NAG'),\n",
       " ('What to say about #ShutDownJNU Just Shut Up.',\n",
       "  array([-4.666343 , -0.567945 , -0.8582469], dtype=float32),\n",
       "  'OAG'),\n",
       " ('#indvspak dil dil pakistan!! jan jan pakistan!! pakistan make us proud!!!! 💚',\n",
       "  array([-0.23473921, -3.6981764 , -1.6903533 ], dtype=float32),\n",
       "  'NAG'),\n",
       " ('india 19/0 after 5 overs. #indvsuae dhawan getting into groove. http://t.co/6xjho8cvcx',\n",
       "  array([-0.39626184, -3.3793733 , -1.2272393 ], dtype=float32),\n",
       "  'NAG'),\n",
       " ('is over mei sure #indiawin #indvspak #cwc15 #india #wewontgiveitback',\n",
       "  array([-0.07052852, -4.272632  , -2.9159284 ], dtype=float32),\n",
       "  'NAG'),\n",
       " ('napmindia: .NarmadaBachao activist Mansaram extends support to fasting students #StandWithJNU #FightBackJNU pic.twitter.com/bJjg4yuDCB',\n",
       "  array([-0.5317296, -2.5418096, -1.0975477], dtype=float32),\n",
       "  'NAG'),\n",
       " ('#ShutdownJNU @rajnathsingh pls shut this pak occupied delhi campus. Pls use tax payers money for some national cause.',\n",
       "  array([-4.6398396, -0.4435375, -1.0538915], dtype=float32),\n",
       "  'OAG'),\n",
       " ('. @ArvindKejriwal & . @AamAadmiParty - does this come under outrage or Dharna category of you guys. Check and confirm. #JNU #ShutdownJNU https:// twitter.com/capt_ivane/sta tus/795529233762091008 …',\n",
       "  array([-4.1303506 , -0.67147726, -0.7487243 ], dtype=float32),\n",
       "  'OAG'),\n",
       " (\"Any of these boys was my son, I would've shot him myself #ShutDownJNU\",\n",
       "  array([-4.6062603 , -0.50442564, -0.9515071 ], dtype=float32),\n",
       "  'OAG'),\n",
       " ('Anti-national JNU will never raise voice against something if that is not related to Hinduism. This clearly expose their agenda #ShutDownJNU https:// twitter.com/Aalok_Pradhan/ status/790096114217168896 …',\n",
       "  array([-4.4305563 , -0.60998607, -0.8102797 ], dtype=float32),\n",
       "  'OAG'),\n",
       " ('feb 14: love day feb 15: pakistan ke loude #indvspak',\n",
       "  array([-0.04855099, -4.7934713 , -3.2414389 ], dtype=float32),\n",
       "  'NAG'),\n",
       " ('@narendramodi Ji, Indian University,Indian students but support Terrorists ! Shame on JNU Students #ShutDownJNU',\n",
       "  array([-4.6482253 , -0.51531565, -0.9336674 ], dtype=float32),\n",
       "  'OAG'),\n",
       " ('In solidarity with comrades in #JNU More power to you <3 #StandWithJNU #JNUonHungerStrike #FightBackJNU #struggle https:// twitter.com/prantadarshi/s tatus/729119175545741312 …',\n",
       "  array([-1.4639548 , -2.0275316 , -0.45095384], dtype=float32),\n",
       "  'CAG'),\n",
       " ('rt @vivekvikramvvs: #indvspak #bleedblue rega jha #mustwatchmsg team india #cwc2015 #kohli kohli is awesome... @newsologic #newsologic v',\n",
       "  array([-0.05505832, -4.532983  , -3.1507146 ], dtype=float32),\n",
       "  'NAG'),\n",
       " ('now pakistan can hire terrorists from an institution like JNU .. what else they need. #ShutDownJNU',\n",
       "  array([-4.592968  , -0.50731266, -0.9473537 ], dtype=float32),\n",
       "  'OAG'),\n",
       " ('kajru is getting relief now#indvspak http://t.co/xwqi4mxpq4',\n",
       "  array([-0.05881909, -4.320688  , -3.1273906 ], dtype=float32),\n",
       "  'NAG'),\n",
       " (\"Comon Modiji don't let pride of the nationalist fall Stop acting like manmohan Let the world see what Modi is @BJPRajnathSingh #ShutDownJNU\",\n",
       "  array([-4.6137123 , -0.43097407, -1.0781944 ], dtype=float32),\n",
       "  'OAG'),\n",
       " (\"forecast: hindustan zindabad hai, zindabad tha aur zindabad rahega and then dhoni uproots stump in sunny deol's style. #indvspak\",\n",
       "  array([-0.08417037, -4.28368   , -2.7040558 ], dtype=float32),\n",
       "  'NAG'),\n",
       " ('Crime and punishment: Why the entire JNU administration now faces a crisis of credibility http:// scroll.in/article/807677 /crime-and-punishment-why-the-entire-jnu-administration-now-faces-a-crisis-of-credibility … #StandWithJNU',\n",
       "  array([-3.2683606 , -0.88518333, -0.59912384], dtype=float32),\n",
       "  'CAG'),\n",
       " ('bhaag bhaag well stoped ashwin! #indvspak',\n",
       "  array([-0.06604104, -4.2373075 , -3.0065677 ], dtype=float32),\n",
       "  'NAG'),\n",
       " ('The selfishness n vote bank politics by muslim league led 2 d partn of nation am sighting d same if such traitors r nt stopped #ShutDownJNU',\n",
       "  array([-4.4877377 , -0.45968497, -1.0292596 ], dtype=float32),\n",
       "  'OAG'),\n",
       " ('4 wicket ab to jeet hi jaega india... #indvspak',\n",
       "  array([-0.08197613, -4.5023384 , -2.6938074 ], dtype=float32),\n",
       "  'NAG'),\n",
       " ('rt garbagebingags: dear pakistan 6-0 hahahhahaha....!!! :d #bleedblue #indvspak http://t.co/yb9mfez1ty',\n",
       "  array([-0.14661697, -3.580516  , -2.220876  ], dtype=float32),\n",
       "  'NAG'),\n",
       " ('@hstapanghosh If its becoming a high level anti National Madarsa then #ShutDownJNU',\n",
       "  array([-4.472155 , -0.5374583, -0.9054843], dtype=float32),\n",
       "  'OAG'),\n",
       " (\"world's smallest car, maruti suzuki alto!! #indvspak\",\n",
       "  array([-0.08253577, -4.4596577 , -2.6933308 ], dtype=float32),\n",
       "  'NAG'),\n",
       " (\"chandu532: ddnewslive: #uhf #indvspak: ravindra jadeja takes umar akmal's (0) wicket. pakistan 105/5 in 25 overs| #cwc15 #worldcup2015\",\n",
       "  array([-0.19329989, -3.9679008 , -1.8524517 ], dtype=float32),\n",
       "  'NAG'),\n",
       " ('malbarisss will be confused about who to support their home country or their actual home country .. #indvsuae',\n",
       "  array([-2.2851105 , -1.4634459 , -0.40526545], dtype=float32),\n",
       "  'CAG'),\n",
       " ('medhanarmada: RT napmindia: .NarmadaBachao activist Mansaram extends support to fasting students #StandWithJNU #Fi … pic.twitter.com/bJjg4yuDCB',\n",
       "  array([-0.26476642, -3.013463  , -1.6955755 ], dtype=float32),\n",
       "  'NAG'),\n",
       " ('keeping in view #petrolpricehike @msdhoni decided to lose all matches against uae in future. #indvsuae',\n",
       "  array([-2.3644824 , -2.2846134 , -0.21792145], dtype=float32),\n",
       "  'CAG'),\n",
       " ('pakistan has won the toss,what do u select misbah? misbah:kohli dhoni:chutiye gali cricket nahi hai.teams pehle se decided hai #indvspak',\n",
       "  array([-0.42049277, -3.471857  , -1.1640549 ], dtype=float32),\n",
       "  'NAG'),\n",
       " ('Day12: End the Media Blackout in JNU. #FightBackJNU #WeAreJNU #StandWithJNU @Shehla_Rashid @kanhaiyajnusu pic.twitter.com/LVCYMoZwSc',\n",
       "  array([-1.1315082, -2.3296626, -0.5445117], dtype=float32),\n",
       "  'CAG'),\n",
       " ('We will keep tweeting & government will keep watching. Nothing is going to happen. You know, we are so tolerant. But please #ShutDownJNU',\n",
       "  array([-4.5127773, -0.7017253, -0.7066323], dtype=float32),\n",
       "  'OAG'),\n",
       " ('ekk aur.... yayyyyyy kat lo bhencho #indvspak',\n",
       "  array([-0.06863528, -4.3698597 , -2.9247181 ], dtype=float32),\n",
       "  'NAG'),\n",
       " (\"Anything & everything that has got something to do with the word 'Jawaharlal Nehru' has proved to be insidious for India. #ShutDownJNU\",\n",
       "  array([-4.384469  , -0.67325807, -0.73921967], dtype=float32),\n",
       "  'OAG'),\n",
       " ('#ShutDownJNU : Parties supporting these traitors should be banned and supporters arrested for the act of sedition.',\n",
       "  array([-4.683174  , -0.44905335, -1.0426526 ], dtype=float32),\n",
       "  'OAG'),\n",
       " ('Clear intentions: throttle the govt universities and make private profiters flourish #standwithjnu https:// twitter.com/EconomicTimes/ status/743658834074296321 …',\n",
       "  array([-3.8681617, -0.9135139, -0.5481969], dtype=float32),\n",
       "  'CAG'),\n",
       " ('What Are Vice Chancellors Made Of? http:// lsh.re/1285Z #JNU #StandWithJNU #HCU #WeAreJNU #India #Education #SeditionRow #JNURow',\n",
       "  array([-0.95178616, -2.643559  , -0.6109381 ], dtype=float32),\n",
       "  'CAG'),\n",
       " ('puli ra vaaduuu..puli. 100 for kohli. king kohli. legend #indvspak #cwc15',\n",
       "  array([-0.05763482, -4.511075  , -3.100674  ], dtype=float32),\n",
       "  'NAG'),\n",
       " ('@timesofindia who is \"ashwin nehra\" in team india..?...kuchh bhi haan...;)) @ashwinravi99 #indvsuae #indwins #wc2015 http://t.co/z00nygjwp2',\n",
       "  array([-0.09574533, -4.437419  , -2.532272  ], dtype=float32),\n",
       "  'NAG'),\n",
       " ('Craziest trend I have ever seen #ShutDownJNU @barsha_c14 @mitra_shreya',\n",
       "  array([-4.3803816 , -0.6941907 , -0.71743816], dtype=float32),\n",
       "  'OAG'),\n",
       " ('#ShutDownJNU also because it has @Shehla_Rashid Madam pehle Wiki/Google kijiye fir boliye. Too much difference in India & Venezuela matter.',\n",
       "  array([-4.3590455 , -0.72819746, -0.68432426], dtype=float32),\n",
       "  'CAG'),\n",
       " ('who the fu*k cares what JNU is doing? #ShutDownJNU @ArvindKejriwal',\n",
       "  array([-4.7338243, -0.5404593, -0.8947089], dtype=float32),\n",
       "  'OAG'),\n",
       " ('arvind kejriwal takes charge as the chief minister... #aapkacm #indvspak #indwins #pakvsind #aapkacm http://t.co/hqazjjxogl',\n",
       "  array([-0.11543615, -3.8710918 , -2.428297  ], dtype=float32),\n",
       "  'NAG'),\n",
       " (\"#ShutDownJNU . #FlashpointAfzal The protesting leaders of students Union of JNU even don't know about the trial proceeding's of AfzalG\",\n",
       "  array([-4.5942583 , -0.43452913, -1.0720072 ], dtype=float32),\n",
       "  'OAG'),\n",
       " ('Used condoms....wine bottles...anti national slogans ....& nw weapons #ShutDownJNU pic.twitter.com/pBkytnwxkW',\n",
       "  array([-4.3915377, -0.5655729, -0.8684923], dtype=float32),\n",
       "  'OAG'),\n",
       " ('#ShutDownJNU this stupid antinational university need to be shut down',\n",
       "  array([-4.6575503 , -0.46178663, -1.0206697 ], dtype=float32),\n",
       "  'OAG'),\n",
       " ('keep calm... ghanta calm its india vs. pakistan! #cwc15 #indvspak',\n",
       "  array([-0.22497532, -3.7741063 , -1.7231305 ], dtype=float32),\n",
       "  'NAG'),\n",
       " ('rt @k_sundarpandi: waiting for new #maukamauka add,finish it quickly #india #indvsuae',\n",
       "  array([-0.19604483, -3.6537943 , -1.8830072 ], dtype=float32),\n",
       "  'NAG'),\n",
       " ('RT iNirajVerma: #ShutDownJNU where is #Intolerance bunch of group for reaction abt who un established Indian democ… https:// twitter.com/TimesNow/statu s/697436416658112512 …',\n",
       "  array([-4.694032  , -0.76548845, -0.64294165], dtype=float32),\n",
       "  'CAG'),\n",
       " ('These rats feeds on our hard earned Taxes and they want to break down our beloved country #ShutDownJNU and strip them of all subsidy',\n",
       "  array([-4.330193  , -0.45189005, -1.0486491 ], dtype=float32),\n",
       "  'OAG'),\n",
       " ('@mahekchahal @thegautamgulati countdown begin for big match #indvspak or pak ka mauka nhi ayega . http://t.co/bff9qre6rs',\n",
       "  array([-0.08930356, -4.300205  , -2.6329474 ], dtype=float32),\n",
       "  'NAG'),\n",
       " ('#ShutDownJNU asap. no need to waste tax payers money on these anti Nationals. @narendramodi @PMOIndia @smritiirani',\n",
       "  array([-4.4527493, -0.5341768, -0.9108013], dtype=float32),\n",
       "  'OAG'),\n",
       " ('pakistan scoring in morse code. dot dot dot dot 4 dot dot dot #indvspak',\n",
       "  array([-0.11488199, -4.4640994 , -2.3329036 ], dtype=float32),\n",
       "  'NAG'),\n",
       " ('JNUTA Relay Hunger Strike, Day II #StandWithJNU http:// fb.me/7MDL0baev',\n",
       "  array([-0.13134839, -3.985029  , -2.2586083 ], dtype=float32),\n",
       "  'NAG'),\n",
       " (\"Irony these bunch of idiots don't even know why they're supporting Afzal Guru. Bloody so called intellectual #ShutdownJNU #FlashpointAfzal\",\n",
       "  array([-4.776375  , -0.48801416, -0.9735773 ], dtype=float32),\n",
       "  'OAG'),\n",
       " ('most hundreds in won odis 33 srt 25 ponting 24 jayasuriya 20 vkohli 18 ganguly 17 h amla #cwc15 #indvspak - rizwan_r-s\"',\n",
       "  array([-0.11030632, -4.2449646 , -2.4067912 ], dtype=float32),\n",
       "  'NAG'),\n",
       " ('awesome spell from @ashwinravi99 #ind 25 runs &amp; 4 wickets cool #cwc15 @cricketworldcup @bcci #indvsuae #uae',\n",
       "  array([-0.2582235, -3.7168117, -1.5932393], dtype=float32),\n",
       "  'NAG'),\n",
       " ('misbah is middling it well aam. inime nee vayasuku vandha ena varlina ena. 😂 #indvspak #wontgiveitback #cwc15',\n",
       "  array([-0.0915574, -4.1421595, -2.6366258], dtype=float32),\n",
       "  'NAG'),\n",
       " (\"With these kinds of acts..we are just easing the job of ISIS! Though don't #ShutDownJNU but take necessary actions agnst this mishappening!\",\n",
       "  array([-4.383823  , -0.51491404, -0.94168425], dtype=float32),\n",
       "  'OAG'),\n",
       " ('@bcci #indvsuae http://t.co/bnmgzny1px....good news best of luuk team india.',\n",
       "  array([-0.1463964, -4.142151 , -2.1177979], dtype=float32),\n",
       "  'NAG'),\n",
       " ('@smritiirani these goons can be booked under Section 124-A #ShutDownJNU @Swamy39',\n",
       "  array([-4.4518175, -0.7484744, -0.6630936], dtype=float32),\n",
       "  'CAG'),\n",
       " ('ye uae ki team lull hai. #indvsuae',\n",
       "  array([-2.2281406 , -2.000371  , -0.27841005], dtype=float32),\n",
       "  'CAG'),\n",
       " ('These days it is easy to glorify terrorist on the pretext of free speech #ShutDownJNU',\n",
       "  array([-4.611153  , -0.49827737, -0.96107036], dtype=float32),\n",
       "  'OAG'),\n",
       " ('#ShutDownJNU These traitors should be shot in the head. There are these eunuchs and then there is a real Indian Hanumanthappa.',\n",
       "  array([-4.472973  , -0.62847173, -0.7870618 ], dtype=float32),\n",
       "  'OAG'),\n",
       " ('tt uk 08:24 1.#thedress 2.#ausvnz 3.#nzvaus 4.#watson27 5.#indvsuae 6.jihadi john 7.boris nemtsov 8.spock 9.starc 10.cage',\n",
       "  array([-0.09477448, -4.527561  , -2.530553  ], dtype=float32),\n",
       "  'NAG'),\n",
       " ('Where r people who returned awards for #Intorance India now all r quite #shame pls take action @narendramodi @ArvindKejriwal #ShutDownJNU',\n",
       "  array([-4.0012684 , -0.6835026 , -0.74052817], dtype=float32),\n",
       "  'OAG'),\n",
       " ('#ShutDownJNU do it..',\n",
       "  array([-4.38236   , -0.6500356 , -0.76469254], dtype=float32),\n",
       "  'OAG'),\n",
       " ('shout it loud. kohli , kohli #indvspak #cwc15',\n",
       "  array([-0.07057696, -4.5446315 , -2.855625  ], dtype=float32),\n",
       "  'NAG'),\n",
       " (\"Let's Arnab decide fate of JNU on timesnow #ShutDownJNU\",\n",
       "  array([-4.5860243 , -0.53745055, -0.90245974], dtype=float32),\n",
       "  'OAG'),\n",
       " ('#ShutDownJNU @TimesNow kindly expose students & professor of JNU, there is definitely pakistani link. Tax payers in burden',\n",
       "  array([-4.5832934, -0.4434896, -1.0555935], dtype=float32),\n",
       "  'OAG'),\n",
       " ('modi n nawaz k phone kya h, bas ab to match fix hgya! #indvspak #justpakistanithings',\n",
       "  array([-0.12011734, -3.6296937 , -2.4457705 ], dtype=float32),\n",
       "  'NAG'),\n",
       " ('revenge #maukamauka | india #cwc2015 | #wontgiveitback | social message ad https://t.co/iroh2dw4rz #indvsuae',\n",
       "  array([-0.1356478, -3.8288555, -2.2526953], dtype=float32),\n",
       "  'NAG'),\n",
       " ('Son of a Dalit, Muslim and Terrorist we will help you but Son of a Soldier, we the students of JNU dnt care #ShutDownJNU',\n",
       "  array([-4.5900774 , -0.47777236, -0.995105  ], dtype=float32),\n",
       "  'OAG'),\n",
       " ('#indvsuae : #uae all out 102... #ashwin 4, jadeja n umesh 2, bhuvi-mohit 1 wickets each',\n",
       "  array([-0.759707 , -2.884735 , -0.7416508], dtype=float32),\n",
       "  'CAG'),\n",
       " (\"@jyotsnadevi33 @timesofindia This is the culture #JNU imparts. True to the parson after whom it's named. #ShutDownJNU .\",\n",
       "  array([-4.2765455, -0.637071 , -0.7824806], dtype=float32),\n",
       "  'OAG'),\n",
       " (\"#ShutDownJNU @narendramodi ji in a healthy democracy opposition's voice shld be respected not suppresd\",\n",
       "  array([-4.359928 , -0.5763023, -0.8550825], dtype=float32),\n",
       "  'OAG'),\n",
       " ('#ShutDownJNU #FlashpointAfzal When ABVP had opposed rohit Vemula 4 supporting afzal, gaddar Aaptards & Chor RAGA gave it a caste twist.',\n",
       "  array([-4.0638103, -0.5402668, -0.9157315], dtype=float32),\n",
       "  'OAG'),\n",
       " (\"If it's #ShutDownJNU then just punish the CULPRITS. Why such disgusting #ShutDownJNU ??? Fools.\",\n",
       "  array([-4.451772 , -0.5160456, -0.9378569], dtype=float32),\n",
       "  'OAG'),\n",
       " (\"Sonia's sleeper cell to trigger unrest in INDIA. #Presstitutes #AwardWapsi gang #SeditionGang #shutDownJNU @eparitosh\",\n",
       "  array([-4.265677  , -0.52813166, -0.92570513], dtype=float32),\n",
       "  'OAG'),\n",
       " ('@starof_eyes : will be online tomorrow during #indvspak ! maukaa.ṁaukaa.ṁaukaa',\n",
       "  array([-0.06076228, -4.669054  , -3.0043306 ], dtype=float32),\n",
       "  'NAG'),\n",
       " ('These people feeding on taxpayers money and have total disrespect for the nation Hang these rodents #ShutDownJNU https:// twitter.com/MatruBhakt/sta tus/697492951149064192 …',\n",
       "  array([-4.2363167 , -0.56702113, -0.87149274], dtype=float32),\n",
       "  'OAG'),\n",
       " ('well said Dr. @RakeshSinha01 . we are with u #ShutDownJNU https:// twitter.com/RakeshSinha01/ status/697478911345631232 …',\n",
       "  array([-3.5126758 , -1.1436493 , -0.42843342], dtype=float32),\n",
       "  'CAG'),\n",
       " (\"I do NOT agree with the top trending #ShutDownJNU . Rather #OpenUpJNU . Its sheer nuisance is the best example of India's unlimited tolerance.\",\n",
       "  array([-4.385441  , -0.66170204, -0.7516873 ], dtype=float32),\n",
       "  'OAG'),\n",
       " ('dear #starsports team, please dont wait for the match to end, start showing us the next mauka ad :d ;) :d #indvsuae',\n",
       "  array([-0.30391285, -3.5564759 , -1.4544207 ], dtype=float32),\n",
       "  'NAG'),\n",
       " ('@OfficeOfRG #shutdownJNU u want to rule India by supporting antinational elements that is not possible',\n",
       "  array([-4.6332874, -0.5257664, -0.9183552], dtype=float32),\n",
       "  'OAG'),\n",
       " ('According to me jnu not any university jnu is a House of Terrorist and traitor.so we want #shutdownjnu',\n",
       "  array([-4.6475315 , -0.60162914, -0.81532276], dtype=float32),\n",
       "  'OAG'),\n",
       " (\"#ShutDownJNU why BJP is so Defen mod ? HM pls do smtg now what's goin onnnnnn\",\n",
       "  array([-4.7345047 , -0.5326871 , -0.90587574], dtype=float32),\n",
       "  'OAG'),\n",
       " ('#indvspak mcenroe vs connors, jordan vs johnson, coke vs pepsi, brazil vs argentina, patriots vs packers, bmw vs audi, india vs pakistan.',\n",
       "  array([-0.08770725, -4.378431  , -2.6390939 ], dtype=float32),\n",
       "  'NAG'),\n",
       " ('best of luck pakistan for today #pakvsind jeetay ga bhai jeetay ga pakistan jeetay ga 🚩 #pakvind #indvspak #cwc15',\n",
       "  array([-0.09236508, -4.4376516 , -2.5717196 ], dtype=float32),\n",
       "  'NAG'),\n",
       " ('#ShutDownJNU because Indian democracy feel threatened.. Bravo...',\n",
       "  array([-4.6410847 , -0.6875432 , -0.71837693], dtype=float32),\n",
       "  'OAG'),\n",
       " ('These people are supported by congress and i am sure that congress party will not give any statements against them. #ShutDownJNU',\n",
       "  array([-4.8035955 , -0.47798836, -0.98947895], dtype=float32),\n",
       "  'OAG'),\n",
       " ('get back to seats. #indvsuae #cwc15 #cwcfantasy',\n",
       "  array([-0.20395134, -3.8091435 , -1.818119  ], dtype=float32),\n",
       "  'NAG'),\n",
       " ('eeeeeeeee😁 bhuvi is back wit a wicket😆😆 @bhuviofficial 😇 #indvsuae #cwc15',\n",
       "  array([-0.18631151, -3.1801236 , -2.0525706 ], dtype=float32),\n",
       "  'NAG'),\n",
       " ('Look at the condition of the reviews of the best authors of india !! One ishtaaar!!! #ShutDownJNU pic.twitter.com/aihKF4BQ0T',\n",
       "  array([-3.6253037 , -0.9129571 , -0.55857545], dtype=float32),\n",
       "  'CAG')]"
      ]
     },
     "execution_count": 30,
     "metadata": {},
     "output_type": "execute_result"
    }
   ],
   "source": [
    "predictions"
   ]
  },
  {
   "cell_type": "code",
   "execution_count": 31,
   "metadata": {
    "colab": {},
    "colab_type": "code",
    "id": "3VmVjypJEAFh"
   },
   "outputs": [
    {
     "data": {
      "text/plain": [
       "(252, 3)"
      ]
     },
     "execution_count": 31,
     "metadata": {},
     "output_type": "execute_result"
    }
   ],
   "source": [
    "x = np.array(predictions)\n",
    "np.shape(x)"
   ]
  },
  {
   "cell_type": "code",
   "execution_count": 32,
   "metadata": {
    "colab": {},
    "colab_type": "code",
    "id": "GceWnjfUGAJo"
   },
   "outputs": [
    {
     "data": {
      "text/plain": [
       "array([['jab sunday ko team india se pakistan takrayega tab stadium me sirf tringa laherayega #cwc15 #indvspak #worldcup http://t.co/dfhwom137b',\n",
       "        array([-0.07745104, -4.3284955 , -2.7913182 ], dtype=float32),\n",
       "        'NAG'],\n",
       "       ['@narendramodi #ShutDownJNU we need education but not against nation',\n",
       "        array([-4.5315466 , -0.57805234, -0.8480573 ], dtype=float32),\n",
       "        'OAG'],\n",
       "       ['#maukepechauka! india vs uae - india wins now turn for uae mauka mauka starsport ads. #indvssa, #indvsuae, #cwc15 http://t.co/kaimvazi2z',\n",
       "        array([-0.12864865, -4.393031  , -2.2223516 ], dtype=float32),\n",
       "        'NAG'],\n",
       "       ['#indvsuae bhubaneswar kumar is back and',\n",
       "        array([-0.6535944, -2.6725497, -0.8897672], dtype=float32),\n",
       "        'NAG'],\n",
       "       ['#ShutDownJNU JNU IS THE NURSERY OF ANTI-NATIONALS AND TERRORIST-LOVERS. KEEP IT TRENDING! LET THESE TRAITORS KNOW, THEIR GAME IS OVER.',\n",
       "        array([-4.587813 , -0.3960981, -1.149219 ], dtype=float32),\n",
       "        'OAG'],\n",
       "       ['They are fasting unto death! #StandwithJNU #StandforJNU #WithyouJNU http:// fb.me/7Qx6LZfP2',\n",
       "        array([-0.21673554, -3.261534  , -1.854523  ], dtype=float32),\n",
       "        'NAG'],\n",
       "       ['#shutdownJNU Police act shd hve been earlier &not let ghero\"go on?Our law &order/Govt indecisive unable2 handle precipitating situations\"',\n",
       "        array([-4.599832  , -0.64874953, -0.76089627], dtype=float32),\n",
       "        'OAG'],\n",
       "       ['@compareraja wow i won with india... india india india india #cricketcompare #indvspak',\n",
       "        array([-0.10682451, -4.300229  , -2.4332495 ], dtype=float32),\n",
       "        'NAG'],\n",
       "       ['@Ramesh70739140 #ShutDownJNU they are dalit, surviving on quota and has problems with India.. They think they are owner of India.',\n",
       "        array([-4.463918  , -0.58578426, -0.83976096], dtype=float32),\n",
       "        'OAG'],\n",
       "       ['#ShutDownJNU #JNURow #JNU morons but have whole lot of free time for #antinationalacts #sexscandals #drugrackets and all...7/n',\n",
       "        array([-4.377916  , -0.38735732, -1.1757092 ], dtype=float32),\n",
       "        'OAG'],\n",
       "       ['tamil guy dismissing malyalam guy #indvsuae #ashwin #karate',\n",
       "        array([-0.61281455, -2.7680979 , -0.92787015], dtype=float32),\n",
       "        'NAG'],\n",
       "       ['dear @AamAadmiParty throw ur senseless trends #AAPVictoryDay ...support nationalist trends #ShutDownJNU .... @ArvindKejriwal @DrKumarVishwas',\n",
       "        array([-4.1977987 , -0.49740204, -0.9758737 ], dtype=float32),\n",
       "        'OAG'],\n",
       "       [\"@kanhaiyajnusu @smritiirani kanhaiya you are not alone don't botherd about these SANGHI'S we are with you #StandWithJNU #JNU\",\n",
       "        array([-1.6296815 , -1.7212633 , -0.46973503], dtype=float32),\n",
       "        'CAG'],\n",
       "       ['We want tweet from @narendramodi @BJPRajnathSingh @manoharparrikar @KirenRijiju @arunjaitley @Ajit_Dobhal @smritiirani #ShutDownJNU',\n",
       "        array([-3.495243  , -0.5443958 , -0.94297785], dtype=float32),\n",
       "        'OAG'],\n",
       "       [\"13 days of hunger strike and he couldn't handle twenty mins of heat. #StandWithJNU https:// kafila.org/2016/05/10/run -jaggu-run-the-jnu-vc-runs-away-from-the-academic-council-meeting/ …\",\n",
       "        array([-1.7180353 , -2.1669383 , -0.34806362], dtype=float32),\n",
       "        'CAG'],\n",
       "       ['shikhar dawan at half century. scorecard-110/1 #indvspak chak de indiawaale',\n",
       "        array([-0.11814813, -4.116465  , -2.3524747 ], dtype=float32),\n",
       "        'NAG'],\n",
       "       ['@waglenikhil pls use #ShutDownJNU and show ur patriotism',\n",
       "        array([-4.379554 , -0.5253614, -0.9260193], dtype=float32),\n",
       "        'OAG'],\n",
       "       ['University is supposed to be a place to study but communists has made JNU n many like universities a political field #ShutDownJNU',\n",
       "        array([-4.713529  , -0.38931665, -1.1599331 ], dtype=float32),\n",
       "        'OAG'],\n",
       "       ['More power to you JNU . #StandWithJNU #RejectHLEC #BJPKillsDemocracy pic.twitter.com/ATbPL4Qa4t',\n",
       "        array([-0.26327446, -3.3381822 , -1.6298056 ], dtype=float32),\n",
       "        'NAG'],\n",
       "       ['abhi bhi 1 hundred k liye wait krna pdega misbah gone #indvspak',\n",
       "        array([-0.0616535, -4.20824  , -3.1028972], dtype=float32),\n",
       "        'NAG'],\n",
       "       ['@DelhiPolice - What is stopping u from arresting the ppl chanting Anti India slogans at JNU? Pls act swiftly and arrest them. #ShutDownJNU',\n",
       "        array([-4.42298   , -0.4801597 , -0.99609977], dtype=float32),\n",
       "        'OAG'],\n",
       "       ['we need a 10 wicket win #indvsuae',\n",
       "        array([-2.0879874, -2.0868301, -0.2850405], dtype=float32),\n",
       "        'CAG'],\n",
       "       ['3rd consecutive victory...yayyaayyy...:d #wontgiveitback #indvsuae',\n",
       "        array([-0.30478826, -3.5480564 , -1.4526908 ], dtype=float32),\n",
       "        'NAG'],\n",
       "       ['kohli termed as :\"barack\" kohli from pak team :) #indvspak',\n",
       "        array([-0.0585548, -4.35174  , -3.1238153], dtype=float32),\n",
       "        'NAG'],\n",
       "       [\"#ShutDownJNU @smritiirani if they can't learn anything then it's up to us to teach them morals and respect . They are cancer shud be remvd\",\n",
       "        array([-4.4842734, -0.547287 , -0.8911159], dtype=float32),\n",
       "        'OAG'],\n",
       "       ['#ShutDownJNU As v cn c dat #JNU z continusly in prblm,v urge Govt. to shut it down bcoz diseased body part shud b removed by surgery.',\n",
       "        array([-4.2401347 , -0.4845543 , -0.99527264], dtype=float32),\n",
       "        'OAG'],\n",
       "       [\"#ShutDownJNU Don't turn your eyes.. 4 the sake of vote bank politics see reality of emerging current divide. pic.twitter.com/hb6wx3nIa8\",\n",
       "        array([-4.5579567 , -0.6436955 , -0.76750636], dtype=float32),\n",
       "        'OAG'],\n",
       "       [\"#ShutDownJNU don't waste taxpayers money for people like these #shutdownjnu\",\n",
       "        array([-4.7241964 , -0.57004833, -0.8541988 ], dtype=float32),\n",
       "        'OAG'],\n",
       "       [\"#ShutDownJNU don't be surprised if umar Khalid leaves India joins isis dies in a blast & candle March is held in jnu as shaheed umarkhalid\",\n",
       "        array([-4.4433084 , -0.5095378 , -0.94811726], dtype=float32),\n",
       "        'OAG'],\n",
       "       [\"pakistaniyo so jao, we're going to set u on fire tomorrow. kal india diwali manayegi. #indvspak\",\n",
       "        array([-0.2669621, -3.5754116, -1.5784528], dtype=float32),\n",
       "        'NAG'],\n",
       "       [\"The continued media radio silence over the JNU students' hunger strike is tragic. #FightBackJNU #StandwithJNU https:// twitter.com/kafila/status/ 729601373000454148 …\",\n",
       "        array([-1.7486193, -2.080141 , -0.3551427], dtype=float32),\n",
       "        'CAG'],\n",
       "       ['@NupurSharmaBJP @TimesNow @thenewshour Many time when the anit national were speaking. #ShutDownJNU',\n",
       "        array([-4.1204295 , -0.68297917, -0.73678046], dtype=float32),\n",
       "        'OAG'],\n",
       "       ['#NSUIAgainstIndia #ShutDownJNU Freedom of speech is crossing line, spreading hatred against ppl ! @sambitswaraj @Swamy39',\n",
       "        array([-4.5837526 , -0.40991116, -1.12063   ], dtype=float32),\n",
       "        'OAG'],\n",
       "       [\"#indvspak dhoni steps in. c'mon india.\",\n",
       "        array([-0.06066883, -4.544312  , -3.0316153 ], dtype=float32),\n",
       "        'NAG'],\n",
       "       ['ind vs wi mauka mauka latest add....lolz: http://t.co/ycigjylxuf @cricketworldcup @icclive #indvsuae #pakvszim #srlveng #slvseng #kp',\n",
       "        array([-0.13355501, -4.259327  , -2.1992276 ], dtype=float32),\n",
       "        'NAG'],\n",
       "       ['#ShutDownJNU For @TimesNow students chanting afzal guru is dissident\"?? Os this an option? Shame! https:// twitter.com/TimesNow/statu s/697403553107697665 …\"',\n",
       "        array([-4.2705317, -0.7309942, -0.6839981], dtype=float32),\n",
       "        'CAG'],\n",
       "       ['@sethuactor what is the need of speed boat,,when i can piss and drown them :D #ShutDownJNU Salo ko Moot ke baha doonga... #MutraProtestJNU',\n",
       "        array([-4.29507  , -0.7387994, -0.6759414], dtype=float32),\n",
       "        'CAG'],\n",
       "       ['indiaaaaa india :d :* wewon again :3 #kohli #dhawan #raina #captioncool &lt;3 #cwc15 #indvspak #wewontgiveitback http://t.co/eziixkkumf',\n",
       "        array([-0.06626744, -4.51943   , -2.9332435 ], dtype=float32),\n",
       "        'NAG'],\n",
       "       ['@IAMSUNNYDEOL take a bow paaji.... millions #respect to you, you nail it.. 100/100 for #GhayalOnceAgain #AAPVictoryDay #shutdownJNU',\n",
       "        array([-3.6607757 , -0.84798247, -0.60511935], dtype=float32),\n",
       "        'CAG'],\n",
       "       ['rt @rajat_skfan: hahaha new add by @starsportsindia for #indvsuae !! https://t.co/iqhs34ggox mindblowingggg',\n",
       "        array([-0.06451812, -4.620775  , -2.9443595 ], dtype=float32),\n",
       "        'NAG'],\n",
       "       [\"#JNU runs by my money and your money .. And I don't want my money to get spent on few toxic fucking anti-nationalists #ShutDownJNU\",\n",
       "        array([-4.660683  , -0.43244168, -1.0740643 ], dtype=float32),\n",
       "        'OAG'],\n",
       "       [\"when you're up at 3 in the morning to watch india play cricket #indvsuae\",\n",
       "        array([-1.417401 , -2.0889664, -0.4559558], dtype=float32),\n",
       "        'CAG'],\n",
       "       ['#indvsuae sala colg se anne tak to india jeet bhi gaya.. shame on u uae..',\n",
       "        array([-3.616558 , -1.2711003, -0.3672995], dtype=float32),\n",
       "        'CAG'],\n",
       "       ['sir jadeja strikes again. shehzad out #indvspak',\n",
       "        array([-0.05433904, -4.536329  , -3.1658945 ], dtype=float32),\n",
       "        'NAG'],\n",
       "       ['rt @vksisodiya: waah bhai! gajab gajab! @fakingnews ok, india needs 1712 runs to win - uae #indvsuae http://t.co/yd4w5nffyj',\n",
       "        array([-0.36198208, -3.582753  , -1.2876947 ], dtype=float32),\n",
       "        'NAG'],\n",
       "       ['#ShutDownJNU THOSE LEFTIST PIGS JUST CHUCKLED AND SMIRKED, ON THE THOUGHT OF BREAKING INDIA.',\n",
       "        array([-4.500801  , -0.54809356, -0.8895291 ], dtype=float32),\n",
       "        'OAG'],\n",
       "       [\"#JNU to teach Nehru's ideology to students (Ref. JNU constitution) Today they (students) want #India 's Barbaadi. Kuch samjhe? #ShutDownJNU\",\n",
       "        array([-4.5918527 , -0.5059315 , -0.94953144], dtype=float32),\n",
       "        'OAG'],\n",
       "       ['wickets are falling faster than updates, lol #indvsuae',\n",
       "        array([-1.2394781, -2.2989454, -0.4941324], dtype=float32),\n",
       "        'CAG'],\n",
       "       ['both delhi batsmen making 100. aap bhakts: kejriwal revolution. #indvspak #copy.',\n",
       "        array([-0.10144988, -4.3046517 , -2.4893017 ], dtype=float32),\n",
       "        'NAG'],\n",
       "       [\"Now it's time to wait & see whether our supreme court can take this as Suo-Moto Cognizance CASE OF SEDITION (SEC 124-A) #ShutDownJNU\",\n",
       "        array([-4.5068717, -0.6552894, -0.7557136], dtype=float32),\n",
       "        'OAG'],\n",
       "       [\"yes I #StandwithJNU & for JNU to survive, student shud call off thr protest becoz i don't think in #HLC rec will b revoked\",\n",
       "        array([-4.3666887, -0.6363652, -0.7806803], dtype=float32),\n",
       "        'OAG'],\n",
       "       ['Time has cone for #ShutDownJNU',\n",
       "        array([-4.162934 , -0.7774449, -0.6446249], dtype=float32),\n",
       "        'CAG'],\n",
       "       ['Racist* In Delhi, both professors and students are persecuted for speaking against BJP govt. #StandWithJNU https:// twitter.com/Real_Devil_Guy /status/730609409810944001 …',\n",
       "        array([-3.3223844 , -0.9806224 , -0.52957416], dtype=float32),\n",
       "        'CAG'],\n",
       "       ['#indvsuae s jus for a formality :) kudos to #india in advance :) better do watch #ausvnz',\n",
       "        array([-0.2530958, -3.7922094, -1.6041479], dtype=float32),\n",
       "        'NAG'],\n",
       "       ['abe worldcup match hai ya 3 ghante ki movie. #indvsuae',\n",
       "        array([-0.7410169 , -2.7087939 , -0.78361046], dtype=float32),\n",
       "        'NAG'],\n",
       "       ['Time and time again it has been proven that award wapsi was completely bogus. #ShutDownJNU',\n",
       "        array([-4.2623463, -0.6879991, -0.7270553], dtype=float32),\n",
       "        'OAG'],\n",
       "       ['JNU allow event 2 celebrate terrorist,slogans of destroying India & India is intolerant wish I had an award for #AwardWapsi #ShutDownJNU',\n",
       "        array([-4.6706886, -0.5027504, -0.9525155], dtype=float32),\n",
       "        'OAG'],\n",
       "       ['Hauz khas vilage where alcohol is common #rapeculture #shutdownjnu http://www. deccanherald.com/content/592546 /jnu-student-raped-2-afghan.html …',\n",
       "        array([-4.032006 , -0.7144228, -0.7076788], dtype=float32),\n",
       "        'CAG'],\n",
       "       ['#ShutDownJNU SHUTDOWN JNU & STOP MISUSING OF TAXPAYERS MONEY>',\n",
       "        array([-4.4978943 , -0.4843272 , -0.98683107], dtype=float32),\n",
       "        'OAG'],\n",
       "       ['@joydas @jhunjhunwala @ranvirshorey that mild buranamaanoholihai type feeling #indvspak',\n",
       "        array([-0.05909443, -4.3713455 , -3.1067066 ], dtype=float32),\n",
       "        'NAG'],\n",
       "       ['waiting for new #maukamauka advt @starsportsindia #cwc2015 #indvsuae',\n",
       "        array([-0.0832718, -4.3119354, -2.7106836], dtype=float32),\n",
       "        'NAG'],\n",
       "       ['shahid ho gaya shaeed....! go india xd #bleedblue #indvspak',\n",
       "        array([-0.05340353, -4.5728235 , -3.177883  ], dtype=float32),\n",
       "        'NAG'],\n",
       "       ['#ShutDownJNU #shameonjnu these ppl called themselves Indian students. Thy nt deserve to be called as Indian.. @SirJadejaaaa @TroluKejri https:// twitter.com/IndianExpress/ status/786185671631175680 …',\n",
       "        array([-4.167393  , -0.7512441 , -0.66800946], dtype=float32),\n",
       "        'CAG'],\n",
       "       ['suna hai uae ko follow on milega... #indvsuae',\n",
       "        array([-1.876883  , -2.48201   , -0.27002764], dtype=float32),\n",
       "        'CAG'],\n",
       "       ['akmal is trolling pakistanis lol #indvspak',\n",
       "        array([-0.10886949, -4.165011  , -2.4347124 ], dtype=float32),\n",
       "        'NAG'],\n",
       "       [\"@AnupamPkher @chetan_bhagat Need support for Jnu incident. Raise your voice. Don't sleep #ShutDownJNU\",\n",
       "        array([-4.630933  , -0.47722727, -0.99492043], dtype=float32),\n",
       "        'OAG'],\n",
       "       ['#shutdownJNU IS ONLY THE OPTION https:// twitter.com/DrGarekar/stat us/794476286844358656 …',\n",
       "        array([-3.4914057 , -1.1832435 , -0.41059083], dtype=float32),\n",
       "        'CAG'],\n",
       "       ['#aus all-round performance in #worldcup2015 1-win 1-draw 1-lost cooling heals at 4th place #ouch #egohurts #indvsuae #ausvsnz',\n",
       "        array([-0.12044564, -4.3589168 , -2.2957838 ], dtype=float32),\n",
       "        'NAG'],\n",
       "       ['umya is besht..best is umya!!! he he :d #umeshyadav #indvspak 2 wickets yayaya',\n",
       "        array([-0.09449415, -4.4736915 , -2.5413272 ], dtype=float32),\n",
       "        'NAG'],\n",
       "       ['bach gaya sala. by an inch. #indvspak',\n",
       "        array([-0.08231742, -4.144109  , -2.7620378 ], dtype=float32),\n",
       "        'NAG'],\n",
       "       [\"JUN Communists wants to practice every constitution right but don't want to practice social responsibility & duties. #Libtards #ShutDownJNU\",\n",
       "        array([-4.899337 , -0.4455434, -1.0439186], dtype=float32),\n",
       "        'OAG'],\n",
       "       [\"#StandwithJNU , so that #India 's brightest of #students like Umar & Anirban remain alive to stand with you: https:// youtu.be/-f1dwnJr7mA #mustwatch\",\n",
       "        array([-0.22877939, -3.2749953 , -1.7916859 ], dtype=float32),\n",
       "        'NAG'],\n",
       "       ['It is sadng 2 see d mst peacfull religion of d wrld getting maligned by its own ppl plz stop protest hangng of #flashpointafzal #ShutDownJNU',\n",
       "        array([-4.4182453, -0.5342075, -0.9117734], dtype=float32),\n",
       "        'OAG'],\n",
       "       ['ek aour out . lololol ... #indvsuae',\n",
       "        array([-0.41290194, -3.0646124 , -1.232369  ], dtype=float32),\n",
       "        'NAG'],\n",
       "       ['Jawaharlal Nehru was successor of #Mugal planned Barbadi of India -todays JNU traitors want to continue same Barbadi of India. #ShutDownJNU\"',\n",
       "        array([-4.5812535, -0.4509948, -1.0419567], dtype=float32),\n",
       "        'OAG'],\n",
       "       ['#indvsuae will last shorter than #badlapur movie, but surely is more interesting',\n",
       "        array([-2.7404723 , -1.51745   , -0.33381006], dtype=float32),\n",
       "        'CAG'],\n",
       "       [\"rt @miss_woww: dear uae! don't worry. india has been kind to pakistan &amp; sa too. sabko batting karne ka mauka milega. #indvsuae\",\n",
       "        array([-2.0533476 , -1.8948051 , -0.32663408], dtype=float32),\n",
       "        'CAG'],\n",
       "       ['no. they may end up playing well. ahankaar nahi aana chahiye #kejristyle #indvsuae',\n",
       "        array([-1.1785202 , -2.561413  , -0.48601818], dtype=float32),\n",
       "        'CAG'],\n",
       "       ['haahahahahaha wait hahahahahaha rofl hahahahaha rt @cerebralriot: found this gem. #indvspak #wc2015 http://t.co/vyl57gan2v',\n",
       "        array([-0.05942811, -4.464548  , -3.0750613 ], dtype=float32),\n",
       "        'NAG'],\n",
       "       ['Im sure somewere in JNU Pakistan ISI pimps are hiding and we have to check JNU funding also #ShutDownJNU',\n",
       "        array([-4.8243227, -0.3856389, -1.1649063], dtype=float32),\n",
       "        'OAG'],\n",
       "       ['hahahaha.... yes!! it is toi-let #indvsuae #cwc15 http://t.co/mcyt0mjb7a',\n",
       "        array([-0.20349315, -3.156453  , -1.9551189 ], dtype=float32),\n",
       "        'NAG'],\n",
       "       ['mumbai ranji player swapnil patil will play against india #cricketworldcup #indvsuae',\n",
       "        array([-0.6541325, -2.600937 , -0.9016409], dtype=float32),\n",
       "        'NAG'],\n",
       "       ['in all 6 matches of wc, pak nvr made team india all-out! india made pak all-out 4 tyms in wc(1992,99,2011 &amp; 15)..! #indvspak #cantbeatindia',\n",
       "        array([-0.12872183, -3.9823503 , -2.281414  ], dtype=float32),\n",
       "        'NAG'],\n",
       "       ['uae ka oneday mei lowest score 102 hai aur india ka 54 :) #amazing #indvsuae',\n",
       "        array([-1.3908924, -2.6158965, -0.3885422], dtype=float32),\n",
       "        'CAG'],\n",
       "       ['finally, time to move on to the other game. #indvsuae #cwc15',\n",
       "        array([-0.35206094, -3.4070995 , -1.3332255 ], dtype=float32),\n",
       "        'NAG'],\n",
       "       [\"#indvspak #cwc15 cuts short's adadam lo #raina ki #raina ay poti 👌\",\n",
       "        array([-0.07096612, -4.107567  , -2.955381  ], dtype=float32),\n",
       "        'NAG'],\n",
       "       [\"rt @abreshmina: ooooo... lbw appeal but wasn't given an out .. #indvsuae 3 overs done .. uae 12-1\",\n",
       "        array([-1.2943312 , -2.4721658 , -0.44391948], dtype=float32),\n",
       "        'CAG'],\n",
       "       ['#indvspak #cwc15 come on india roklo #pakistan ko or apni lead ko 6-0 banado #india come on india, india.... india.... india...',\n",
       "        array([-0.08168066, -4.4022346 , -2.7153187 ], dtype=float32),\n",
       "        'NAG'],\n",
       "       ['These anti nationalists just want to destabilize india.so destabilize these anti nationals,act strongly and harshly.. #ShutDownJNU',\n",
       "        array([-4.6022563 , -0.42711833, -1.0859395 ], dtype=float32),\n",
       "        'OAG'],\n",
       "       ['1st drop of the world cup for india..!! #indvsuae',\n",
       "        array([-0.34138867, -3.582798  , -1.3416286 ], dtype=float32),\n",
       "        'NAG'],\n",
       "       [\"People who don't trust Indian Constitution and law n order should either leave India or should be thrown out of India #ShutDownJNU\",\n",
       "        array([-4.690947  , -0.43650693, -1.0655684 ], dtype=float32),\n",
       "        'OAG'],\n",
       "       ['JNU student from Manipur found dead in his hostel room, body taken for post mortem, details awaited #ShutDownJNU',\n",
       "        array([-4.4454374 , -0.563771  , -0.86938584], dtype=float32),\n",
       "        'OAG'],\n",
       "       ['@bhak_sala well NDA=/=JNU: JNU is being opposed 4 antinational activities, #ShutDownJNU NDA pass out will get degree from better place',\n",
       "        array([-4.4048104 , -0.4797627 , -0.99736154], dtype=float32),\n",
       "        'OAG'],\n",
       "       ['why #ShutDownJNU not showing in suggestions? is Twitter run by some liberal?',\n",
       "        array([-4.2559943 , -0.59117466, -0.8389954 ], dtype=float32),\n",
       "        'OAG'],\n",
       "       ['@madam_robena abhi to start hi kiya kohli ny.... abhi dekhna.... dhammaaaaalllllllll #indvspak #pakvsind',\n",
       "        array([-0.07284387, -4.3314924 , -2.862844  ], dtype=float32),\n",
       "        'NAG'],\n",
       "       ['BJP, Nationalist are trending #ShutDownJNU and Gan*** of @AamAadmiParty are busy in #AAPVictoryDay #ShutDownJNU',\n",
       "        array([-4.0293036 , -0.54324216, -0.91291815], dtype=float32),\n",
       "        'OAG'],\n",
       "       ['India so tolerant dat is tolerating bleeding intolerants. Can u expect dis in any nation? Evn country like Bhutan would nevr b. #ShutDownJNU',\n",
       "        array([-4.6030736, -0.5875677, -0.8340156], dtype=float32),\n",
       "        'OAG'],\n",
       "       ['Tragedy with anti national elements is that take the people of Indian for granted #ShutDownJNU #BoycottAAP https:// twitter.com/ranjanagra11/s tatus/697483873366585344 …',\n",
       "        array([-4.524412  , -0.792832  , -0.62250686], dtype=float32),\n",
       "        'CAG'],\n",
       "       ['Nothing new this has been going on for several years in JNU. this is for the first time such things are coming out in public. #ShutDownJNU',\n",
       "        array([-4.7324777 , -0.5308444 , -0.90860254], dtype=float32),\n",
       "        'OAG'],\n",
       "       ['@freeforfrndz @kriti87mishra ghamandi kon ha... uae ya ind #indvsuae',\n",
       "        array([-1.3285166 , -2.3738017 , -0.44316056], dtype=float32),\n",
       "        'CAG'],\n",
       "       ['rt @advancedmaushi: as per virat kohli that was a \"bhak teri maa ka bhos**\" catch #indvspak',\n",
       "        array([-0.05921634, -4.2356653 , -3.1459296 ], dtype=float32),\n",
       "        'NAG'],\n",
       "       ['#captains who won #indvspak wc clash: 1992: azharudin 1996: azharudin 1999: azharudin 2003: gnguly 2011: dhoni 2015: dhoni #wc15',\n",
       "        array([-0.05537057, -4.4694347 , -3.1603281 ], dtype=float32),\n",
       "        'NAG'],\n",
       "       ['JNU to be renamed as RBNU (Raah Bhatkey Naujawan University) #ShutDownJNU',\n",
       "        array([-4.271133 , -0.5526599, -0.8900948], dtype=float32),\n",
       "        'OAG'],\n",
       "       [\"Why isn't there anymore news on. The jnu hunger strike isn't imp to da media anymore i #StandWithJNU\",\n",
       "        array([-3.872092  , -0.67590874, -0.75397784], dtype=float32),\n",
       "        'OAG'],\n",
       "       ['kal to india ka practice match hai.. #indvsuae #iccworldcup2015 let see kal kon kon century marega..!! 😂😂😜😉😁😀😀',\n",
       "        array([-0.48112231, -3.065606  , -1.092774  ], dtype=float32),\n",
       "        'NAG'],\n",
       "       ['missing shewag &amp; ghambhir #indvspak',\n",
       "        array([-0.06212559, -4.152131  , -3.1121693 ], dtype=float32),\n",
       "        'NAG'],\n",
       "       ['keep calm and support team india india..india..india..india..india.. #bleedblue #wontgiveitback #indvsuae #cwc15',\n",
       "        array([-0.5140617, -3.0558207, -1.0360477], dtype=float32),\n",
       "        'NAG'],\n",
       "       ['@amritabhinder: protest outside delhi cm arvind kejriwal’s house over jhuggi demolition http://t.co/jfflud8jkx #kejriuturns #indvspak',\n",
       "        array([-0.1406385, -3.4577692, -2.305622 ], dtype=float32),\n",
       "        'NAG'],\n",
       "       ['I do not want my money to be used for JNU Naxalites and Jihadis #ShutDownJNU @smritiirani @narendramodi @arunjaitley',\n",
       "        array([-4.5375185 , -0.35549733, -1.2431461 ], dtype=float32),\n",
       "        'OAG'],\n",
       "       ['Speaking against Anti-national JNU\" is proof of fascism, speaking against India is Freedom of Expression? #ShutDownJNU\"',\n",
       "        array([-4.867565  , -0.36222252, -1.2167863 ], dtype=float32),\n",
       "        'OAG'],\n",
       "       ['@russelarnold69 namma match ku commentary pannaleiya #indvspak',\n",
       "        array([-0.05610061, -4.4693108 , -3.144214  ], dtype=float32),\n",
       "        'NAG'],\n",
       "       ['@mumbai_chokari do ✌ delhi walo ko 😎 out krne me inke loudey lag gaye 😝 or madarchodo 😴 ko kashmir chahiye 😂 #pakistan #india #indvspak',\n",
       "        array([-0.10637017, -3.930532  , -2.5099173 ], dtype=float32),\n",
       "        'NAG'],\n",
       "       ['@deepak_says hahahaha bt jeetegi to ind hi ❤❤ #indvsuae',\n",
       "        array([-0.21462683, -3.3468304 , -1.8454018 ], dtype=float32),\n",
       "        'NAG'],\n",
       "       ['This is d jnu campus in Delhi. People soughting slogan against India #ShutDownJnu https:// twitter.com/malviyamit/sta tus/697487731081883648 …',\n",
       "        array([-4.353201  , -0.7659546 , -0.64961934], dtype=float32),\n",
       "        'CAG'],\n",
       "       ['live: openers give solid start to indian run chase live scorecard: http://t.co/ab9juihhhw #indvsuae #cwc15',\n",
       "        array([-0.11221016, -4.200429  , -2.3952003 ], dtype=float32),\n",
       "        'NAG'],\n",
       "       ['Stand with jnu #standwithjnu #queer #supporter #spread the #word https:// twitter.com/akhilkatyal/st atus/729599936338268160 …',\n",
       "        array([-0.26810798, -3.344191  , -1.6100076 ], dtype=float32),\n",
       "        'NAG'],\n",
       "       [\"chandu532: rt missiondelhi45: chandu532: ddnewslive: #uhf #indvspak: ravindra jadeja takes umar akmal's (0) wicket. pakistan 105/5 in 25 ov…\",\n",
       "        array([-0.12078609, -4.0326304 , -2.3428981 ], dtype=float32),\n",
       "        'NAG'],\n",
       "       ['_ #ShutdownJNU movement necessary...enough is enough',\n",
       "        array([-4.456351 , -0.6804604, -0.7297872], dtype=float32),\n",
       "        'OAG'],\n",
       "       ['wicket! a raffaelo (0) is out, c ms dhoni b umesh yadav, 7/1 #indvsuae #cwc15',\n",
       "        array([-0.25354192, -3.5756955 , -1.629861  ], dtype=float32),\n",
       "        'NAG'],\n",
       "       ['ra-ha-ne crease pe raha-nahi #indvspak #bleedblue',\n",
       "        array([-0.07233734, -4.4717083 , -2.841207  ], dtype=float32),\n",
       "        'NAG'],\n",
       "       ['hahahahah \"@im_atchu: #indvsuae #waca http://t.co/foll2m06bd oh my god',\n",
       "        array([-0.15643461, -3.6623888 , -2.1274438 ], dtype=float32),\n",
       "        'NAG'],\n",
       "       ['Before JNU Becomes Jihadi Nurturing University #ShutDownJNU .',\n",
       "        array([-4.6521125 , -0.43375313, -1.0718155 ], dtype=float32),\n",
       "        'OAG'],\n",
       "       ['a few months back we had called on to #shutdownjnu , whether it is done ?',\n",
       "        array([-4.575803  , -0.7071756 , -0.69983506], dtype=float32),\n",
       "        'CAG'],\n",
       "       ['#ShutDownJNU send all student who supporting afzal guru before they became terrorist',\n",
       "        array([-4.2997108 , -0.5455122 , -0.89923036], dtype=float32),\n",
       "        'OAG'],\n",
       "       ['Why #ShutdownJNU .... ?? Why not #ShutdownRssNagpurOffice ..... !!!!???? साँपो का अडडा',\n",
       "        array([-3.9878917 , -0.63903326, -0.79041   ], dtype=float32),\n",
       "        'OAG'],\n",
       "       [\"@narendramodi @BJPRajnathSingh @Swamy39 : Please put behind these traitors before its too late. We shouldn't tolerate AntiIndia #ShutDownJNU\",\n",
       "        array([-4.5965047, -0.4856435, -0.9818649], dtype=float32),\n",
       "        'OAG'],\n",
       "       ['today reliance will give 4×score of india mb 3g data. so i want india to bat first...#indvsuae',\n",
       "        array([-2.6979394 , -1.5549845 , -0.32647395], dtype=float32),\n",
       "        'CAG'],\n",
       "       ['The concubine factory #JNU supplies the retards who become naxals/CPI leaders/Presstitutes. #ShutDownJNU https:// twitter.com/KanchanGupta/s tatus/819597065365790720 …',\n",
       "        array([-4.1755967, -0.644888 , -0.7767187], dtype=float32),\n",
       "        'OAG'],\n",
       "       ['#ShutDownJNU fuck antinational bastards',\n",
       "        array([-4.8124657 , -0.46382946, -1.0133486 ], dtype=float32),\n",
       "        'OAG'],\n",
       "       ['#indvspak har gaye na hum ,,,yh sab @impkstani tumhari wja sy howa ha !',\n",
       "        array([-0.15439636, -3.6443598 , -2.1461837 ], dtype=float32),\n",
       "        'NAG'],\n",
       "       ['JawaharlalNehruUniversity became Sex/Naxalite Adda @HRDMinistry Arms , Rape, AntiNational Courses / Trainings #ShutDownJNU @HMOIndia pic.twitter.com/jV4wPVEfxY',\n",
       "        array([-3.9015667 , -0.65561795, -0.7750764 ], dtype=float32),\n",
       "        'OAG'],\n",
       "       ['Hope the nationalist JNU alumini return their degrees, and refuse to accept the same till this anti-nationals are jailed #ShutDownJNU',\n",
       "        array([-4.7171307 , -0.39985627, -1.1374273 ], dtype=float32),\n",
       "        'OAG'],\n",
       "       ['afridi..feeling sorry for u :( .....chal koi na next time :) #indvspak',\n",
       "        array([-0.06426249, -4.614086  , -2.9501867 ], dtype=float32),\n",
       "        'NAG'],\n",
       "       ['Who has indoctrinated & brainwashed these obdurate & cantankerous dimwits? Expel & expunge anything that promotes Sedition. #ShutDownJNU',\n",
       "        array([-4.4742756 , -0.5075707 , -0.95024735], dtype=float32),\n",
       "        'OAG'],\n",
       "       ['#ShutDownJNU #JNURow This time if anti-nationals like #Congress #Rahul #Kejriwal #AAP #CPI come to support send them also to Pakistan... 5/n',\n",
       "        array([-4.2915273 , -0.53350806, -0.9168601 ], dtype=float32),\n",
       "        'OAG'],\n",
       "       ['SHAME on people Like them! #ShutDownJNU',\n",
       "        array([-4.687222  , -0.6311668 , -0.77910376], dtype=float32),\n",
       "        'OAG'],\n",
       "       ['@policybazaar_in kapil dev made us proud #comparekar #indvspak',\n",
       "        array([-0.09146884, -4.2030306 , -2.6247206 ], dtype=float32),\n",
       "        'NAG'],\n",
       "       ['#spectrum4 #cwc15 with ashu, ahti and shah. :d #indvspak http://t.co/niztfhyspy',\n",
       "        array([-0.06030414, -4.13176   , -3.159021  ], dtype=float32),\n",
       "        'NAG'],\n",
       "       ['Episode at #ShutDownJNU confirms wht @Swamy39 has been saying fr a long tym! JNU has bcm a bunch of naxalites& antinationals. Boot them out!',\n",
       "        array([-4.988514  , -0.35021383, -1.2425516 ], dtype=float32),\n",
       "        'OAG'],\n",
       "       ['Hizbul supporters of JNU and their sleeper cells across central universities hell bent on creating chaos. #JNU #ShutDownJNU pic.twitter.com/lNNgw1td76',\n",
       "        array([-4.6961126, -0.4231701, -1.0909357], dtype=float32),\n",
       "        'OAG'],\n",
       "       ['not much excited about #indvsuae. . . only excitement is to watch the new @starsportsindia ad. @icc #cwc15',\n",
       "        array([-0.65958965, -3.0784922 , -0.8280329 ], dtype=float32),\n",
       "        'NAG'],\n",
       "       ['#ShutdownJNU Delhi police should provide police protection to VC.',\n",
       "        array([-4.776395  , -0.49443924, -0.963223  ], dtype=float32),\n",
       "        'OAG'],\n",
       "       ['#ShutDownJNU #ShutDownJNU #ShutDownJNU And arrest those faces shown on media',\n",
       "        array([-4.687718  , -0.4967032 , -0.96165746], dtype=float32),\n",
       "        'OAG'],\n",
       "       ['Who are these #traitors to associate dalits with #terrorist like afzal guru n yakub menon Its an insult to #dalits n INDIA #ShutDownJNU',\n",
       "        array([-4.487177  , -0.5139643 , -0.93999994], dtype=float32),\n",
       "        'OAG'],\n",
       "       ['keep calm and believe #kohli ! ! inneram payan veri yethittu iruppan! ! #indvspak',\n",
       "        array([-0.07303238, -4.163506  , -2.9026725 ], dtype=float32),\n",
       "        'NAG'],\n",
       "       ['#ShutDownJNU What is VC of JNU doing ? he should first restricate them and Police must lodge FIR against all... http:// fb.me/4I393mgHR',\n",
       "        array([-4.714266  , -0.49379623, -0.9656689 ], dtype=float32),\n",
       "        'OAG'],\n",
       "       ['A simple solution: stop all the govt aids. Stop every single tax penny awarded to #JNU Let the motherfuckers pay it themselves. #shutdownjnu',\n",
       "        array([-4.795698 , -0.4473609, -1.0429269], dtype=float32),\n",
       "        'OAG'],\n",
       "       [\"JNU should now start conducting an extra test 'patrotism test' at the time of admsns. spcly for 'peaceful' religion people. #ShutDownJNU\",\n",
       "        array([-4.426311  , -0.48486668, -0.98815686], dtype=float32),\n",
       "        'OAG'],\n",
       "       ['#ShutDownJNU : we will prove ourselves to be eunuchs if we simply let go these perpetrators of sedition.',\n",
       "        array([-4.6657453 , -0.60043585, -0.8164108 ], dtype=float32),\n",
       "        'OAG'],\n",
       "       [\"How can these students roam freely ? Why aren't they behind bars ? #ShutDownJNU\",\n",
       "        array([-4.489266 , -0.6248478, -0.7909183], dtype=float32),\n",
       "        'OAG'],\n",
       "       ['shoaib akhtar all praises for dhoni view here: http://t.co/p7vhnhbjvl #cwc15 #indvspak #pakvsind #wewillbringitback http://t.co/ybvnca69jw',\n",
       "        array([-0.07352328, -4.1282525 , -2.9045312 ], dtype=float32),\n",
       "        'NAG'],\n",
       "       ['Please do that... Asap #ShutDownJNU',\n",
       "        array([-4.5839415 , -0.81943214, -0.5994681 ], dtype=float32),\n",
       "        'CAG'],\n",
       "       [\"didn't get to live tweet during #indvsuae due to college. but luckily i have a holiday on #ind vs #wi , which means i can live tweet! #cwc15\",\n",
       "        array([-1.2926505 , -2.3567457 , -0.46087766], dtype=float32),\n",
       "        'CAG'],\n",
       "       ['#ShutDownJNU trending worldwide at no.5 bhakt power',\n",
       "        array([-3.8788834, -0.8154644, -0.6219578], dtype=float32),\n",
       "        'CAG'],\n",
       "       ['This happens when freedom of speech is taken for granted. #ShutDownJNU',\n",
       "        array([-4.3457146, -0.7431783, -0.6705292], dtype=float32),\n",
       "        'CAG'],\n",
       "       ['tmrw its mauka mauka in waca waca !!! #indvsuae',\n",
       "        array([-0.21189111, -3.4273243 , -1.8421681 ], dtype=float32),\n",
       "        'NAG'],\n",
       "       ['dhoni - meri to batting hi nahi ayegi 😭😭😭😭😭😭😭😭😭😭 #indvsuae',\n",
       "        array([-0.93790996, -1.9244982 , -0.77087975], dtype=float32),\n",
       "        'CAG'],\n",
       "       ['I agree... #ShutDownJNU https:// twitter.com/abhijeetsinger /status/697494818625159168 …',\n",
       "        array([-3.1510093, -1.0658362, -0.489796 ], dtype=float32),\n",
       "        'CAG'],\n",
       "       ['“@djnoreenkhan: this will be an absolute breeze for india #indvsuae”gud job u hav india team in bbc asian network',\n",
       "        array([-0.15608568, -3.6692297 , -2.1284802 ], dtype=float32),\n",
       "        'NAG'],\n",
       "       ['What to say about #ShutDownJNU Just Shut Up.',\n",
       "        array([-4.666343 , -0.567945 , -0.8582469], dtype=float32),\n",
       "        'OAG'],\n",
       "       ['#indvspak dil dil pakistan!! jan jan pakistan!! pakistan make us proud!!!! 💚',\n",
       "        array([-0.23473921, -3.6981764 , -1.6903533 ], dtype=float32),\n",
       "        'NAG'],\n",
       "       ['india 19/0 after 5 overs. #indvsuae dhawan getting into groove. http://t.co/6xjho8cvcx',\n",
       "        array([-0.39626184, -3.3793733 , -1.2272393 ], dtype=float32),\n",
       "        'NAG'],\n",
       "       ['is over mei sure #indiawin #indvspak #cwc15 #india #wewontgiveitback',\n",
       "        array([-0.07052852, -4.272632  , -2.9159284 ], dtype=float32),\n",
       "        'NAG'],\n",
       "       ['napmindia: .NarmadaBachao activist Mansaram extends support to fasting students #StandWithJNU #FightBackJNU pic.twitter.com/bJjg4yuDCB',\n",
       "        array([-0.5317296, -2.5418096, -1.0975477], dtype=float32),\n",
       "        'NAG'],\n",
       "       ['#ShutdownJNU @rajnathsingh pls shut this pak occupied delhi campus. Pls use tax payers money for some national cause.',\n",
       "        array([-4.6398396, -0.4435375, -1.0538915], dtype=float32),\n",
       "        'OAG'],\n",
       "       ['. @ArvindKejriwal & . @AamAadmiParty - does this come under outrage or Dharna category of you guys. Check and confirm. #JNU #ShutdownJNU https:// twitter.com/capt_ivane/sta tus/795529233762091008 …',\n",
       "        array([-4.1303506 , -0.67147726, -0.7487243 ], dtype=float32),\n",
       "        'OAG'],\n",
       "       [\"Any of these boys was my son, I would've shot him myself #ShutDownJNU\",\n",
       "        array([-4.6062603 , -0.50442564, -0.9515071 ], dtype=float32),\n",
       "        'OAG'],\n",
       "       ['Anti-national JNU will never raise voice against something if that is not related to Hinduism. This clearly expose their agenda #ShutDownJNU https:// twitter.com/Aalok_Pradhan/ status/790096114217168896 …',\n",
       "        array([-4.4305563 , -0.60998607, -0.8102797 ], dtype=float32),\n",
       "        'OAG'],\n",
       "       ['feb 14: love day feb 15: pakistan ke loude #indvspak',\n",
       "        array([-0.04855099, -4.7934713 , -3.2414389 ], dtype=float32),\n",
       "        'NAG'],\n",
       "       ['@narendramodi Ji, Indian University,Indian students but support Terrorists ! Shame on JNU Students #ShutDownJNU',\n",
       "        array([-4.6482253 , -0.51531565, -0.9336674 ], dtype=float32),\n",
       "        'OAG'],\n",
       "       ['In solidarity with comrades in #JNU More power to you <3 #StandWithJNU #JNUonHungerStrike #FightBackJNU #struggle https:// twitter.com/prantadarshi/s tatus/729119175545741312 …',\n",
       "        array([-1.4639548 , -2.0275316 , -0.45095384], dtype=float32),\n",
       "        'CAG'],\n",
       "       ['rt @vivekvikramvvs: #indvspak #bleedblue rega jha #mustwatchmsg team india #cwc2015 #kohli kohli is awesome... @newsologic #newsologic v',\n",
       "        array([-0.05505832, -4.532983  , -3.1507146 ], dtype=float32),\n",
       "        'NAG'],\n",
       "       ['now pakistan can hire terrorists from an institution like JNU .. what else they need. #ShutDownJNU',\n",
       "        array([-4.592968  , -0.50731266, -0.9473537 ], dtype=float32),\n",
       "        'OAG'],\n",
       "       ['kajru is getting relief now#indvspak http://t.co/xwqi4mxpq4',\n",
       "        array([-0.05881909, -4.320688  , -3.1273906 ], dtype=float32),\n",
       "        'NAG'],\n",
       "       [\"Comon Modiji don't let pride of the nationalist fall Stop acting like manmohan Let the world see what Modi is @BJPRajnathSingh #ShutDownJNU\",\n",
       "        array([-4.6137123 , -0.43097407, -1.0781944 ], dtype=float32),\n",
       "        'OAG'],\n",
       "       [\"forecast: hindustan zindabad hai, zindabad tha aur zindabad rahega and then dhoni uproots stump in sunny deol's style. #indvspak\",\n",
       "        array([-0.08417037, -4.28368   , -2.7040558 ], dtype=float32),\n",
       "        'NAG'],\n",
       "       ['Crime and punishment: Why the entire JNU administration now faces a crisis of credibility http:// scroll.in/article/807677 /crime-and-punishment-why-the-entire-jnu-administration-now-faces-a-crisis-of-credibility … #StandWithJNU',\n",
       "        array([-3.2683606 , -0.88518333, -0.59912384], dtype=float32),\n",
       "        'CAG'],\n",
       "       ['bhaag bhaag well stoped ashwin! #indvspak',\n",
       "        array([-0.06604104, -4.2373075 , -3.0065677 ], dtype=float32),\n",
       "        'NAG'],\n",
       "       ['The selfishness n vote bank politics by muslim league led 2 d partn of nation am sighting d same if such traitors r nt stopped #ShutDownJNU',\n",
       "        array([-4.4877377 , -0.45968497, -1.0292596 ], dtype=float32),\n",
       "        'OAG'],\n",
       "       ['4 wicket ab to jeet hi jaega india... #indvspak',\n",
       "        array([-0.08197613, -4.5023384 , -2.6938074 ], dtype=float32),\n",
       "        'NAG'],\n",
       "       ['rt garbagebingags: dear pakistan 6-0 hahahhahaha....!!! :d #bleedblue #indvspak http://t.co/yb9mfez1ty',\n",
       "        array([-0.14661697, -3.580516  , -2.220876  ], dtype=float32),\n",
       "        'NAG'],\n",
       "       ['@hstapanghosh If its becoming a high level anti National Madarsa then #ShutDownJNU',\n",
       "        array([-4.472155 , -0.5374583, -0.9054843], dtype=float32),\n",
       "        'OAG'],\n",
       "       [\"world's smallest car, maruti suzuki alto!! #indvspak\",\n",
       "        array([-0.08253577, -4.4596577 , -2.6933308 ], dtype=float32),\n",
       "        'NAG'],\n",
       "       [\"chandu532: ddnewslive: #uhf #indvspak: ravindra jadeja takes umar akmal's (0) wicket. pakistan 105/5 in 25 overs| #cwc15 #worldcup2015\",\n",
       "        array([-0.19329989, -3.9679008 , -1.8524517 ], dtype=float32),\n",
       "        'NAG'],\n",
       "       ['malbarisss will be confused about who to support their home country or their actual home country .. #indvsuae',\n",
       "        array([-2.2851105 , -1.4634459 , -0.40526545], dtype=float32),\n",
       "        'CAG'],\n",
       "       ['medhanarmada: RT napmindia: .NarmadaBachao activist Mansaram extends support to fasting students #StandWithJNU #Fi … pic.twitter.com/bJjg4yuDCB',\n",
       "        array([-0.26476642, -3.013463  , -1.6955755 ], dtype=float32),\n",
       "        'NAG'],\n",
       "       ['keeping in view #petrolpricehike @msdhoni decided to lose all matches against uae in future. #indvsuae',\n",
       "        array([-2.3644824 , -2.2846134 , -0.21792145], dtype=float32),\n",
       "        'CAG'],\n",
       "       ['pakistan has won the toss,what do u select misbah? misbah:kohli dhoni:chutiye gali cricket nahi hai.teams pehle se decided hai #indvspak',\n",
       "        array([-0.42049277, -3.471857  , -1.1640549 ], dtype=float32),\n",
       "        'NAG'],\n",
       "       ['Day12: End the Media Blackout in JNU. #FightBackJNU #WeAreJNU #StandWithJNU @Shehla_Rashid @kanhaiyajnusu pic.twitter.com/LVCYMoZwSc',\n",
       "        array([-1.1315082, -2.3296626, -0.5445117], dtype=float32),\n",
       "        'CAG'],\n",
       "       ['We will keep tweeting & government will keep watching. Nothing is going to happen. You know, we are so tolerant. But please #ShutDownJNU',\n",
       "        array([-4.5127773, -0.7017253, -0.7066323], dtype=float32),\n",
       "        'OAG'],\n",
       "       ['ekk aur.... yayyyyyy kat lo bhencho #indvspak',\n",
       "        array([-0.06863528, -4.3698597 , -2.9247181 ], dtype=float32),\n",
       "        'NAG'],\n",
       "       [\"Anything & everything that has got something to do with the word 'Jawaharlal Nehru' has proved to be insidious for India. #ShutDownJNU\",\n",
       "        array([-4.384469  , -0.67325807, -0.73921967], dtype=float32),\n",
       "        'OAG'],\n",
       "       ['#ShutDownJNU : Parties supporting these traitors should be banned and supporters arrested for the act of sedition.',\n",
       "        array([-4.683174  , -0.44905335, -1.0426526 ], dtype=float32),\n",
       "        'OAG'],\n",
       "       ['Clear intentions: throttle the govt universities and make private profiters flourish #standwithjnu https:// twitter.com/EconomicTimes/ status/743658834074296321 …',\n",
       "        array([-3.8681617, -0.9135139, -0.5481969], dtype=float32),\n",
       "        'CAG'],\n",
       "       ['What Are Vice Chancellors Made Of? http:// lsh.re/1285Z #JNU #StandWithJNU #HCU #WeAreJNU #India #Education #SeditionRow #JNURow',\n",
       "        array([-0.95178616, -2.643559  , -0.6109381 ], dtype=float32),\n",
       "        'CAG'],\n",
       "       ['puli ra vaaduuu..puli. 100 for kohli. king kohli. legend #indvspak #cwc15',\n",
       "        array([-0.05763482, -4.511075  , -3.100674  ], dtype=float32),\n",
       "        'NAG'],\n",
       "       ['@timesofindia who is \"ashwin nehra\" in team india..?...kuchh bhi haan...;)) @ashwinravi99 #indvsuae #indwins #wc2015 http://t.co/z00nygjwp2',\n",
       "        array([-0.09574533, -4.437419  , -2.532272  ], dtype=float32),\n",
       "        'NAG'],\n",
       "       ['Craziest trend I have ever seen #ShutDownJNU @barsha_c14 @mitra_shreya',\n",
       "        array([-4.3803816 , -0.6941907 , -0.71743816], dtype=float32),\n",
       "        'OAG'],\n",
       "       ['#ShutDownJNU also because it has @Shehla_Rashid Madam pehle Wiki/Google kijiye fir boliye. Too much difference in India & Venezuela matter.',\n",
       "        array([-4.3590455 , -0.72819746, -0.68432426], dtype=float32),\n",
       "        'CAG'],\n",
       "       ['who the fu*k cares what JNU is doing? #ShutDownJNU @ArvindKejriwal',\n",
       "        array([-4.7338243, -0.5404593, -0.8947089], dtype=float32),\n",
       "        'OAG'],\n",
       "       ['arvind kejriwal takes charge as the chief minister... #aapkacm #indvspak #indwins #pakvsind #aapkacm http://t.co/hqazjjxogl',\n",
       "        array([-0.11543615, -3.8710918 , -2.428297  ], dtype=float32),\n",
       "        'NAG'],\n",
       "       [\"#ShutDownJNU . #FlashpointAfzal The protesting leaders of students Union of JNU even don't know about the trial proceeding's of AfzalG\",\n",
       "        array([-4.5942583 , -0.43452913, -1.0720072 ], dtype=float32),\n",
       "        'OAG'],\n",
       "       ['Used condoms....wine bottles...anti national slogans ....& nw weapons #ShutDownJNU pic.twitter.com/pBkytnwxkW',\n",
       "        array([-4.3915377, -0.5655729, -0.8684923], dtype=float32),\n",
       "        'OAG'],\n",
       "       ['#ShutDownJNU this stupid antinational university need to be shut down',\n",
       "        array([-4.6575503 , -0.46178663, -1.0206697 ], dtype=float32),\n",
       "        'OAG'],\n",
       "       ['keep calm... ghanta calm its india vs. pakistan! #cwc15 #indvspak',\n",
       "        array([-0.22497532, -3.7741063 , -1.7231305 ], dtype=float32),\n",
       "        'NAG'],\n",
       "       ['rt @k_sundarpandi: waiting for new #maukamauka add,finish it quickly #india #indvsuae',\n",
       "        array([-0.19604483, -3.6537943 , -1.8830072 ], dtype=float32),\n",
       "        'NAG'],\n",
       "       ['RT iNirajVerma: #ShutDownJNU where is #Intolerance bunch of group for reaction abt who un established Indian democ… https:// twitter.com/TimesNow/statu s/697436416658112512 …',\n",
       "        array([-4.694032  , -0.76548845, -0.64294165], dtype=float32),\n",
       "        'CAG'],\n",
       "       ['These rats feeds on our hard earned Taxes and they want to break down our beloved country #ShutDownJNU and strip them of all subsidy',\n",
       "        array([-4.330193  , -0.45189005, -1.0486491 ], dtype=float32),\n",
       "        'OAG'],\n",
       "       ['@mahekchahal @thegautamgulati countdown begin for big match #indvspak or pak ka mauka nhi ayega . http://t.co/bff9qre6rs',\n",
       "        array([-0.08930356, -4.300205  , -2.6329474 ], dtype=float32),\n",
       "        'NAG'],\n",
       "       ['#ShutDownJNU asap. no need to waste tax payers money on these anti Nationals. @narendramodi @PMOIndia @smritiirani',\n",
       "        array([-4.4527493, -0.5341768, -0.9108013], dtype=float32),\n",
       "        'OAG'],\n",
       "       ['pakistan scoring in morse code. dot dot dot dot 4 dot dot dot #indvspak',\n",
       "        array([-0.11488199, -4.4640994 , -2.3329036 ], dtype=float32),\n",
       "        'NAG'],\n",
       "       ['JNUTA Relay Hunger Strike, Day II #StandWithJNU http:// fb.me/7MDL0baev',\n",
       "        array([-0.13134839, -3.985029  , -2.2586083 ], dtype=float32),\n",
       "        'NAG'],\n",
       "       [\"Irony these bunch of idiots don't even know why they're supporting Afzal Guru. Bloody so called intellectual #ShutdownJNU #FlashpointAfzal\",\n",
       "        array([-4.776375  , -0.48801416, -0.9735773 ], dtype=float32),\n",
       "        'OAG'],\n",
       "       ['most hundreds in won odis 33 srt 25 ponting 24 jayasuriya 20 vkohli 18 ganguly 17 h amla #cwc15 #indvspak - rizwan_r-s\"',\n",
       "        array([-0.11030632, -4.2449646 , -2.4067912 ], dtype=float32),\n",
       "        'NAG'],\n",
       "       ['awesome spell from @ashwinravi99 #ind 25 runs &amp; 4 wickets cool #cwc15 @cricketworldcup @bcci #indvsuae #uae',\n",
       "        array([-0.2582235, -3.7168117, -1.5932393], dtype=float32),\n",
       "        'NAG'],\n",
       "       ['misbah is middling it well aam. inime nee vayasuku vandha ena varlina ena. 😂 #indvspak #wontgiveitback #cwc15',\n",
       "        array([-0.0915574, -4.1421595, -2.6366258], dtype=float32),\n",
       "        'NAG'],\n",
       "       [\"With these kinds of acts..we are just easing the job of ISIS! Though don't #ShutDownJNU but take necessary actions agnst this mishappening!\",\n",
       "        array([-4.383823  , -0.51491404, -0.94168425], dtype=float32),\n",
       "        'OAG'],\n",
       "       ['@bcci #indvsuae http://t.co/bnmgzny1px....good news best of luuk team india.',\n",
       "        array([-0.1463964, -4.142151 , -2.1177979], dtype=float32),\n",
       "        'NAG'],\n",
       "       ['@smritiirani these goons can be booked under Section 124-A #ShutDownJNU @Swamy39',\n",
       "        array([-4.4518175, -0.7484744, -0.6630936], dtype=float32),\n",
       "        'CAG'],\n",
       "       ['ye uae ki team lull hai. #indvsuae',\n",
       "        array([-2.2281406 , -2.000371  , -0.27841005], dtype=float32),\n",
       "        'CAG'],\n",
       "       ['These days it is easy to glorify terrorist on the pretext of free speech #ShutDownJNU',\n",
       "        array([-4.611153  , -0.49827737, -0.96107036], dtype=float32),\n",
       "        'OAG'],\n",
       "       ['#ShutDownJNU These traitors should be shot in the head. There are these eunuchs and then there is a real Indian Hanumanthappa.',\n",
       "        array([-4.472973  , -0.62847173, -0.7870618 ], dtype=float32),\n",
       "        'OAG'],\n",
       "       ['tt uk 08:24 1.#thedress 2.#ausvnz 3.#nzvaus 4.#watson27 5.#indvsuae 6.jihadi john 7.boris nemtsov 8.spock 9.starc 10.cage',\n",
       "        array([-0.09477448, -4.527561  , -2.530553  ], dtype=float32),\n",
       "        'NAG'],\n",
       "       ['Where r people who returned awards for #Intorance India now all r quite #shame pls take action @narendramodi @ArvindKejriwal #ShutDownJNU',\n",
       "        array([-4.0012684 , -0.6835026 , -0.74052817], dtype=float32),\n",
       "        'OAG'],\n",
       "       ['#ShutDownJNU do it..',\n",
       "        array([-4.38236   , -0.6500356 , -0.76469254], dtype=float32),\n",
       "        'OAG'],\n",
       "       ['shout it loud. kohli , kohli #indvspak #cwc15',\n",
       "        array([-0.07057696, -4.5446315 , -2.855625  ], dtype=float32),\n",
       "        'NAG'],\n",
       "       [\"Let's Arnab decide fate of JNU on timesnow #ShutDownJNU\",\n",
       "        array([-4.5860243 , -0.53745055, -0.90245974], dtype=float32),\n",
       "        'OAG'],\n",
       "       ['#ShutDownJNU @TimesNow kindly expose students & professor of JNU, there is definitely pakistani link. Tax payers in burden',\n",
       "        array([-4.5832934, -0.4434896, -1.0555935], dtype=float32),\n",
       "        'OAG'],\n",
       "       ['modi n nawaz k phone kya h, bas ab to match fix hgya! #indvspak #justpakistanithings',\n",
       "        array([-0.12011734, -3.6296937 , -2.4457705 ], dtype=float32),\n",
       "        'NAG'],\n",
       "       ['revenge #maukamauka | india #cwc2015 | #wontgiveitback | social message ad https://t.co/iroh2dw4rz #indvsuae',\n",
       "        array([-0.1356478, -3.8288555, -2.2526953], dtype=float32),\n",
       "        'NAG'],\n",
       "       ['Son of a Dalit, Muslim and Terrorist we will help you but Son of a Soldier, we the students of JNU dnt care #ShutDownJNU',\n",
       "        array([-4.5900774 , -0.47777236, -0.995105  ], dtype=float32),\n",
       "        'OAG'],\n",
       "       ['#indvsuae : #uae all out 102... #ashwin 4, jadeja n umesh 2, bhuvi-mohit 1 wickets each',\n",
       "        array([-0.759707 , -2.884735 , -0.7416508], dtype=float32),\n",
       "        'CAG'],\n",
       "       [\"@jyotsnadevi33 @timesofindia This is the culture #JNU imparts. True to the parson after whom it's named. #ShutDownJNU .\",\n",
       "        array([-4.2765455, -0.637071 , -0.7824806], dtype=float32),\n",
       "        'OAG'],\n",
       "       [\"#ShutDownJNU @narendramodi ji in a healthy democracy opposition's voice shld be respected not suppresd\",\n",
       "        array([-4.359928 , -0.5763023, -0.8550825], dtype=float32),\n",
       "        'OAG'],\n",
       "       ['#ShutDownJNU #FlashpointAfzal When ABVP had opposed rohit Vemula 4 supporting afzal, gaddar Aaptards & Chor RAGA gave it a caste twist.',\n",
       "        array([-4.0638103, -0.5402668, -0.9157315], dtype=float32),\n",
       "        'OAG'],\n",
       "       [\"If it's #ShutDownJNU then just punish the CULPRITS. Why such disgusting #ShutDownJNU ??? Fools.\",\n",
       "        array([-4.451772 , -0.5160456, -0.9378569], dtype=float32),\n",
       "        'OAG'],\n",
       "       [\"Sonia's sleeper cell to trigger unrest in INDIA. #Presstitutes #AwardWapsi gang #SeditionGang #shutDownJNU @eparitosh\",\n",
       "        array([-4.265677  , -0.52813166, -0.92570513], dtype=float32),\n",
       "        'OAG'],\n",
       "       ['@starof_eyes : will be online tomorrow during #indvspak ! maukaa.ṁaukaa.ṁaukaa',\n",
       "        array([-0.06076228, -4.669054  , -3.0043306 ], dtype=float32),\n",
       "        'NAG'],\n",
       "       ['These people feeding on taxpayers money and have total disrespect for the nation Hang these rodents #ShutDownJNU https:// twitter.com/MatruBhakt/sta tus/697492951149064192 …',\n",
       "        array([-4.2363167 , -0.56702113, -0.87149274], dtype=float32),\n",
       "        'OAG'],\n",
       "       ['well said Dr. @RakeshSinha01 . we are with u #ShutDownJNU https:// twitter.com/RakeshSinha01/ status/697478911345631232 …',\n",
       "        array([-3.5126758 , -1.1436493 , -0.42843342], dtype=float32),\n",
       "        'CAG'],\n",
       "       [\"I do NOT agree with the top trending #ShutDownJNU . Rather #OpenUpJNU . Its sheer nuisance is the best example of India's unlimited tolerance.\",\n",
       "        array([-4.385441  , -0.66170204, -0.7516873 ], dtype=float32),\n",
       "        'OAG'],\n",
       "       ['dear #starsports team, please dont wait for the match to end, start showing us the next mauka ad :d ;) :d #indvsuae',\n",
       "        array([-0.30391285, -3.5564759 , -1.4544207 ], dtype=float32),\n",
       "        'NAG'],\n",
       "       ['@OfficeOfRG #shutdownJNU u want to rule India by supporting antinational elements that is not possible',\n",
       "        array([-4.6332874, -0.5257664, -0.9183552], dtype=float32),\n",
       "        'OAG'],\n",
       "       ['According to me jnu not any university jnu is a House of Terrorist and traitor.so we want #shutdownjnu',\n",
       "        array([-4.6475315 , -0.60162914, -0.81532276], dtype=float32),\n",
       "        'OAG'],\n",
       "       [\"#ShutDownJNU why BJP is so Defen mod ? HM pls do smtg now what's goin onnnnnn\",\n",
       "        array([-4.7345047 , -0.5326871 , -0.90587574], dtype=float32),\n",
       "        'OAG'],\n",
       "       ['#indvspak mcenroe vs connors, jordan vs johnson, coke vs pepsi, brazil vs argentina, patriots vs packers, bmw vs audi, india vs pakistan.',\n",
       "        array([-0.08770725, -4.378431  , -2.6390939 ], dtype=float32),\n",
       "        'NAG'],\n",
       "       ['best of luck pakistan for today #pakvsind jeetay ga bhai jeetay ga pakistan jeetay ga 🚩 #pakvind #indvspak #cwc15',\n",
       "        array([-0.09236508, -4.4376516 , -2.5717196 ], dtype=float32),\n",
       "        'NAG'],\n",
       "       ['#ShutDownJNU because Indian democracy feel threatened.. Bravo...',\n",
       "        array([-4.6410847 , -0.6875432 , -0.71837693], dtype=float32),\n",
       "        'OAG'],\n",
       "       ['These people are supported by congress and i am sure that congress party will not give any statements against them. #ShutDownJNU',\n",
       "        array([-4.8035955 , -0.47798836, -0.98947895], dtype=float32),\n",
       "        'OAG'],\n",
       "       ['get back to seats. #indvsuae #cwc15 #cwcfantasy',\n",
       "        array([-0.20395134, -3.8091435 , -1.818119  ], dtype=float32),\n",
       "        'NAG'],\n",
       "       ['eeeeeeeee😁 bhuvi is back wit a wicket😆😆 @bhuviofficial 😇 #indvsuae #cwc15',\n",
       "        array([-0.18631151, -3.1801236 , -2.0525706 ], dtype=float32),\n",
       "        'NAG'],\n",
       "       ['Look at the condition of the reviews of the best authors of india !! One ishtaaar!!! #ShutDownJNU pic.twitter.com/aihKF4BQ0T',\n",
       "        array([-3.6253037 , -0.9129571 , -0.55857545], dtype=float32),\n",
       "        'CAG']], dtype=object)"
      ]
     },
     "execution_count": 32,
     "metadata": {},
     "output_type": "execute_result"
    }
   ],
   "source": [
    "x"
   ]
  },
  {
   "cell_type": "code",
   "execution_count": 33,
   "metadata": {
    "colab": {},
    "colab_type": "code",
    "id": "gt9kwgP_DlBs"
   },
   "outputs": [],
   "source": [
    "tweets = []\n",
    "predicted_sentiment = []\n",
    "for i in range(len(predictions)):\n",
    "    tweets.append(predictions[i][0])\n",
    "    predicted_sentiment.append(predictions[i][2])"
   ]
  },
  {
   "cell_type": "code",
   "execution_count": 37,
   "metadata": {
    "colab": {},
    "colab_type": "code",
    "id": "vQYacillITa4"
   },
   "outputs": [],
   "source": [
    "output_dict = {'tweets' : tweets, 'predicted_sentiment' : predicted_sentiment}"
   ]
  },
  {
   "cell_type": "code",
   "execution_count": 39,
   "metadata": {},
   "outputs": [
    {
     "name": "stdout",
     "output_type": "stream",
     "text": [
      "BERTMelon.ipynb  data  model  output  README.md\r\n"
     ]
    }
   ],
   "source": [
    "!mkdir output"
   ]
  },
  {
   "cell_type": "code",
   "execution_count": 40,
   "metadata": {
    "colab": {},
    "colab_type": "code",
    "id": "Nt0OfBbRD5vl"
   },
   "outputs": [],
   "source": [
    "pd.DataFrame(output_dict).to_excel('output/output_bert.xlsx', index = False)"
   ]
  }
 ],
 "metadata": {
  "accelerator": "TPU",
  "colab": {
   "collapsed_sections": [],
   "machine_shape": "hm",
   "name": "Spicy Cherry.ipynb",
   "private_outputs": true,
   "provenance": []
  },
  "kernelspec": {
   "display_name": "Python 3",
   "language": "python",
   "name": "python3"
  },
  "language_info": {
   "codemirror_mode": {
    "name": "ipython",
    "version": 3
   },
   "file_extension": ".py",
   "mimetype": "text/x-python",
   "name": "python",
   "nbconvert_exporter": "python",
   "pygments_lexer": "ipython3",
   "version": "3.7.3"
  }
 },
 "nbformat": 4,
 "nbformat_minor": 1
}
